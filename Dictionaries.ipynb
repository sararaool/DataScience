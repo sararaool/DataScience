{
 "cells": [
  {
   "cell_type": "markdown",
   "metadata": {},
   "source": [
    "### A Simple Dictionary"
   ]
  },
  {
   "cell_type": "code",
   "execution_count": 12,
   "metadata": {},
   "outputs": [
    {
     "name": "stdout",
     "output_type": "stream",
     "text": [
      "green\n",
      "5\n"
     ]
    }
   ],
   "source": [
    "alien_0 = {'color': 'green', 'points': 5}\n",
    "\n",
    "print(alien_0['color'])\n",
    "print(alien_0['points'])"
   ]
  },
  {
   "cell_type": "markdown",
   "metadata": {},
   "source": [
    "A dictionary in Python is a collection of key-value pairs. Each key is connected\n",
    "to a value, and you can use a key to access the value associated with that key\n",
    "\n",
    "A key’s value can be a number, a string, a list, or even another dictionary.\n",
    "In fact, you can use any object that you can create in Python as a value in a\n",
    "dictionary.\n",
    "\n",
    "a dictionary is wrapped in braces, {}, with a series of keyvalue pairs inside the braces\n",
    "\n",
    "A key-value pair is a set of values associated with each other. When you\n",
    "provide a key, Python returns the value associated with that key. Every key\n",
    "is connected to its value by a colon, and individual key-value pairs are separated by commas. You can store as many key-value pairs as you want in a\n",
    "dictionary"
   ]
  },
  {
   "cell_type": "markdown",
   "metadata": {},
   "source": [
    "### Accessing Values in a Dictionary"
   ]
  },
  {
   "cell_type": "markdown",
   "metadata": {},
   "source": [
    "To get the value associated with a key, give the name of the dictionary and\n",
    "then place the key inside a set of square brackets"
   ]
  },
  {
   "cell_type": "code",
   "execution_count": 13,
   "metadata": {},
   "outputs": [
    {
     "name": "stdout",
     "output_type": "stream",
     "text": [
      "green\n"
     ]
    }
   ],
   "source": [
    "alien_0 = {'color': 'green'}\n",
    "print(alien_0['color'])"
   ]
  },
  {
   "cell_type": "markdown",
   "metadata": {},
   "source": [
    "You can have an unlimited number of key-value pairs in a dictionary. "
   ]
  },
  {
   "cell_type": "code",
   "execution_count": 14,
   "metadata": {},
   "outputs": [
    {
     "name": "stdout",
     "output_type": "stream",
     "text": [
      "You just earned 5 points!\n"
     ]
    }
   ],
   "source": [
    "alien_0 = {'color': 'green', 'points': 5}\n",
    "\n",
    "#If a player shoots down this alien, you can look up how many points they shouldearn using code like this:\n",
    "new_points = alien_0['points']\n",
    "print(\"You just earned \" + str(new_points) + \" points!\")"
   ]
  },
  {
   "cell_type": "markdown",
   "metadata": {},
   "source": [
    "### Adding New Key-Value Pairs"
   ]
  },
  {
   "cell_type": "markdown",
   "metadata": {},
   "source": [
    "Dictionaries are dynamic structures, and you can add new key-value pairs\n",
    "to a dictionary at any time\n",
    "\n",
    "To add a new key-value pair, you\n",
    "would give the name of the dictionary followed by the new key in square\n",
    "brackets along with the new value."
   ]
  },
  {
   "cell_type": "code",
   "execution_count": 15,
   "metadata": {},
   "outputs": [
    {
     "name": "stdout",
     "output_type": "stream",
     "text": [
      "{'color': 'green', 'points': 5}\n",
      "{'color': 'green', 'points': 5, 'x_position': 0, 'y_position': 25}\n"
     ]
    }
   ],
   "source": [
    "alien_0 = {'color': 'green', 'points': 5}\n",
    "print(alien_0)\n",
    "\n",
    "alien_0['x_position'] = 0\n",
    "alien_0['y_position'] = 25\n",
    "print(alien_0)"
   ]
  },
  {
   "cell_type": "markdown",
   "metadata": {},
   "source": [
    "we add a new key-value pair to the dictionary: key 'x_position'\n",
    "and value 0. We do the same for key 'y_position'"
   ]
  },
  {
   "cell_type": "markdown",
   "metadata": {},
   "source": [
    "### Starting with an Empty Dictionary"
   ]
  },
  {
   "cell_type": "markdown",
   "metadata": {},
   "source": [
    "Define a dictionary with an empty set of braces and then add each key-value\n",
    "pair on its own line."
   ]
  },
  {
   "cell_type": "code",
   "execution_count": 16,
   "metadata": {},
   "outputs": [
    {
     "name": "stdout",
     "output_type": "stream",
     "text": [
      "{'color': 'green', 'points': 5}\n"
     ]
    }
   ],
   "source": [
    "alien_0 = {}\n",
    "\n",
    "alien_0['color'] = 'green'\n",
    "alien_0['points'] = 5\n",
    "print(alien_0)"
   ]
  },
  {
   "cell_type": "markdown",
   "metadata": {},
   "source": [
    "you’ll use empty dictionaries when storing user-supplied data\n",
    "in a dictionary or when you write code that generates a large number of\n",
    "key-value pairs automatically."
   ]
  },
  {
   "cell_type": "markdown",
   "metadata": {},
   "source": [
    "### Modifying Values in a Dictionary"
   ]
  },
  {
   "cell_type": "markdown",
   "metadata": {},
   "source": [
    "To modify a value in a dictionary, give the name of the dictionary with the\n",
    "key in square brackets and then the new value you want associated with\n",
    "that key. "
   ]
  },
  {
   "cell_type": "code",
   "execution_count": 17,
   "metadata": {},
   "outputs": [
    {
     "name": "stdout",
     "output_type": "stream",
     "text": [
      "The alien is green.\n",
      "The alien is now yellow.\n"
     ]
    }
   ],
   "source": [
    "alien_0 = {'color': 'green'}\n",
    "print(\"The alien is \" + alien_0['color'] + \".\")\n",
    "\n",
    "alien_0['color'] = 'yellow'\n",
    "print(\"The alien is now \" + alien_0['color'] + \".\")"
   ]
  },
  {
   "cell_type": "markdown",
   "metadata": {},
   "source": [
    "We first define a dictionary for alien_0 that contains only the alien’s\n",
    "color; then we change the value associated with the key 'color' to 'yellow'."
   ]
  },
  {
   "cell_type": "markdown",
   "metadata": {},
   "source": [
    "example, let’s track the position of an alien that\n",
    "can move at different speeds. We’ll store a value representing the alien’s\n",
    "current speed and then use it to determine how far to the right the alien\n",
    "should move:"
   ]
  },
  {
   "cell_type": "code",
   "execution_count": 18,
   "metadata": {},
   "outputs": [
    {
     "name": "stdout",
     "output_type": "stream",
     "text": [
      "Original x-position: 0\n",
      "New x-position: 2\n"
     ]
    }
   ],
   "source": [
    "alien_0 = {'x_position': 0, 'y_position': 25, 'speed': 'medium'}\n",
    "print(\"Original x-position: \" + str(alien_0['x_position']))\n",
    "\n",
    "#Move the alien to the right\n",
    "#Determine how far to move the alien based on its current position\n",
    "\n",
    "if alien_0['speed'] == 'slow':\n",
    "    x_increment = 1\n",
    "elif alien_0['speed'] == 'medium':\n",
    "    x_increment = 2\n",
    "else:\n",
    "    x_increment = 3\n",
    "    \n",
    "\n",
    "#The new position is the old position plus the increment    \n",
    "\n",
    "alien_0['x_position'] = alien_0['x_position'] + x_increment\n",
    "print(\"New x-position: \" + str(alien_0['x_position']))"
   ]
  },
  {
   "cell_type": "markdown",
   "metadata": {},
   "source": [
    "We start by defining an alien with an initial x position and y position,\n",
    "and a speed of 'medium'. We’ve omitted the color and point values for the\n",
    "sake of simplicity, but this example would work the same way if you included\n",
    "those key-value pairs as well. We also print the original value of x_position to\n",
    "see how far the alien moves to the right.\n",
    "Then, an if-elif-else chain determines how far the alien should move to\n",
    "the right and stores this value in the variable x_increment. If the alien’s speed\n",
    "is 'slow', it moves one unit to the right; if the speed is 'medium', it moves two\n",
    "units to the right; and if it’s 'fast', it moves three units to the right. Once\n",
    "the increment has been calculated, it’s added to the value of x_position ,\n",
    "and the result is stored in the dictionary’s x_position.\n",
    "Because this is a medium-speed alien, its position shifts two units to the\n",
    "right:\n"
   ]
  },
  {
   "cell_type": "markdown",
   "metadata": {},
   "source": [
    "This technique is pretty cool: by changing one value in the alien’s dictionary, you can change the overall behavior of the alien. For example, to\n",
    "turn this medium-speed alien into a fast alien, you would add the line:\n"
   ]
  },
  {
   "cell_type": "code",
   "execution_count": 19,
   "metadata": {},
   "outputs": [
    {
     "name": "stdout",
     "output_type": "stream",
     "text": [
      "Original x-position: 0\n",
      "New x-position: 3\n"
     ]
    }
   ],
   "source": [
    "alien_0 = {'x_position': 0, 'y_position': 25, 'speed': 'fast'}\n",
    "print(\"Original x-position: \" + str(alien_0['x_position']))\n",
    "\n",
    "#Move the alien to the right\n",
    "#Determine how far to move the alien based on its current position\n",
    "\n",
    "if alien_0['speed'] == 'slow':\n",
    "    x_increment = 1\n",
    "elif alien_0['speed'] == 'medium':\n",
    "    x_increment = 2\n",
    "else:\n",
    "    x_increment = 3\n",
    "    \n",
    "\n",
    "#The new position is the old position plus the increment    \n",
    "\n",
    "alien_0['x_position'] = alien_0['x_position'] + x_increment\n",
    "print(\"New x-position: \" + str(alien_0['x_position']))"
   ]
  },
  {
   "cell_type": "markdown",
   "metadata": {},
   "source": [
    "### Removing Key-Value Pairs"
   ]
  },
  {
   "cell_type": "markdown",
   "metadata": {},
   "source": [
    "When you no longer need a piece of information that’s stored in a dictionary, you can use the del statement to completely remove a key-value pair"
   ]
  },
  {
   "cell_type": "raw",
   "metadata": {},
   "source": [
    "When you no longer need a piece of information that’s stored in a dictionary, you can use the del statement to completely remove a key-value pair"
   ]
  },
  {
   "cell_type": "code",
   "execution_count": 20,
   "metadata": {},
   "outputs": [
    {
     "name": "stdout",
     "output_type": "stream",
     "text": [
      "{'color': 'green', 'points': 5}\n",
      "{'points': 5}\n"
     ]
    }
   ],
   "source": [
    "alien_0 = {'color': 'green', 'points': 5}\n",
    "print(alien_0)\n",
    "\n",
    "del alien_0['color']\n",
    "print(alien_0)"
   ]
  },
  {
   "cell_type": "markdown",
   "metadata": {},
   "source": [
    "Be aware that the deleted key-value pair is removed permanently"
   ]
  },
  {
   "cell_type": "markdown",
   "metadata": {},
   "source": [
    "### A Dictionary of Similar Objects"
   ]
  },
  {
   "cell_type": "code",
   "execution_count": 21,
   "metadata": {},
   "outputs": [
    {
     "name": "stdout",
     "output_type": "stream",
     "text": [
      "Sara's favourite language is Python .\n"
     ]
    }
   ],
   "source": [
    "fav_languages = {\n",
    "    'sara': 'python',\n",
    "    'vishnu': 'C#',\n",
    "    'divya': 'pearl',\n",
    "    'zameera': 'java'\n",
    "}\n",
    "\n",
    "print(\"Sara's favourite language is \" + \n",
    "     fav_languages['sara'].title() + \n",
    "     \" .\")"
   ]
  },
  {
   "cell_type": "markdown",
   "metadata": {},
   "source": [
    "As you can see, we’ve broken a larger dictionary into several lines. Each\n",
    "key is the name of a person who responded to the poll, and each value is their\n",
    "language choice. When you know you’ll need more than one line to define\n",
    "a dictionary, press enter after the opening brace. Then indent the next\n",
    "line one level (four spaces), and write the first key-value pair, followed by\n",
    "a comma"
   ]
  },
  {
   "cell_type": "markdown",
   "metadata": {},
   "source": [
    "This example also shows how you can break up a long print statement\n",
    "over several lines. The word print is shorter than most dictionary names, so\n",
    "it makes sense to include the first part of what you want to print right after\n",
    "the opening parenthesis . Choose an appropriate point at which to break\n",
    "what’s being printed, and add a concatenation operator (+) at the end of\n",
    "the first line . Press enter and then press tab to align all subsequent lines\n",
    "at one indentation level under the print statement. When you’ve finished\n",
    "composing your output, you can place the closing parenthesis on the last\n",
    "line of the print block ."
   ]
  },
  {
   "cell_type": "raw",
   "metadata": {},
   "source": [
    "6-1. Person: Use a dictionary to store information about a person you know.\n",
    "Store their first name, last name, age, and the city in which they live. You\n",
    "should have keys such as first_name, last_name, age, and city. Print each\n",
    "piece of information stored in your dictionary."
   ]
  },
  {
   "cell_type": "code",
   "execution_count": 22,
   "metadata": {},
   "outputs": [
    {
     "name": "stdout",
     "output_type": "stream",
     "text": [
      "Name of candidate is Vishnu Nair\n",
      "Vishnu is 22 years old and lives in Kalyan.\n"
     ]
    }
   ],
   "source": [
    "person = {\n",
    "    'first_name': 'Vishnu',\n",
    "    'last_name': 'nair',\n",
    "    'age': 22,\n",
    "    'city': 'kalyan'\n",
    "}\n",
    "\n",
    "print(\"Name of candidate is \" + person['first_name'].title() +\" \" + person['last_name'].title())\n",
    "print(person['first_name'] + \" is \" + str(person['age']) + \" years old and lives in \" + person['city'].title() + \".\")                                                                        "
   ]
  },
  {
   "cell_type": "raw",
   "metadata": {},
   "source": [
    "6-2. Favorite Numbers: Use a dictionary to store people’s favorite numbers.\n",
    "Think of five names, and use them as keys in your dictionary. Think of a favorite\n",
    "number for each person, and store each as a value in your dictionary. Print\n",
    "each person’s name and their favorite number. For even more fun, poll a few\n",
    "friends and get some actual data for your program."
   ]
  },
  {
   "cell_type": "code",
   "execution_count": 23,
   "metadata": {},
   "outputs": [
    {
     "name": "stdout",
     "output_type": "stream",
     "text": [
      "Sara's favourite number is 3.\n",
      "Saee's favourite number is 4.\n",
      "Ayush's favourite number is 1.\n",
      "Sakshi's favourite number is 16.\n",
      "Amma's favourite number is 14.\n"
     ]
    }
   ],
   "source": [
    "fav_numbers = {\n",
    "    'sara': 3,\n",
    "    'saee': 4,\n",
    "    'ayush': 1,\n",
    "    'sakshi': 16,\n",
    "    'amma': 14,\n",
    "}\n",
    "print(\"Sara's favourite number is \" + str(fav_numbers['sara']) + \".\")\n",
    "print(\"Saee's favourite number is \" + str(fav_numbers['saee']) + \".\")\n",
    "print(\"Ayush's favourite number is \" + str(fav_numbers['ayush']) + \".\")\n",
    "print(\"Sakshi's favourite number is \" + str(fav_numbers['sakshi']) + \".\")\n",
    "print(\"Amma's favourite number is \" + str(fav_numbers['amma']) + \".\")"
   ]
  },
  {
   "cell_type": "raw",
   "metadata": {},
   "source": [
    "6-3. Glossary: A Python dictionary can be used to model an actual dictionary.\n",
    "However, to avoid confusion, let’s call it a glossary.\n",
    "\n",
    "•\t Think of five programming words you’ve learned about in the previous\n",
    "chapters. Use these words as the keys in your glossary, and store their\n",
    "meanings as values.\n",
    "•\t Print each word and its meaning as neatly formatted output. You might\n",
    "print the word followed by a colon and then its meaning, or print the word\n",
    "on one line and then print its meaning indented on a second line. Use the\n",
    "newline character (\\n) to insert a blank line between each word-meaning\n",
    "pair in your output."
   ]
  },
  {
   "cell_type": "code",
   "execution_count": 24,
   "metadata": {},
   "outputs": [
    {
     "name": "stdout",
     "output_type": "stream",
     "text": [
      "Range:\n",
      " function for generating series of numbers.\n",
      "\n",
      "Min:\n",
      " function to find minimum of all numbers.\n",
      "\n",
      "Max:\n",
      " function to find maximum of all numbers.\n",
      "\n",
      "Sum:\n",
      " function to generate total.\n",
      "\n",
      "Len:\n",
      " gives length of the object.\n"
     ]
    }
   ],
   "source": [
    "glossary = {\n",
    "    'range': 'function for generating series of numbers.',\n",
    "    'min': 'function to find minimum of all numbers.',\n",
    "    'max': 'function to find maximum of all numbers.',\n",
    "    'sum': 'function to generate total.',\n",
    "    'len': 'gives length of the object.'   \n",
    "}\n",
    "print(\"Range:\\n\", glossary['range'])\n",
    "print(\"\\nMin:\\n\", glossary['min'])\n",
    "print(\"\\nMax:\\n\", glossary['max'])\n",
    "print(\"\\nSum:\\n\", glossary['sum'])\n",
    "print(\"\\nLen:\\n\", glossary['len'])"
   ]
  },
  {
   "cell_type": "markdown",
   "metadata": {},
   "source": [
    "# Looping Through a Dictionary"
   ]
  },
  {
   "cell_type": "markdown",
   "metadata": {},
   "source": [
    "### Looping Through All Key-Value Pairs"
   ]
  },
  {
   "cell_type": "markdown",
   "metadata": {},
   "source": [
    "let’s consider a\n",
    "new dictionary designed to store information about a user on a website.\n",
    "The following dictionary would store one person’s username, first name,\n",
    "and last name:\n"
   ]
  },
  {
   "cell_type": "code",
   "execution_count": 25,
   "metadata": {},
   "outputs": [
    {
     "name": "stdout",
     "output_type": "stream",
     "text": [
      "\n",
      "Key: username\n",
      "Value: sraool\n",
      "\n",
      "Key: first\n",
      "Value: sara\n",
      "\n",
      "Key: last\n",
      "Value: raool\n"
     ]
    }
   ],
   "source": [
    "user_0 = {\n",
    "    'username': 'sraool',\n",
    "    'first': 'sara',\n",
    "    'last': 'raool'\n",
    "}\n",
    "for key, value in user_0.items():\n",
    "    print('\\nKey:', key)\n",
    "    print('Value:', value)\n"
   ]
  },
  {
   "cell_type": "markdown",
   "metadata": {},
   "source": [
    "To write a for loop for a dictionary, you create names for\n",
    "the two variables that will hold the key and value in each key-value pair. You\n",
    "can choose any names you want for these two variables.\n",
    "\n",
    "The second half of the for statement at u includes the name of the dictionary followed by the method items(), which returns a list of key-value pairs.\n",
    "The for loop then stores each of these pairs in the two variables provided."
   ]
  },
  {
   "cell_type": "code",
   "execution_count": 26,
   "metadata": {
    "scrolled": true
   },
   "outputs": [
    {
     "name": "stdout",
     "output_type": "stream",
     "text": [
      "Jen's favorite language is Python.\n",
      "Sarah's favorite language is C.\n",
      "Edward's favorite language is Ruby.\n",
      "Phil's favorite language is Python.\n"
     ]
    }
   ],
   "source": [
    "favorite_languages = {\n",
    "    'jen': 'python',\n",
    "    'sarah': 'c',\n",
    "    'edward': 'ruby',\n",
    "    'phil': 'python',\n",
    "}\n",
    "for name, language in favorite_languages.items():\n",
    "    print(name.title() + \"'s favorite language is \" + \n",
    "         language.title() + \".\")\n",
    "    "
   ]
  },
  {
   "cell_type": "markdown",
   "metadata": {},
   "source": [
    "looped through each key-value pair in\n",
    "the dictionary. As it works through each pair the key is stored in the variable name, and the value is stored in the variable language"
   ]
  },
  {
   "cell_type": "markdown",
   "metadata": {},
   "source": [
    "### Looping Through All the Keys in a Dictionary"
   ]
  },
  {
   "cell_type": "code",
   "execution_count": 27,
   "metadata": {},
   "outputs": [
    {
     "name": "stdout",
     "output_type": "stream",
     "text": [
      "Jen\n",
      "Sarah\n",
      "Edward\n",
      "Phil\n"
     ]
    }
   ],
   "source": [
    "favorite_languages = {\n",
    "    'jen': 'python',\n",
    "    'sarah': 'c',\n",
    "    'edward': 'ruby',\n",
    "    'phil': 'python',\n",
    "}\n",
    "for name in favorite_languages.keys():\n",
    "    print(name.title())"
   ]
  },
  {
   "cell_type": "markdown",
   "metadata": {},
   "source": [
    "The keys() method is useful when you don’t need to work with all of the\n",
    "values in a dictionary.\n",
    "\n",
    "Looping through the keys is actually the default behavior when looping\n",
    "through a dictionary, so this code would have exactly the same output if you\n",
    "wrote .\n",
    "\n",
    "for name in favorite_languages:"
   ]
  },
  {
   "cell_type": "code",
   "execution_count": 28,
   "metadata": {},
   "outputs": [
    {
     "name": "stdout",
     "output_type": "stream",
     "text": [
      "Jen\n",
      "Sarah\n",
      "Edward\n",
      "Phil\n"
     ]
    }
   ],
   "source": [
    "favorite_languages = {\n",
    "    'jen': 'python',\n",
    "    'sarah': 'c',\n",
    "    'edward': 'ruby',\n",
    "    'phil': 'python',\n",
    "}\n",
    "for name in favorite_languages:\n",
    "    print(name.title())"
   ]
  },
  {
   "cell_type": "code",
   "execution_count": 29,
   "metadata": {
    "scrolled": true
   },
   "outputs": [
    {
     "name": "stdout",
     "output_type": "stream",
     "text": [
      "Jen\n",
      "Hey Jen! You're fav language is Python.\n",
      "Sarah\n",
      "Hey Sarah! You're fav language is C.\n",
      "Edward\n",
      "Phil\n"
     ]
    }
   ],
   "source": [
    "favorite_languages = {\n",
    "    'jen': 'python',\n",
    "    'sarah': 'c',\n",
    "    'edward': 'ruby',\n",
    "    'phil': 'python',\n",
    "}\n",
    "friends = ['sarah', 'jen']\n",
    "for name in favorite_languages.keys():\n",
    "    print(name.title())\n",
    "    \n",
    "    if name in friends:\n",
    "        print(\"Hey \" + name.title() + \"! You're fav language is \" + favorite_languages[name].title() + \".\")"
   ]
  },
  {
   "cell_type": "markdown",
   "metadata": {},
   "source": [
    " use the keys() method to find out if a particular person\n",
    "was polled. This time, let’s find out if Erin took the poll:"
   ]
  },
  {
   "cell_type": "code",
   "execution_count": 30,
   "metadata": {},
   "outputs": [
    {
     "name": "stdout",
     "output_type": "stream",
     "text": [
      "Anagha, please take the pool.\n"
     ]
    }
   ],
   "source": [
    "fav_languages = {\n",
    "    'rohit': 'java',\n",
    "    'sara': 'python',\n",
    "    'saee': 'pearl',\n",
    "    'sakshi': 'react'\n",
    "}\n",
    "if 'anagha' not in  fav_languages.keys():\n",
    "    print('Anagha, please take the pool.')"
   ]
  },
  {
   "cell_type": "markdown",
   "metadata": {},
   "source": [
    "### Looping Through a Dictionary’s Keys in Order"
   ]
  },
  {
   "cell_type": "markdown",
   "metadata": {},
   "source": [
    "the sorted() function around the dictionary.keys() method. This tells Python\n",
    "to list all keys in the dictionary and sort that list before looping through it. "
   ]
  },
  {
   "cell_type": "code",
   "execution_count": 31,
   "metadata": {},
   "outputs": [
    {
     "name": "stdout",
     "output_type": "stream",
     "text": [
      "Aakasi, thanks for taking the pool.\n",
      "Esha, thanks for taking the pool.\n",
      "Rohit, thanks for taking the pool.\n",
      "Sara, thanks for taking the pool.\n"
     ]
    }
   ],
   "source": [
    "fav_languages = {\n",
    "    'rohit': 'java',\n",
    "    'sara': 'python',\n",
    "    'esha': 'pearl',\n",
    "    'aakasi': 'react'\n",
    "}\n",
    "for name in sorted(fav_languages.keys()):\n",
    "    print(name.title() + \", thanks for taking the pool.\")"
   ]
  },
  {
   "cell_type": "markdown",
   "metadata": {},
   "source": [
    "### Looping Through All Values in a Dictionary"
   ]
  },
  {
   "cell_type": "markdown",
   "metadata": {},
   "source": [
    " use the values() method to return a list of values without any keys. \n"
   ]
  },
  {
   "cell_type": "code",
   "execution_count": 32,
   "metadata": {},
   "outputs": [
    {
     "name": "stdout",
     "output_type": "stream",
     "text": [
      "The following languages have been mentioned:\n",
      "Java\n",
      "Python\n",
      "Pearl\n",
      "React\n",
      "Pearl\n"
     ]
    }
   ],
   "source": [
    "fav_languages = {\n",
    "    'rohit': 'java',\n",
    "    'sara': 'python',\n",
    "    'esha': 'pearl',\n",
    "    'aakasi': 'react',\n",
    "    'sejal': 'pearl'\n",
    "}\n",
    "print('The following languages have been mentioned:')\n",
    "for languages in fav_languages.values():\n",
    "    print(languages.title())"
   ]
  },
  {
   "cell_type": "markdown",
   "metadata": {},
   "source": [
    "This approach pulls all the values from the dictionary without checking\n",
    "for repeats.\n",
    "When you wrap set() around a list that contains duplicate items, Python\n",
    "identifies the unique items in the list and builds a set from those items. "
   ]
  },
  {
   "cell_type": "code",
   "execution_count": 33,
   "metadata": {},
   "outputs": [
    {
     "name": "stdout",
     "output_type": "stream",
     "text": [
      "The following languages have been mentioned:\n",
      "Java\n",
      "Python\n",
      "Pearl\n",
      "React\n"
     ]
    }
   ],
   "source": [
    "fav_languages = {\n",
    "    'rohit': 'java',\n",
    "    'sara': 'python',\n",
    "    'esha': 'pearl',\n",
    "    'aakasi': 'react',\n",
    "    'sejal': 'pearl'\n",
    "}\n",
    "print('The following languages have been mentioned:')\n",
    "for languages in set(fav_languages.values()):\n",
    "    print(languages.title())"
   ]
  },
  {
   "cell_type": "raw",
   "metadata": {},
   "source": [
    "6-4. Glossary 2: Now that you know how to loop through a dictionary, clean\n",
    "up the code from Exercise 6-3 (page 102) by replacing your series of print\n",
    "statements with a loop that runs through the dictionary’s keys and values.\n",
    "When you’re sure that your loop works, add five more Python terms to your\n",
    "glossary. When you run your program again, these new words and meanings\n",
    "should automatically be included in the output."
   ]
  },
  {
   "cell_type": "code",
   "execution_count": 34,
   "metadata": {
    "scrolled": true
   },
   "outputs": [
    {
     "name": "stdout",
     "output_type": "stream",
     "text": [
      "\n",
      " Range : function for generating series of numbers.\n",
      "\n",
      " Min : function to find minimum of all numbers.\n",
      "\n",
      " Max : function to find maximum of all numbers.\n",
      "\n",
      " Sum : function to generate total.\n",
      "\n",
      " Len : gives length of the object.\n",
      "\n",
      " Set : identifies unique itemin a list and builds a set from those items\n",
      "\n",
      " Values : method to return list of values without any keys\n",
      "\n",
      " Keys : method returns keys form dictionary\n",
      "\n",
      " Items : method returns list of key-value pairs\n"
     ]
    }
   ],
   "source": [
    "glossary = {\n",
    "    'range': 'function for generating series of numbers.',\n",
    "    'min': 'function to find minimum of all numbers.',\n",
    "    'max': 'function to find maximum of all numbers.',\n",
    "    'sum': 'function to generate total.',\n",
    "    'len': 'gives length of the object.',\n",
    "    'set': 'identifies unique itemin a list and builds a set from those items',\n",
    "    'values': 'method to return list of values without any keys',\n",
    "    'keys': 'method returns keys form dictionary',\n",
    "    'items': 'method returns list of key-value pairs'\n",
    "}\n",
    "for key, value in glossary.items():\n",
    "    print(\"\\n\", key.title(), \":\", value)"
   ]
  },
  {
   "cell_type": "raw",
   "metadata": {},
   "source": [
    "6-5. Rivers: Make a dictionary containing three major rivers and the country\n",
    "each river runs through. One key-value pair might be 'nile': 'egypt'.\n",
    "•\t Use a loop to print a sentence about each river, such as The Nile runs\n",
    "through Egypt.\n",
    "•\t Use a loop to print the name of each river included in the dictionary.\n",
    "•\t Use a loop to print the name of each country included in the dictionary"
   ]
  },
  {
   "cell_type": "code",
   "execution_count": 35,
   "metadata": {},
   "outputs": [
    {
     "name": "stdout",
     "output_type": "stream",
     "text": [
      "The Ganga runs through India .\n",
      "The Bramhaputra runs through China .\n",
      "The Nile runs through Egypt .\n",
      "\n",
      "\n",
      "Ganga\n",
      "Bramhaputra\n",
      "Nile\n",
      "\n",
      "\n",
      "India\n",
      "China\n",
      "Egypt\n"
     ]
    }
   ],
   "source": [
    "rivers = {\n",
    "    'ganga': 'india',\n",
    "    'bramhaputra': 'china',\n",
    "    'nile': 'egypt'\n",
    "}\n",
    "for key, value in rivers.items():\n",
    "    print(\"The\", key.title(), \"runs through\", value.title(), \".\")\n",
    "print(\"\\n\")\n",
    "\n",
    "for river_name in rivers.keys():\n",
    "    print(river_name.title())\n",
    "print(\"\\n\")\n",
    "\n",
    "for country_name in rivers.values():\n",
    "    print(country_name.title())"
   ]
  },
  {
   "cell_type": "raw",
   "metadata": {},
   "source": [
    "6-6. Polling: Use the code in favorite_languages.py (page 104).\n",
    "•\t Make a list of people who should take the favorite languages poll. Include\n",
    "some names that are already in the dictionary and some that are not.\n",
    "•\t Loop through the list of people who should take the poll. If they have\n",
    "already taken the poll, print a message thanking them for responding.\n",
    "If they have not yet taken the poll, print a message inviting them to take\n",
    "the poll."
   ]
  },
  {
   "cell_type": "code",
   "execution_count": 36,
   "metadata": {},
   "outputs": [
    {
     "name": "stdout",
     "output_type": "stream",
     "text": [
      "Vishnu ,  What's your favorite programming language?\n",
      "Esha , Thanks for taking the pool.\n",
      "Aarti ,  What's your favorite programming language?\n"
     ]
    }
   ],
   "source": [
    "fav_languages = {\n",
    "    'rohit': 'java',\n",
    "    'sara': 'python',\n",
    "    'esha': 'pearl',\n",
    "    'aakasi': 'react',\n",
    "    'sejal': 'pearl'\n",
    "}\n",
    "people = ['vishnu', 'esha', 'aarti']\n",
    "\n",
    "for name in people:    \n",
    "    if name in fav_languages:\n",
    "        print(name.title(), \", Thanks for taking the pool.\")\n",
    "    else:\n",
    "        print(name.title(), \",  What's your favorite programming language?\")"
   ]
  },
  {
   "cell_type": "markdown",
   "metadata": {},
   "source": [
    "### Nesting"
   ]
  },
  {
   "cell_type": "markdown",
   "metadata": {},
   "source": [
    "Nesting helps storing a set of dictionaries in a list or a list of\n",
    "items as a value in a dictionary or even a\n",
    "dictionary inside another dictionary"
   ]
  },
  {
   "cell_type": "code",
   "execution_count": 37,
   "metadata": {},
   "outputs": [
    {
     "name": "stdout",
     "output_type": "stream",
     "text": [
      "{'color': 'green', 'points': 10}\n",
      "{'color': 'red', 'points': 0}\n",
      "{'color': 'yellow', 'points': 5}\n"
     ]
    }
   ],
   "source": [
    "alien_0 = {'color': 'green', 'points': 10}\n",
    "alien_1 = {'color': 'red', 'points': 0}\n",
    "alien_2 = {'color': 'yellow', 'points': 5}\n",
    "\n",
    "aliens = [alien_0, alien_1, alien_2]\n",
    "for alien in aliens:\n",
    "    print(alien)"
   ]
  },
  {
   "cell_type": "markdown",
   "metadata": {},
   "source": [
    "We first create three dictionaries, each representing a different alien.\n",
    "At u we pack each of these dictionaries into a list called aliens. Finally, we\n",
    "loop through the list and print out each alien"
   ]
  },
  {
   "cell_type": "markdown",
   "metadata": {},
   "source": [
    "A more realistic example would involve more than three aliens with\n",
    "code that automatically generates each alien. In the following example we\n",
    "use range() to create a fleet of 30 aliens"
   ]
  },
  {
   "cell_type": "code",
   "execution_count": 38,
   "metadata": {},
   "outputs": [
    {
     "name": "stdout",
     "output_type": "stream",
     "text": [
      "{'color': 'green', 'points': 5, 'speed': 'slow'}\n",
      "{'color': 'green', 'points': 5, 'speed': 'slow'}\n",
      "{'color': 'green', 'points': 5, 'speed': 'slow'}\n",
      "{'color': 'green', 'points': 5, 'speed': 'slow'}\n",
      "{'color': 'green', 'points': 5, 'speed': 'slow'}\n",
      "...\n",
      "Total number of aliens:30\n"
     ]
    }
   ],
   "source": [
    "#creating empty list for storing aliens\n",
    "aliens = []\n",
    "\n",
    "#making 30 green aliens\n",
    "for alien_number in range(30):\n",
    "    new_alien = {'color': 'green', 'points': 5,'speed': 'slow'}\n",
    "    aliens.append(new_alien)\n",
    "    \n",
    "#show first five aleins\n",
    "for alien in aliens[:5]:\n",
    "    print(alien)\n",
    "print('...')\n",
    "    \n",
    "#show how many aliens have been created\n",
    "print(\"Total number of aliens:\" + str(len(aliens)))\n"
   ]
  },
  {
   "cell_type": "markdown",
   "metadata": {},
   "source": [
    "This example begins with an empty list to hold all of the aliens that\n",
    "will be created, then range() returns a set of numbers, which just tells\n",
    "Python how many times we want the loop to repeat. Each time the loop\n",
    "runs we create a new alien and then append each new alien to the list\n",
    "aliens, later we use a slice to print the first five aliens, and then at y we\n",
    "print the length of the list to prove we’ve actually generated the full fleet\n",
    "of 30 aliens"
   ]
  },
  {
   "cell_type": "markdown",
   "metadata": {},
   "source": [
    "These aliens all have the same characteristics, but Python considers each\n",
    "one a separate object, which allows us to modify each alien individually."
   ]
  },
  {
   "cell_type": "code",
   "execution_count": 39,
   "metadata": {},
   "outputs": [
    {
     "name": "stdout",
     "output_type": "stream",
     "text": [
      "First five aliens are:\n",
      "{'color': 'green', 'speed': 'fast', 'points': 5}\n",
      "{'color': 'green', 'speed': 'fast', 'points': 5}\n",
      "{'color': 'green', 'speed': 'fast', 'points': 5}\n",
      "{'color': 'green', 'speed': 'fast', 'points': 5}\n",
      "{'color': 'green', 'speed': 'fast', 'points': 5}\n",
      "\n",
      "modified aliens are:\n",
      "{'color': 'yellow', 'speed': 'medium', 'points': 10}\n",
      "{'color': 'yellow', 'speed': 'medium', 'points': 10}\n",
      "{'color': 'yellow', 'speed': 'medium', 'points': 10}\n",
      "{'color': 'green', 'speed': 'fast', 'points': 5}\n",
      "{'color': 'green', 'speed': 'fast', 'points': 5}\n"
     ]
    }
   ],
   "source": [
    "#creating an empty list\n",
    "aliens = []\n",
    "\n",
    "#making 30 aliens\n",
    "for alien_number in range(30):\n",
    "    new_aliens = {'color': 'green','speed': 'fast', 'points': 5}\n",
    "    aliens.append(new_aliens)\n",
    "\n",
    "#printing first five aliens using slicing\n",
    "print(\"First five aliens are:\")\n",
    "for alien in aliens[:5]:\n",
    "    print(alien)\n",
    "    \n",
    "#modifying first 3 aliens\n",
    "for alien in aliens[:3]:\n",
    "    if alien['color'] == 'green':\n",
    "        alien['color'] = 'yellow'\n",
    "        alien['speed'] = 'medium'\n",
    "        alien['points'] = 10\n",
    "        \n",
    "#printing first 5 aliens after modifying\n",
    "print('\\nmodified aliens are:')\n",
    "for alien in aliens[:5]:      \n",
    "    print(alien)\n",
    "        "
   ]
  },
  {
   "cell_type": "markdown",
   "metadata": {},
   "source": [
    "You could expand this loop by adding an elif block that turns yellow\n",
    "aliens into red, fast-moving ones worth 15 points each."
   ]
  },
  {
   "cell_type": "code",
   "execution_count": 40,
   "metadata": {},
   "outputs": [
    {
     "name": "stdout",
     "output_type": "stream",
     "text": [
      "First five aliens are:\n",
      "{'color': 'green', 'speed': 'fast', 'points': 5}\n",
      "{'color': 'green', 'speed': 'fast', 'points': 5}\n",
      "{'color': 'green', 'speed': 'fast', 'points': 5}\n",
      "{'color': 'green', 'speed': 'fast', 'points': 5}\n",
      "{'color': 'green', 'speed': 'fast', 'points': 5}\n",
      "\n",
      "modified aliens are:\n",
      "{'color': 'yellow', 'speed': 'medium', 'points': 10}\n",
      "{'color': 'yellow', 'speed': 'medium', 'points': 10}\n",
      "{'color': 'yellow', 'speed': 'medium', 'points': 10}\n",
      "{'color': 'green', 'speed': 'fast', 'points': 5}\n",
      "{'color': 'green', 'speed': 'fast', 'points': 5}\n"
     ]
    }
   ],
   "source": [
    "#creating an empty list\n",
    "aliens = []\n",
    "\n",
    "#making 30 aliens\n",
    "for alien_number in range(30):\n",
    "    new_aliens = {'color': 'green','speed': 'fast', 'points': 5}\n",
    "    aliens.append(new_aliens)\n",
    "\n",
    "#printing first five aliens using slicing\n",
    "print(\"First five aliens are:\")\n",
    "for alien in aliens[:5]:\n",
    "    print(alien)\n",
    "    \n",
    "#modifying first 3 aliens\n",
    "for alien in aliens[:3]:\n",
    "    if alien['color'] == 'green':\n",
    "        alien['color'] = 'yellow'\n",
    "        alien['speed'] = 'medium'\n",
    "        alien['points'] = 10\n",
    "    elif alien['color'] == 'yellow':\n",
    "        alien['color'] = 'red'\n",
    "        alien['speed'] = 'slow'\n",
    "        alien['points'] = 5\n",
    "        \n",
    "        \n",
    "#printing first 5 aliens after modifying\n",
    "print('\\nmodified aliens are:')\n",
    "for alien in aliens[:5]:      \n",
    "    print(alien)\n",
    "        "
   ]
  },
  {
   "cell_type": "markdown",
   "metadata": {},
   "source": [
    "It’s common to store a number of dictionaries in a list when each dictionary contains many kinds of information about one object.  All\n",
    "of the dictionaries in the list should have an identical structure so you can\n",
    "loop through the list and work with each dictionary object in the same way"
   ]
  },
  {
   "cell_type": "markdown",
   "metadata": {},
   "source": [
    "### A List in a Dictionary"
   ]
  },
  {
   "cell_type": "markdown",
   "metadata": {},
   "source": [
    "nest a list inside a dictionary any time you want more than\n",
    "one value to be associated with a single key in a dictionary\n",
    "\n",
    "For example, describing a\n",
    "pizza that someone is ordering. If you were to use only a list, all you could\n",
    "really store is a list of the pizza’s toppings"
   ]
  },
  {
   "cell_type": "code",
   "execution_count": 41,
   "metadata": {},
   "outputs": [
    {
     "name": "stdout",
     "output_type": "stream",
     "text": [
      "You have ordered thick-crust pizza with the following toppings:\n",
      "\tCheese\n",
      "\tMushrooms\n"
     ]
    }
   ],
   "source": [
    "pizza = {\n",
    "    'crust': 'thick',\n",
    "    'toppings': ['cheese', 'mushrooms']\n",
    "}\n",
    "\n",
    "print(\"You have ordered \" + pizza['crust'] + \"-crust pizza with the following toppings:\")\n",
    "for topping in pizza['toppings']:\n",
    "    print(\"\\t\" + topping.title())"
   ]
  },
  {
   "cell_type": "markdown",
   "metadata": {},
   "source": [
    "One key in the dictionary is 'crust', and the associ-\n",
    "ated value is the string 'thick'. The next key, 'toppings', has a list as its value\n",
    "that stores all requested toppings. we summarize the order before\n",
    "building the pizza. To print the toppings, we write a for loop. To access\n",
    "the list of toppings, we use the key 'toppings', and Python grabs the list of\n",
    "toppings from the dictionary"
   ]
  },
  {
   "cell_type": "code",
   "execution_count": 42,
   "metadata": {},
   "outputs": [
    {
     "name": "stdout",
     "output_type": "stream",
     "text": [
      "\n",
      "Sara, your fav languages are:\n",
      "Python\n",
      "C\n",
      "\n",
      "Saee, your fav languages are:\n",
      "Java\n",
      "\n",
      "Vishnu, your fav languages are:\n",
      "Ruby\n",
      "Pearl\n",
      "\n",
      "Zee, your fav languages are:\n",
      "C#\n",
      "C++\n"
     ]
    }
   ],
   "source": [
    "fav_languages = {\n",
    "    'sara': ['python', 'c'],\n",
    "    'saee': ['java'],\n",
    "    'vishnu': ['ruby', 'pearl'],\n",
    "    'zee': ['c#', 'c++']\n",
    "}\n",
    "\n",
    "for name, languages in fav_languages.items():\n",
    "    print(\"\\n\" + name.title() + \", your fav languages are:\")\n",
    "    for language in languages:\n",
    "        print(language.title())"
   ]
  },
  {
   "cell_type": "markdown",
   "metadata": {},
   "source": [
    "When we loop through the dictionary , we use the\n",
    "variable name languages to hold each value from the dictionary, because we\n",
    "know that each value will be a list. Inside the main dictionary loop, we use\n",
    "another for loop to run through each person’s list of favorite languages.\n",
    "Now each person can list as many favorite languages as they like\n",
    "\n",
    "Notice that some people have one favorite language and others have\n",
    "multiple favorites.\n",
    "\n",
    "Including an if statement\n",
    "at the beginning of the dictionary’s for loop to see whether each person has\n",
    "more than one favorite language by examining the value of len(languages)."
   ]
  },
  {
   "cell_type": "code",
   "execution_count": 43,
   "metadata": {},
   "outputs": [
    {
     "name": "stdout",
     "output_type": "stream",
     "text": [
      "\n",
      "Sara, your fav languages are:\n",
      "Python\n",
      "C\n",
      "\n",
      "Saee, your fav language is:\n",
      "C\n",
      "\n",
      "Vishnu, your fav languages are:\n",
      "Ruby\n",
      "Pearl\n",
      "\n",
      "Zee, your fav language is:\n",
      "Pearl\n"
     ]
    }
   ],
   "source": [
    "fav_languages = {\n",
    "    'sara': ['python', 'c'],\n",
    "    'saee': ['java'],\n",
    "    'vishnu': ['ruby', 'pearl'],\n",
    "    'zee': ['c']\n",
    "}\n",
    "\n",
    "for name, languages in fav_languages.items():\n",
    "    if len(fav_languages[name]) == 2:\n",
    "        print(\"\\n\" + name.title() + \", your fav languages are:\")\n",
    "        for language in languages:\n",
    "            print(language.title())\n",
    "    else:\n",
    "        print(\"\\n\" + name.title() + \", your fav language is:\" )\n",
    "        print(language.title())\n",
    "    "
   ]
  },
  {
   "cell_type": "markdown",
   "metadata": {},
   "source": [
    "### A Dictionary in a Dictionary"
   ]
  },
  {
   "cell_type": "markdown",
   "metadata": {},
   "source": [
    "We can nest a dictionary inside another dictionary, but the code can get\n",
    "complicated quickly. For example, if you have several users\n",
    "for a website, each with a unique username, you can use the usernames as\n",
    "the keys in a dictionary. You can then store information about each user by\n",
    "using a dictionary as the value associated with their username. In the fol-\n",
    "lowing listing, we store three pieces of information about each user: their\n",
    "first name, last name, and location. We’ll access this information by looping\n",
    "through the usernames and the dictionary of information associated with\n",
    "each username:"
   ]
  },
  {
   "cell_type": "code",
   "execution_count": 44,
   "metadata": {},
   "outputs": [
    {
     "name": "stdout",
     "output_type": "stream",
     "text": [
      "\n",
      "Username : Sara\n",
      "\t Fullname : Sara Raool\n",
      "\t Location : Mumbai\n",
      "\n",
      "Username : Vishnu\n",
      "\t Fullname : Vishnu Nair\n",
      "\t Location : Hyderabad\n"
     ]
    }
   ],
   "source": [
    "#A Dictionary in a Dictionary\n",
    "\n",
    "users = {\n",
    "    'sara': {\n",
    "        'first': 'sara',\n",
    "        'last': 'raool',\n",
    "        'location': 'mumbai'\n",
    "    },\n",
    "    \n",
    "    'vishnu': {\n",
    "        'first': 'vishnu',\n",
    "        'last': 'nair',\n",
    "        'location': 'hyderabad'\n",
    "    }\n",
    "}\n",
    "\n",
    "for user_name, user_info in users.items():\n",
    "    print(\"\\nUsername : \" + user_name.title())\n",
    "    fullname = user_info['first'] + \" \" + user_info['last']\n",
    "    location = user_info['location']\n",
    "    \n",
    "    print(\"\\t Fullname : \" + fullname.title())\n",
    "    print(\"\\t Location : \" + location.title())"
   ]
  },
  {
   "cell_type": "markdown",
   "metadata": {},
   "source": [
    "We first define a dictionary called users with two keys: one each for the\n",
    "usernames 'sara' and 'vishnu'. The value associated with each key is\n",
    "a dictionary that includes each user’s first name, last name, and location.\n",
    "Then we loop through the users dictionary. Python stores each key in the\n",
    "variable username, and the dictionary associated with each username goes\n",
    "into the variable user_info. Once inside the main dictionary loop, we print\n",
    "the username .\n",
    "we start accessing the inner dictionary. The variable user_info,\n",
    "which contains the dictionary of user information, has three keys: 'first',\n",
    "'last', and 'location'. We use each key to generate a neatly formatted full\n",
    "name and location for each person, and then print a summary of what we\n",
    "know about each user."
   ]
  },
  {
   "cell_type": "markdown",
   "metadata": {},
   "source": [
    "6-7. People\n",
    "Make  dictionaries representing different people, and store all three\n",
    "dictionaries in a list called people Loop through your list of people As you\n",
    "loop through the list, print everything you know about each person"
   ]
  },
  {
   "cell_type": "code",
   "execution_count": 45,
   "metadata": {},
   "outputs": [
    {
     "name": "stdout",
     "output_type": "stream",
     "text": [
      "Mahesh Gavsane of Chembur is 40 years old.\n",
      "Vishnu Nair of Hyderabad is 23 years old.\n",
      "Narendra Modi of Delhi is 72 years old.\n"
     ]
    }
   ],
   "source": [
    "person_0 = {'first_name': 'mahesh', 'last_name': 'gavsane', 'age': 40, 'city': 'chembur'}\n",
    "person_1 = {'first_name': 'vishnu', 'last_name': 'nair', 'age': 23, 'city': 'hyderabad'}\n",
    "person_2 = {'first_name': 'narendra', 'last_name': 'modi', 'age': 72, 'city': 'delhi'}\n",
    "\n",
    "people = [person_0, person_1, person_2]\n",
    "\n",
    "for person in people:\n",
    "    name = person['first_name'].title() + \" \" + person['last_name'].title()\n",
    "    age = str(person['age'])\n",
    "    city = person['city'].title()\n",
    "    \n",
    "    print(name + \" of \" + city + \" is \" + age + \" years old.\")"
   ]
  },
  {
   "cell_type": "markdown",
   "metadata": {},
   "source": [
    "6-8. Pets: Make several dictionaries, where the name of each dictionary is the\n",
    "name of a pet In each dictionary, include the kind of animal and the owner’s\n",
    "name Store these dictionaries in a list called pets Next, loop through your list\n",
    "and as you do print everything you know about each pet"
   ]
  },
  {
   "cell_type": "code",
   "execution_count": 46,
   "metadata": {},
   "outputs": [
    {
     "name": "stdout",
     "output_type": "stream",
     "text": [
      "Ashish owns a Dog.\n",
      "Priyanka owns a Cat.\n",
      "Vedant owns a Dog.\n"
     ]
    }
   ],
   "source": [
    "pets = []\n",
    "\n",
    "\n",
    "bruno = {\n",
    "    'animal': 'dog',\n",
    "    'owner': 'ashish'\n",
    "}\n",
    "pets.append(bruno)\n",
    "\n",
    "\n",
    "mylo = {\n",
    "    'animal': 'cat',\n",
    "    'owner': 'priyanka'\n",
    "}\n",
    "pets.append(mylo)\n",
    "\n",
    "\n",
    "simba = {\n",
    "    'animal': 'dog',\n",
    "    'owner': 'vedant'\n",
    "}\n",
    "pets.append(simba)\n",
    "\n",
    "for animals in pets:\n",
    "    animal = animals['animal'].title()\n",
    "    owner = animals['owner'].title()\n",
    "    \n",
    "    print(owner + \" owns a \" + animal + \".\")\n",
    "\n"
   ]
  },
  {
   "cell_type": "code",
   "execution_count": 47,
   "metadata": {},
   "outputs": [
    {
     "name": "stdout",
     "output_type": "stream",
     "text": [
      "\n",
      "Here's what I konw about bruno\n",
      "Name : Bruno\n",
      "Animal_Type : Dog\n",
      "Owner : Ashish\n",
      "\n",
      "Here's what I konw about mylo\n",
      "Name : Mylo\n",
      "Animal_Type : Cat\n",
      "Owner : Priyanka\n",
      "\n",
      "Here's what I konw about simba\n",
      "Name : Simba\n",
      "Animal_Type : Dog\n",
      "Owner : Vedant\n"
     ]
    }
   ],
   "source": [
    "pets = []\n",
    "\n",
    "pet = {\n",
    "    'name': 'bruno',\n",
    "    'animal_type': 'dog',\n",
    "    'owner': 'ashish'\n",
    "}\n",
    "pets.append(pet)\n",
    "\n",
    "pet = {\n",
    "    'name': 'mylo',\n",
    "    'animal_type': 'cat',\n",
    "    'owner': 'priyanka'\n",
    "}\n",
    "pets.append(pet)\n",
    "\n",
    "pet = {\n",
    "    'name': 'simba',\n",
    "    'animal_type': 'dog',\n",
    "    'owner': 'vedant'\n",
    "}\n",
    "pets.append(pet)\n",
    "\n",
    "for pet in pets:\n",
    "    print(\"\\nHere's what I konw about \" + pet['name'])\n",
    "    for name, info in pet.items():\n",
    "        print(name.title() + \" : \" + info.title())"
   ]
  },
  {
   "cell_type": "markdown",
   "metadata": {},
   "source": [
    "6-9. Favorite Places: Make a dictionary called favorite_places Think of three\n",
    "names to use as keys in the dictionary, and store one to three favorite places\n",
    "for each person To make this exercise a bit more interesting, ask some friends\n",
    "to name a few of their favorite places Loop through the dictionary, and print\n",
    "each person’s name and their favorite places"
   ]
  },
  {
   "cell_type": "code",
   "execution_count": 48,
   "metadata": {},
   "outputs": [
    {
     "name": "stdout",
     "output_type": "stream",
     "text": [
      "Prasad's fav place is Sahyadri.\n",
      "Ranveer's fav place is Himalayas.\n",
      "Darshan's fav place is Amboli.\n"
     ]
    }
   ],
   "source": [
    "favorite_places = {\n",
    "    'prasad': 'sahyadri',\n",
    "    'ranveer': 'himalayas',\n",
    "    'darshan': 'amboli'\n",
    "}\n",
    "\n",
    "people = ['ranveer', 'sara', 'darshan']\n",
    "\n",
    "for name, place in favorite_places.items():\n",
    "    print(name.title() + \"'s fav place is \" + place.title() + \".\")"
   ]
  },
  {
   "cell_type": "markdown",
   "metadata": {},
   "source": [
    "6-10. Favorite Numbers: Modify your program from Exercise 6-2 so\n",
    "each person can have more than one favorite number Then print each person’s\n",
    "name along with their favorite numbers"
   ]
  },
  {
   "cell_type": "code",
   "execution_count": 49,
   "metadata": {},
   "outputs": [
    {
     "name": "stdout",
     "output_type": "stream",
     "text": [
      "\n",
      "Smita's fav numbers are:\n",
      "3\n",
      "6\n",
      "87\n",
      "\n",
      "Saee's fav numbers are:\n",
      "2\n",
      "5\n",
      "9\n",
      "\n",
      "Prasad's fav numbers are:\n",
      "1\n",
      "2\n",
      "9\n"
     ]
    }
   ],
   "source": [
    "fav_no = {\n",
    "    'smita': [3,6,87],\n",
    "    'saee': [2,5,9],\n",
    "    'prasad': [1,2,9]\n",
    "}\n",
    "\n",
    "for name, numbers in fav_no.items():\n",
    "    print(\"\\n\" + name.title() + \"'s fav numbers are:\")\n",
    "    for number in numbers:\n",
    "        print(number)\n"
   ]
  },
  {
   "cell_type": "markdown",
   "metadata": {},
   "source": [
    "6-11. Cities: Make a dictionary called cities Use the names of three cities as\n",
    "keys in your dictionary Create a dictionary of information about each city and\n",
    "include the country that the city is in, its approximate population, and one fact\n",
    "about that city The keys for each city’s dictionary should be something like\n",
    "country, population, and fact Print the name of each city and all of the infor-\n",
    "mation you have stored about it"
   ]
  },
  {
   "cell_type": "code",
   "execution_count": 50,
   "metadata": {},
   "outputs": [
    {
     "name": "stdout",
     "output_type": "stream",
     "text": [
      "\n",
      "Information about Mumbai city:\n",
      "Mumbai is in India.\n",
      "It has population of 17159000.\n",
      "Mumbai Is Financial Capital Of India.\n",
      "\n",
      "Information about Talkeetna city:\n",
      "Talkeetna is in Alaska.\n",
      "It has population of 876.\n",
      "Talkeetna Has Alaska Mountain Range.\n",
      "\n",
      "Information about Delhi city:\n",
      "Delhi is in India.\n",
      "It has population of 32941.\n",
      "Delhi Is Capital Of India.\n"
     ]
    }
   ],
   "source": [
    "cities ={\n",
    "    'mumbai': {\n",
    "        'country': 'india',\n",
    "        'population': 17159000,\n",
    "        'fact': 'mumbai is financial capital of india'\n",
    "    },\n",
    "    \n",
    "    'talkeetna': {\n",
    "        'country': 'alaska',\n",
    "        'population': 876,\n",
    "        'fact': 'talkeetna has alaska mountain range'\n",
    "    },\n",
    "    \n",
    "    'delhi': {\n",
    "        'country': 'india',\n",
    "        'population': 32941,\n",
    "        'fact': 'Delhi is capital of india'\n",
    "    }\n",
    "}\n",
    "\n",
    "for city, info in cities.items():\n",
    "    print(\"\\nInformation about \" + city.title() + \" city:\")\n",
    "    \n",
    "    country = info['country'].title()\n",
    "    population = str(info['population'])\n",
    "    fact = info['fact'].title()\n",
    "    \n",
    "    print (city.title() + \" is in \" + country + \".\")\n",
    "    print (\"It has population of \" + population + \".\")\n",
    "    print(fact + \".\")"
   ]
  }
 ],
 "metadata": {
  "kernelspec": {
   "display_name": "Python 3",
   "language": "python",
   "name": "python3"
  },
  "language_info": {
   "codemirror_mode": {
    "name": "ipython",
    "version": 3
   },
   "file_extension": ".py",
   "mimetype": "text/x-python",
   "name": "python",
   "nbconvert_exporter": "python",
   "pygments_lexer": "ipython3",
   "version": "3.8.5"
  }
 },
 "nbformat": 4,
 "nbformat_minor": 4
}
