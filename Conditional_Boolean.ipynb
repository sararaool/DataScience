{
 "cells": [
  {
   "cell_type": "code",
   "execution_count": 1,
   "metadata": {},
   "outputs": [
    {
     "name": "stdout",
     "output_type": "stream",
     "text": [
      "Audi\n",
      "BMW\n",
      "Toyota\n",
      "Venue\n"
     ]
    }
   ],
   "source": [
    "cars = ['audi', 'bmw', 'toyota', 'venue']\n",
    "\n",
    "for car in cars:\n",
    "    if car == 'bmw':\n",
    "        print(car.upper())\n",
    "    else:\n",
    "        print(car.title())"
   ]
  },
  {
   "cell_type": "markdown",
   "metadata": {},
   "source": [
    "The loop in this example first checks if the current value of car is 'bmw'.\n",
    "If it is, the value is printed in uppercase. If the value of car is anything other\n",
    "than 'bmw', it’s printed in title case"
   ]
  },
  {
   "cell_type": "markdown",
   "metadata": {},
   "source": [
    "# Conditional Tests"
   ]
  },
  {
   "cell_type": "code",
   "execution_count": 2,
   "metadata": {},
   "outputs": [
    {
     "data": {
      "text/plain": [
       "True"
      ]
     },
     "execution_count": 2,
     "metadata": {},
     "output_type": "execute_result"
    }
   ],
   "source": [
    "car = 'bmw'\n",
    "car == 'bmw'"
   ]
  },
  {
   "cell_type": "markdown",
   "metadata": {},
   "source": [
    " sets the value of car to 'bmw' using a single equal sign,\n",
    "as you’ve seen many times already. The line then checks whether the value\n",
    "of car is 'bmw' using a double equal sign (==). This equality operator returns\n",
    "True if the values on the left and right side of the operator match, and\n",
    "False if they don’t match."
   ]
  },
  {
   "cell_type": "code",
   "execution_count": 3,
   "metadata": {},
   "outputs": [
    {
     "data": {
      "text/plain": [
       "False"
      ]
     },
     "execution_count": 3,
     "metadata": {},
     "output_type": "execute_result"
    }
   ],
   "source": [
    "car == 'audi'"
   ]
  },
  {
   "cell_type": "markdown",
   "metadata": {},
   "source": [
    "When the value of car is anything other than 'bmw', this test returns\n",
    "False"
   ]
  },
  {
   "cell_type": "markdown",
   "metadata": {},
   "source": [
    "### Ignoring Case When Checking for Equality"
   ]
  },
  {
   "cell_type": "markdown",
   "metadata": {},
   "source": [
    "Testing for equality is case sensitive in Python. For example, two values with\n",
    "different capitalization are not considered equal:"
   ]
  },
  {
   "cell_type": "code",
   "execution_count": 4,
   "metadata": {},
   "outputs": [
    {
     "data": {
      "text/plain": [
       "False"
      ]
     },
     "execution_count": 4,
     "metadata": {},
     "output_type": "execute_result"
    }
   ],
   "source": [
    "car = 'audi'\n",
    "car == 'Audi'"
   ]
  },
  {
   "cell_type": "code",
   "execution_count": 9,
   "metadata": {},
   "outputs": [
    {
     "data": {
      "text/plain": [
       "True"
      ]
     },
     "execution_count": 9,
     "metadata": {},
     "output_type": "execute_result"
    }
   ],
   "source": [
    "car.title() == 'Audi'"
   ]
  },
  {
   "cell_type": "code",
   "execution_count": 10,
   "metadata": {},
   "outputs": [
    {
     "data": {
      "text/plain": [
       "'audi'"
      ]
     },
     "execution_count": 10,
     "metadata": {},
     "output_type": "execute_result"
    }
   ],
   "source": [
    "car"
   ]
  },
  {
   "cell_type": "markdown",
   "metadata": {},
   "source": [
    "Websites enforce certain rules for the data that users enter in a\n",
    "manner similar to this. For example, a site might use a conditional test\n",
    "like this to ensure that every user has a truly unique username, not just a\n",
    "variation on the capitalization of another person’s username. When someone submits a new username, that new username is converted to lowercase\n",
    "and compared to the lowercase versions of all existing usernames. During\n",
    "this check, a username like 'John' will be rejected if any variation of 'john'\n",
    "is already in use."
   ]
  },
  {
   "cell_type": "markdown",
   "metadata": {},
   "source": [
    "### Checking for Inequality"
   ]
  },
  {
   "cell_type": "code",
   "execution_count": 11,
   "metadata": {},
   "outputs": [
    {
     "name": "stdout",
     "output_type": "stream",
     "text": [
      "Hold the Chicken\n"
     ]
    }
   ],
   "source": [
    "requested_topping = 'mushrooms'\n",
    "if requested_topping != 'chicken':\n",
    "    print('Hold the Chicken')"
   ]
  },
  {
   "cell_type": "markdown",
   "metadata": {},
   "source": [
    "When you want to determine whether two values are not equal, you can\n",
    "combine an exclamation point and an equal sign (!=). The exclamation\n",
    "point represents not The line at u compares the value of requested_topping to the value\n",
    "'anchovies'. If these two values do not match, Python returns True and executes the code following the if statement. If the two values match, Python\n",
    "returns False and does not run the code following the if statement"
   ]
  },
  {
   "cell_type": "code",
   "execution_count": 25,
   "metadata": {},
   "outputs": [
    {
     "name": "stdout",
     "output_type": "stream",
     "text": [
      "That is not the correct answer. Please try again!\n"
     ]
    }
   ],
   "source": [
    "ans = 17\n",
    "\n",
    "if ans != 18:\n",
    "    print(\"That is not the correct answer. Please try again!\")"
   ]
  },
  {
   "cell_type": "code",
   "execution_count": 23,
   "metadata": {},
   "outputs": [
    {
     "data": {
      "text/plain": [
       "True"
      ]
     },
     "execution_count": 23,
     "metadata": {},
     "output_type": "execute_result"
    }
   ],
   "source": [
    "ans <= 23"
   ]
  },
  {
   "cell_type": "code",
   "execution_count": 18,
   "metadata": {},
   "outputs": [
    {
     "data": {
      "text/plain": [
       "True"
      ]
     },
     "execution_count": 18,
     "metadata": {},
     "output_type": "execute_result"
    }
   ],
   "source": [
    "ans < 23"
   ]
  },
  {
   "cell_type": "code",
   "execution_count": 19,
   "metadata": {},
   "outputs": [
    {
     "data": {
      "text/plain": [
       "True"
      ]
     },
     "execution_count": 19,
     "metadata": {},
     "output_type": "execute_result"
    }
   ],
   "source": [
    "ans != 23"
   ]
  },
  {
   "cell_type": "code",
   "execution_count": 20,
   "metadata": {},
   "outputs": [
    {
     "data": {
      "text/plain": [
       "False"
      ]
     },
     "execution_count": 20,
     "metadata": {},
     "output_type": "execute_result"
    }
   ],
   "source": [
    "ans > 23"
   ]
  },
  {
   "cell_type": "code",
   "execution_count": 21,
   "metadata": {},
   "outputs": [
    {
     "data": {
      "text/plain": [
       "False"
      ]
     },
     "execution_count": 21,
     "metadata": {},
     "output_type": "execute_result"
    }
   ],
   "source": [
    "ans >= 23"
   ]
  },
  {
   "cell_type": "code",
   "execution_count": 26,
   "metadata": {},
   "outputs": [
    {
     "data": {
      "text/plain": [
       "False"
      ]
     },
     "execution_count": 26,
     "metadata": {},
     "output_type": "execute_result"
    }
   ],
   "source": [
    "ans == 23"
   ]
  },
  {
   "cell_type": "markdown",
   "metadata": {},
   "source": [
    "### Using and to Check Multiple Conditions"
   ]
  },
  {
   "cell_type": "code",
   "execution_count": 27,
   "metadata": {},
   "outputs": [
    {
     "data": {
      "text/plain": [
       "False"
      ]
     },
     "execution_count": 27,
     "metadata": {},
     "output_type": "execute_result"
    }
   ],
   "source": [
    "age_0 = 5\n",
    "age_1 = 8\n",
    "\n",
    "age_0 >= 6 & age_1 >= 1 "
   ]
  },
  {
   "cell_type": "code",
   "execution_count": 42,
   "metadata": {},
   "outputs": [
    {
     "data": {
      "text/plain": [
       "True"
      ]
     },
     "execution_count": 42,
     "metadata": {},
     "output_type": "execute_result"
    }
   ],
   "source": [
    "age_0 >= 4 and age_1 >= 7"
   ]
  },
  {
   "cell_type": "markdown",
   "metadata": {},
   "source": [
    "the keyword and to combine the two conditional tests; if each test passes, the overall expression evaluates to True. If either test fails or if both tests fail, the\n",
    "expression evaluates to False."
   ]
  },
  {
   "cell_type": "markdown",
   "metadata": {},
   "source": [
    "### Using or to Check Multiple Conditions"
   ]
  },
  {
   "cell_type": "markdown",
   "metadata": {},
   "source": [
    "when either or both of the individual tests pass. An or expression\n",
    "fails only when both individual tests fail."
   ]
  },
  {
   "cell_type": "code",
   "execution_count": 45,
   "metadata": {},
   "outputs": [
    {
     "data": {
      "text/plain": [
       "False"
      ]
     },
     "execution_count": 45,
     "metadata": {},
     "output_type": "execute_result"
    }
   ],
   "source": [
    "age_0 = 22\n",
    "age_1 = 25\n",
    "\n",
    "age_0 <= 20 or age_1 >= 27"
   ]
  },
  {
   "cell_type": "code",
   "execution_count": 46,
   "metadata": {},
   "outputs": [
    {
     "data": {
      "text/plain": [
       "True"
      ]
     },
     "execution_count": 46,
     "metadata": {},
     "output_type": "execute_result"
    }
   ],
   "source": [
    "age_0 <= 22 or age_1 >= 27"
   ]
  },
  {
   "cell_type": "markdown",
   "metadata": {},
   "source": [
    "### Checking Whether a Value Is in a List"
   ]
  },
  {
   "cell_type": "markdown",
   "metadata": {},
   "source": [
    "To find out whether a particular value is already in a list, use the keyword in"
   ]
  },
  {
   "cell_type": "code",
   "execution_count": 47,
   "metadata": {},
   "outputs": [
    {
     "data": {
      "text/plain": [
       "True"
      ]
     },
     "execution_count": 47,
     "metadata": {},
     "output_type": "execute_result"
    }
   ],
   "source": [
    "requested_toppings = ['Mushroom', 'Panner', 'Pepperoni']\n",
    "\n",
    "'Panner' in requested_toppings"
   ]
  },
  {
   "cell_type": "code",
   "execution_count": 48,
   "metadata": {},
   "outputs": [
    {
     "data": {
      "text/plain": [
       "False"
      ]
     },
     "execution_count": 48,
     "metadata": {},
     "output_type": "execute_result"
    }
   ],
   "source": [
    "'Onions' in requested_toppings"
   ]
  },
  {
   "cell_type": "markdown",
   "metadata": {},
   "source": [
    "This technique is\n",
    "quite powerful because you can create a list of essential values, and then\n",
    "easily check whether the value you’re testing matches one of the values in\n",
    "the list."
   ]
  },
  {
   "cell_type": "markdown",
   "metadata": {},
   "source": [
    "### Checking Whether a Value Is Not in a List"
   ]
  },
  {
   "cell_type": "markdown",
   "metadata": {},
   "source": [
    ", it’s important to know if a value does not appear in a list. You\n",
    "can use the keyword not in this situation"
   ]
  },
  {
   "cell_type": "code",
   "execution_count": 49,
   "metadata": {},
   "outputs": [
    {
     "name": "stdout",
     "output_type": "stream",
     "text": [
      "Exercise  is a helpful activity.\n"
     ]
    }
   ],
   "source": [
    "banned_activities = ['Mindlesness', 'junk', 'gossip']\n",
    "activity = 'Exercise'\n",
    "\n",
    "if activity not in banned_activities:\n",
    "    print(activity, ' is a helpful activity.')"
   ]
  },
  {
   "cell_type": "raw",
   "metadata": {},
   "source": [
    "#experiment\n",
    "\n",
    "banned_activities = ['Mindlesness', 'junk', 'gossip']\n",
    "activities = ['Exercise', 'junk', 'Journalling', 'Reading']\n",
    "for activities in banned_activities:\n",
    "    if activities not in banned_activities:\n",
    "        print(activities, ' is a helpful activity.')\n",
    "    else:\n",
    "        print(activities, ' is degrading activity')"
   ]
  },
  {
   "cell_type": "markdown",
   "metadata": {},
   "source": [
    "5-1. Conditional Tests: Write a series of conditional tests. Print a statement\n",
    "describing each test and your prediction for the results of each test. Your code\n",
    "should look something like this:\n",
    "\n",
    "•\t Look closely at your results, and make sure you understand why each line\n",
    "evaluates to True or False.\n",
    "\n",
    "•\t Create at least 10 tests. Have at least 5 tests evaluate to True and another\n",
    "5 tests evaluate to False."
   ]
  },
  {
   "cell_type": "code",
   "execution_count": 59,
   "metadata": {},
   "outputs": [
    {
     "name": "stdout",
     "output_type": "stream",
     "text": [
      "Is name == 'Sara'? I predict True\n",
      "True\n"
     ]
    }
   ],
   "source": [
    "name = 'sara'\n",
    "print(\"Is name == 'Sara'? I predict True\")\n",
    "print(name == 'sara')"
   ]
  },
  {
   "cell_type": "code",
   "execution_count": 58,
   "metadata": {},
   "outputs": [
    {
     "name": "stdout",
     "output_type": "stream",
     "text": [
      "Is name == 'Saee'? I predict False\n",
      "False\n"
     ]
    }
   ],
   "source": [
    "print(\"Is name == 'Saee'? I predict False\")\n",
    "print(name == 'saee')"
   ]
  },
  {
   "cell_type": "code",
   "execution_count": 60,
   "metadata": {},
   "outputs": [
    {
     "name": "stdout",
     "output_type": "stream",
     "text": [
      "Is Ayush's age == 1 ? I predict True\n",
      "True\n"
     ]
    }
   ],
   "source": [
    "age = 1\n",
    "print(\"Is Ayush's age == 1 ? I predict True\")\n",
    "print(age == 1)"
   ]
  },
  {
   "cell_type": "code",
   "execution_count": 61,
   "metadata": {},
   "outputs": [
    {
     "name": "stdout",
     "output_type": "stream",
     "text": [
      "Is Ayush's age == 3 ? I predict False\n",
      "False\n"
     ]
    }
   ],
   "source": [
    "print(\"Is Ayush's age == 3 ? I predict False\")\n",
    "print(age == 3)"
   ]
  },
  {
   "cell_type": "code",
   "execution_count": 62,
   "metadata": {},
   "outputs": [
    {
     "name": "stdout",
     "output_type": "stream",
     "text": [
      "Is trek == Himalayan ? I predict True\n",
      "True\n"
     ]
    }
   ],
   "source": [
    "trek = 'himalayan'\n",
    "print(\"Is trek == Himalayan ? I predict True\")\n",
    "print(trek == 'himalayan')"
   ]
  },
  {
   "cell_type": "code",
   "execution_count": 63,
   "metadata": {},
   "outputs": [
    {
     "name": "stdout",
     "output_type": "stream",
     "text": [
      "Is trek == African ? I predict False\n",
      "False\n"
     ]
    }
   ],
   "source": [
    "print(\"Is trek == African ? I predict False\")\n",
    "print(trek == 'african')"
   ]
  },
  {
   "cell_type": "code",
   "execution_count": 64,
   "metadata": {},
   "outputs": [
    {
     "name": "stdout",
     "output_type": "stream",
     "text": [
      "Is book == Deep Work ? I predict True\n",
      "True\n"
     ]
    }
   ],
   "source": [
    "book = 'deep work'\n",
    "print(\"Is book == Deep Work ? I predict True\")\n",
    "print(book == 'deep work')"
   ]
  },
  {
   "cell_type": "code",
   "execution_count": 65,
   "metadata": {},
   "outputs": [
    {
     "name": "stdout",
     "output_type": "stream",
     "text": [
      "Is book == Biography ? I predict False\n",
      "False\n"
     ]
    }
   ],
   "source": [
    "print(\"Is book == Biography ? I predict False\")\n",
    "print(book == 'biography')"
   ]
  },
  {
   "cell_type": "code",
   "execution_count": 67,
   "metadata": {},
   "outputs": [
    {
     "name": "stdout",
     "output_type": "stream",
     "text": [
      "Is exercise = Yoga? I predict True\n",
      "True\n"
     ]
    }
   ],
   "source": [
    "exercise = 'yoga'\n",
    "print(\"Is exercise = Yoga? I predict True\")\n",
    "print(exercise == 'yoga')"
   ]
  },
  {
   "cell_type": "code",
   "execution_count": 68,
   "metadata": {},
   "outputs": [
    {
     "name": "stdout",
     "output_type": "stream",
     "text": [
      "Is exercise == Run? I predict false\n",
      "False\n"
     ]
    }
   ],
   "source": [
    "print(\"Is exercise == Run? I predict false\")\n",
    "print(exercise == 'run')"
   ]
  },
  {
   "cell_type": "markdown",
   "metadata": {},
   "source": [
    "# if statements"
   ]
  },
  {
   "cell_type": "markdown",
   "metadata": {},
   "source": [
    "### Simple if Statements"
   ]
  },
  {
   "cell_type": "markdown",
   "metadata": {},
   "source": [
    "The simplest kind of if statement has one test and one action:"
   ]
  },
  {
   "cell_type": "raw",
   "metadata": {},
   "source": [
    "if conditional_test:\n",
    "    do something"
   ]
  },
  {
   "cell_type": "code",
   "execution_count": 71,
   "metadata": {},
   "outputs": [
    {
     "name": "stdout",
     "output_type": "stream",
     "text": [
      "You're old enough to vote!\n"
     ]
    }
   ],
   "source": [
    "age = 30\n",
    "\n",
    "if age >= 18:\n",
    "    print(\"You're old enough to vote!\")"
   ]
  },
  {
   "cell_type": "markdown",
   "metadata": {},
   "source": [
    "Python checks to see whether the value in age is greater than or\n",
    "equal to 18. It is, so Python executes the indented print statement"
   ]
  },
  {
   "cell_type": "markdown",
   "metadata": {},
   "source": [
    "You can have as many lines of code as you want in the block following the if statement."
   ]
  },
  {
   "cell_type": "code",
   "execution_count": 75,
   "metadata": {},
   "outputs": [
    {
     "name": "stdout",
     "output_type": "stream",
     "text": [
      "You're old enough to vote!\n",
      "Are you a registered voter?\n"
     ]
    }
   ],
   "source": [
    "age = 55\n",
    "\n",
    "if age >= 18:\n",
    "    print(\"You're old enough to vote!\")\n",
    "    print(\"Are you a registered voter?\")"
   ]
  },
  {
   "cell_type": "markdown",
   "metadata": {},
   "source": [
    "### if-else Statements\n"
   ]
  },
  {
   "cell_type": "markdown",
   "metadata": {},
   "source": [
    "you’ll want to take one action when a conditional test passes and a different action in all other cases\n",
    "\n",
    "An if-else block is similar to a simple if statement, but the else statement\n",
    "allows you to define an action or set of actions that are executed when the\n",
    "conditional test fails."
   ]
  },
  {
   "cell_type": "code",
   "execution_count": 80,
   "metadata": {},
   "outputs": [
    {
     "name": "stdout",
     "output_type": "stream",
     "text": [
      "Sorry, you are too young to vote.\n",
      "Please register to vote as soon as you turn 18!\n"
     ]
    }
   ],
   "source": [
    "age = 16\n",
    "\n",
    "if age >= 18:\n",
    "    print(\"You are old enough to vote.\")\n",
    "    print(\"Are you a registered voter?\")\n",
    "else:\n",
    "    print(\"Sorry, you are too young to vote.\")\n",
    "    print(\"Please register to vote as soon as you turn 18!\")"
   ]
  },
  {
   "cell_type": "markdown",
   "metadata": {},
   "source": [
    "If the conditional test at u passes, the first block of indented print\n",
    "statements is executed. If the test evaluates to False, the else block is\n",
    "executed. Because age is less than 18 this time, the conditional test fails and\n",
    "the code in the else block is executed"
   ]
  },
  {
   "cell_type": "markdown",
   "metadata": {},
   "source": [
    "### The if-elif-else Chain"
   ]
  },
  {
   "cell_type": "markdown",
   "metadata": {},
   "source": [
    "to test more than two possible situations use Python’s if-elif-else syntax. Python executes only one\n",
    "block in an if-elif-else chain.\n",
    "\n",
    "It runs each conditional test in order until\n",
    "one passes. When a test passes, the code following that test is executed and\n",
    "Python skips the rest of the tests"
   ]
  },
  {
   "cell_type": "raw",
   "metadata": {},
   "source": [
    "r example, consider an amusement park that charges different rates for\n",
    "different age groups:\n",
    "\n",
    "•\t Admission for anyone under age 4 is free.\n",
    "•\t Admission for anyone between the ages of 4 and 18 is $5.\n",
    "•\t Admission for anyone age 18 or older is $10.\n",
    "\n",
    "How can we use an if statement to determine a person’s admission rate?"
   ]
  },
  {
   "cell_type": "code",
   "execution_count": 84,
   "metadata": {},
   "outputs": [
    {
     "name": "stdout",
     "output_type": "stream",
     "text": [
      "Your admission cost is $5.\n"
     ]
    }
   ],
   "source": [
    "age = 10\n",
    "\n",
    "if age < 4:\n",
    "    print(\"Your admission cost is $0.\")\n",
    "elif age < 18 :\n",
    "    print(\"Your admission cost is $5.\")\n",
    "else:\n",
    "    print(\"Your admission cost is $10.\")"
   ]
  },
  {
   "cell_type": "markdown",
   "metadata": {},
   "source": [
    "The if test at u tests whether a person is under 4 years old. If the test\n",
    "passes, an appropriate message is printed and Python skips the rest of the\n",
    "tests. The elif line  is really another if test, which runs only if the previous test failed. At this point in the chain, we know the person is at least\n",
    "4 years old because the first test failed. If the person is less than 18, an\n",
    "appropriate message is printed and Python skips the else block. If both\n",
    "the if and elif tests fail, Python runs the code in the else block .\n",
    "In this example the test evaluates to False, so its code block is not\n",
    "executed. However, the second test evaluates to True (12 is less than 18) so\n",
    "its code is executed. "
   ]
  },
  {
   "cell_type": "code",
   "execution_count": 88,
   "metadata": {},
   "outputs": [
    {
     "name": "stdout",
     "output_type": "stream",
     "text": [
      "Your admission cost is $5.\n"
     ]
    }
   ],
   "source": [
    "age = 12\n",
    "\n",
    "if age < 4:\n",
    "    price = 0\n",
    "elif age < 18:\n",
    "    price = 5\n",
    "else:\n",
    "    price = 10\n",
    "    \n",
    "print(\"Your admission cost is $\" + str(price) + \".\")\n",
    "    "
   ]
  },
  {
   "cell_type": "markdown",
   "metadata": {},
   "source": [
    "### Using Multiple elif Blocks"
   ]
  },
  {
   "cell_type": "markdown",
   "metadata": {},
   "source": [
    "to implement a discount for seniors: anyone 60 or older pays half the\n",
    "regular admission, or $5:"
   ]
  },
  {
   "cell_type": "code",
   "execution_count": 92,
   "metadata": {},
   "outputs": [
    {
     "name": "stdout",
     "output_type": "stream",
     "text": [
      "Your admission cost is $5.\n"
     ]
    }
   ],
   "source": [
    "age = 63\n",
    "\n",
    "if age < 4:\n",
    "    price = 0\n",
    "elif age < 18:\n",
    "    price = 5\n",
    "elif age < 60:\n",
    "    price = 10\n",
    "else:\n",
    "    price = 5\n",
    "    \n",
    "print(\"Your admission cost is $\" + str(price) + \".\")"
   ]
  },
  {
   "cell_type": "markdown",
   "metadata": {},
   "source": [
    "Most of this code is unchanged. The second elif block now checks\n",
    "to make sure a person is less than age 60 before assigning them the full\n",
    "admission rate of $ 10. Notice that the value assigned in the else block\n",
    "needs to be changed to  5, because the only ages that make it to this block\n",
    "are people 60 or older"
   ]
  },
  {
   "cell_type": "markdown",
   "metadata": {},
   "source": [
    "### Omitting the else Block"
   ]
  },
  {
   "cell_type": "markdown",
   "metadata": {},
   "source": [
    "Python does not require an else block at the end of an if-elif chain. Sometimes an else block is useful; sometimes it is clearer to use an additional\n",
    "elif statement that catches the specific condition of interest:"
   ]
  },
  {
   "cell_type": "code",
   "execution_count": 100,
   "metadata": {},
   "outputs": [
    {
     "name": "stdout",
     "output_type": "stream",
     "text": [
      "Your admission cost is $5.\n"
     ]
    }
   ],
   "source": [
    "age = 75\n",
    "\n",
    "if age < 4:\n",
    "    price = 0\n",
    "elif age < 18:\n",
    "    price = 5\n",
    "elif age < 60:\n",
    "    price = 10\n",
    "elif age >= 60:\n",
    "    price = 5\n",
    "    \n",
    "print(\"Your admission cost is $\" + str(price) + \".\")"
   ]
  },
  {
   "cell_type": "markdown",
   "metadata": {},
   "source": [
    "The extra elif block assigns a price of $5 when the person is 60 or\n",
    "older, which is a bit clearer than the general else block. With this change,\n",
    "every block of code must pass a specific test in order to be executed.\n",
    "if Statements 87\n",
    "The else block is a catchall statement. It matches any condition that\n",
    "wasn’t matched by a specific if or elif test, and that can sometimes include\n",
    "invalid or even malicious data. If you have a specific final condition you are\n",
    "testing for, consider using a final elif block and omit the else block. As a\n",
    "result, you’ll gain extra confidence that your code will run only under the\n",
    "correct conditions."
   ]
  },
  {
   "cell_type": "markdown",
   "metadata": {},
   "source": [
    "### Testing Multiple Conditions"
   ]
  },
  {
   "cell_type": "markdown",
   "metadata": {},
   "source": [
    "The if-elif-else chain is powerful, but it’s only appropriate to use when you\n",
    "just need one test to pass. As soon as Python finds one test that passes, it\n",
    "skips the rest of the tests. This behavior is beneficial, because it’s efficient\n",
    "and allows you to test for one specific condition.\n",
    "\n",
    "sometimes it’s important to check all of the conditions of\n",
    "interest. In this case, you should use a series of simple if statements with no\n",
    "elif or else blocks. This technique makes sense when more than one condition could be True, and you want to act on every condition that is True.\n",
    "\n"
   ]
  },
  {
   "cell_type": "raw",
   "metadata": {},
   "source": [
    "the pizzeria example. If someone requests a two-topping\n",
    "pizza, you’ll need to be sure to include both toppings on their pizza"
   ]
  },
  {
   "cell_type": "code",
   "execution_count": 102,
   "metadata": {},
   "outputs": [
    {
     "name": "stdout",
     "output_type": "stream",
     "text": [
      "Adding Mushrooms.\n",
      "Adding Exta Cheese.\n",
      "\n",
      "Finished making your Pizza!\n"
     ]
    }
   ],
   "source": [
    "requested_toppings = ['mushrooms', 'extra cheese']\n",
    "\n",
    "if 'mushrooms' in requested_toppings:\n",
    "    print(\"Adding Mushrooms.\")\n",
    "if 'paneer' in requested_toppings:\n",
    "    print(\"Adding Paneer.\")\n",
    "if 'extra cheese' in requested_toppings:\n",
    "    print(\"Adding Exta Cheese.\")\n",
    "    \n",
    "print(\"\\nFinished making your Pizza!\")"
   ]
  },
  {
   "cell_type": "markdown",
   "metadata": {},
   "source": [
    "We start  with a list containing the requested toppings. The if\n",
    "statement checks to see whether the person requested mushrooms\n",
    "on their pizza. If so, a message is printed confirming that topping. The\n",
    "test for pepperoni is another simple if statement, not an elif or else\n",
    "statement, so this test is run regardless of whether the previous test passed\n",
    "or not. Then codechecks whether extra cheese was requested regardless of the results from the first two tests. These three independent tests\n",
    "are executed every time this program is run.\n",
    "\n",
    "\n",
    "Because every condition in this example is evaluated, both mushrooms\n",
    "and extra cheese are added to the pizza"
   ]
  },
  {
   "cell_type": "markdown",
   "metadata": {},
   "source": [
    "This code would not work properly if we used an if-elif-else block,\n",
    "because the code would stop running after only one test passes. Here’s what\n",
    "that would look like\n"
   ]
  },
  {
   "cell_type": "code",
   "execution_count": 104,
   "metadata": {},
   "outputs": [
    {
     "name": "stdout",
     "output_type": "stream",
     "text": [
      "Adding mushrooms.\n",
      "\n",
      "Finished making your pizza!\n"
     ]
    }
   ],
   "source": [
    "requested_toppings = ['mushrooms', 'extra cheese']\n",
    "if 'mushrooms' in requested_toppings:\n",
    "    print(\"Adding mushrooms.\")\n",
    "elif 'pepperoni' in requested_toppings:\n",
    "    print(\"Adding pepperoni.\")\n",
    "elif 'extra cheese' in requested_toppings:\n",
    "    print(\"Adding extra cheese.\")\n",
    "\n",
    "print(\"\\nFinished making your pizza!\")"
   ]
  },
  {
   "cell_type": "markdown",
   "metadata": {},
   "source": [
    "The test for 'mushrooms' is the first test to pass, so mushrooms are added\n",
    "to the pizza. However, the values 'extra cheese' and 'pepperoni' are never\n",
    "checked, because Python doesn’t run any tests beyond the first test that\n",
    "passes in an if-elif-else chain. The customer’s first topping will be added,\n",
    "but all of their other toppings will be missed"
   ]
  },
  {
   "cell_type": "markdown",
   "metadata": {},
   "source": [
    "imp\n",
    "\n",
    "\n",
    "y, if you want only one block of code to run, use an if-elifelse chain. If more than one block of code needs to run, use a series of\n",
    "independent if statements"
   ]
  },
  {
   "cell_type": "raw",
   "metadata": {},
   "source": [
    "5-3. Alien Colors #1: Imagine an alien was just shot down in a game. Create a\n",
    "variable called alien_color and assign it a value of 'green', 'yellow', or 'red'.\n",
    "\n",
    "•\t Write an if statement to test whether the alien’s color is green. If it is, print\n",
    "a message that the player just earned 5 points."
   ]
  },
  {
   "cell_type": "code",
   "execution_count": 3,
   "metadata": {},
   "outputs": [
    {
     "name": "stdout",
     "output_type": "stream",
     "text": [
      "5 points earned\n"
     ]
    }
   ],
   "source": [
    "alien_color = 'green'\n",
    "\n",
    "if 'green' in alien_color:\n",
    "    print(\"5 points earned\")\n"
   ]
  },
  {
   "cell_type": "raw",
   "metadata": {},
   "source": [
    "•\t Write one version of this program that passes the if test and another that\n",
    "fails. (The version that fails will have no output.)"
   ]
  },
  {
   "cell_type": "code",
   "execution_count": 6,
   "metadata": {},
   "outputs": [
    {
     "name": "stdout",
     "output_type": "stream",
     "text": [
      "0 points earned\n"
     ]
    }
   ],
   "source": [
    "alien_color = ['red','yellow']\n",
    "\n",
    "if 'green' in alien_color:\n",
    "    print(\"5 points earned\")\n",
    "if 'red' in alien_color:\n",
    "    print(\"0 points earned\")\n"
   ]
  },
  {
   "cell_type": "raw",
   "metadata": {},
   "source": [
    "5-4. Alien Colors #2: Choose a color for an alien as you did in Exercise 5-3, and\n",
    "write an if-else chain.\n",
    "\n",
    "•\t If the alien’s color is green, print a statement that the player just earned\n",
    "5 points for shooting the alien.\n",
    "•\t If the alien’s color isn’t green, print a statement that the player just earned\n",
    "10 points.\n",
    "•\t Write one version of this program that runs the if block and another that\n",
    "runs the else block."
   ]
  },
  {
   "cell_type": "code",
   "execution_count": 7,
   "metadata": {},
   "outputs": [
    {
     "name": "stdout",
     "output_type": "stream",
     "text": [
      "Player earned 10 points.\n"
     ]
    }
   ],
   "source": [
    "alien_color = 'pink'\n",
    "\n",
    "if alien_color == 'green':\n",
    "    print(\"Player earned 5 points.\")\n",
    "else:\n",
    "    print(\"Player earned 10 points.\")\n"
   ]
  },
  {
   "cell_type": "code",
   "execution_count": 8,
   "metadata": {},
   "outputs": [
    {
     "name": "stdout",
     "output_type": "stream",
     "text": [
      "Player earned 10 points.\n"
     ]
    }
   ],
   "source": [
    "if alien_color == 'pink':\n",
    "    print(\"Player earned 10 points.\")\n",
    "else:\n",
    "    print(\"Player earned 0 points.\")\n"
   ]
  },
  {
   "cell_type": "raw",
   "metadata": {},
   "source": [
    "5-5. Alien Colors #3: Turn your if-else chain from Exercise 5-4 into an if-elifelse chain.\n",
    "\n",
    "\n",
    "•\t If the alien is green, print a message that the player earned 5 points.\n",
    "•\t If the alien is yellow, print a message that the player earned 10 points.\n",
    "•\t If the alien is red, print a message that the player earned 15 points.\n",
    "•\t Write three versions of this program, making sure each message is printed\n",
    "for the appropriate color alien."
   ]
  },
  {
   "cell_type": "code",
   "execution_count": 12,
   "metadata": {},
   "outputs": [
    {
     "name": "stdout",
     "output_type": "stream",
     "text": [
      "Green Alien earned 5 points .\n"
     ]
    }
   ],
   "source": [
    "#program for green alien\n",
    "\n",
    "alien_color = 'green'\n",
    "if alien_color == 'green':\n",
    "    points = 5\n",
    "elif alien_color == 'yellow':\n",
    "    points = 10\n",
    "else:\n",
    "    points = 15\n",
    "print(alien_color.title() + \" Alien earned \" + str(points) + \" points .\")"
   ]
  },
  {
   "cell_type": "code",
   "execution_count": 13,
   "metadata": {},
   "outputs": [
    {
     "name": "stdout",
     "output_type": "stream",
     "text": [
      "Yellow Alien earned 10 points .\n"
     ]
    }
   ],
   "source": [
    "#program for yellow alien\n",
    "\n",
    "alien_color = 'yellow'\n",
    "if alien_color == 'green':\n",
    "    points = 5\n",
    "elif alien_color == 'yellow':\n",
    "    points = 10\n",
    "else:\n",
    "    points = 15\n",
    "print(alien_color.title() + \" Alien earned \" + str(points) + \" points .\")"
   ]
  },
  {
   "cell_type": "code",
   "execution_count": 14,
   "metadata": {},
   "outputs": [
    {
     "name": "stdout",
     "output_type": "stream",
     "text": [
      "Red Alien earned 15 points .\n"
     ]
    }
   ],
   "source": [
    "#program for red alien\n",
    "\n",
    "alien_color = 'red'\n",
    "if alien_color == 'green':\n",
    "    points = 5\n",
    "elif alien_color == 'yellow':\n",
    "    points = 10\n",
    "else:\n",
    "    points = 15\n",
    "print(alien_color.title() + \" Alien earned \" + str(points) + \" points .\")"
   ]
  },
  {
   "cell_type": "raw",
   "metadata": {},
   "source": [
    "5-6. Stages of Life: Write an if-elif-else chain that determines a person’s\n",
    "stage of life. Set a value for the variable age, and then:\n",
    "\n",
    "•\t If the person is less than 2 years old, print a message that the person is\n",
    "a baby.\n",
    "•\t If the person is at least 2 years old but less than 4, print a message that\n",
    "the person is a toddler.\n",
    "•\t If the person is at least 4 years old but less than 13, print a message that\n",
    "the person is a kid.\n",
    "•\t If the person is at least 13 years old but less than 20, print a message that\n",
    "the person is a teenager.\n",
    "•\t If the person is at least 20 years old but less than 65, print a message that\n",
    "the person is an adult.\n",
    "•\t If the person is age 65 or older, print a message that the person is an\n",
    "elder."
   ]
  },
  {
   "cell_type": "code",
   "execution_count": 28,
   "metadata": {},
   "outputs": [
    {
     "name": "stdout",
     "output_type": "stream",
     "text": [
      "Person is a Toddler.\n"
     ]
    }
   ],
   "source": [
    "age = 3\n",
    "\n",
    "if age < 2:\n",
    "    person = 'Baby'\n",
    "elif age < 4:\n",
    "    person = 'Toddler'\n",
    "elif age < 13:\n",
    "    person = 'kid'\n",
    "elif age < 20:\n",
    "    person = 'teenager'\n",
    "elif age < 65:\n",
    "    person = 'adult'\n",
    "else:\n",
    "    person = 'elder'\n",
    "    \n",
    "print(\"Person is a\", person.title() + \".\")"
   ]
  },
  {
   "cell_type": "raw",
   "metadata": {},
   "source": [
    "5-7. Favorite Fruit: Make a list of your favorite fruits, and then write a series of\n",
    "independent if statements that check for certain fruits in your list.\n",
    "\n",
    "•\t Make a list of your three favorite fruits and call it favorite_fruits.\n",
    "•\t Write five if statements. Each should check whether a certain kind of fruit\n",
    "is in your list. If the fruit is in your list, the if block should print a statement,\n",
    "such as You really like bananas!"
   ]
  },
  {
   "cell_type": "code",
   "execution_count": 37,
   "metadata": {},
   "outputs": [
    {
     "name": "stdout",
     "output_type": "stream",
     "text": [
      "I like Papaya.\n",
      "I like Pomegranate.\n",
      "I like Pineapple.\n"
     ]
    }
   ],
   "source": [
    "favorite_fruits = ['Pomegranate', 'Mango', 'Bananas', 'Papaya', 'Pineapple']\n",
    "\n",
    "if 'Papaya' in favorite_fruits:\n",
    "    print(\"I like Papaya.\")\n",
    "if 'Apple' in favorite_fruits:\n",
    "    print(\"I like Apple.\")\n",
    "if 'Orange' in favorite_fruits:\n",
    "    print(\"I like Orange.\")\n",
    "if 'Pomegranate' in favorite_fruits:\n",
    "    print(\"I like Pomegranate.\")\n",
    "if 'Pineapple' in favorite_fruits:\n",
    "    print(\"I like Pineapple.\")"
   ]
  },
  {
   "cell_type": "markdown",
   "metadata": {},
   "source": [
    "# Using if Statements with Lists"
   ]
  },
  {
   "cell_type": "markdown",
   "metadata": {},
   "source": [
    "The pizzeria displays a message\n",
    "whenever a topping is added to your pizza, as it’s being made"
   ]
  },
  {
   "cell_type": "code",
   "execution_count": 39,
   "metadata": {},
   "outputs": [
    {
     "name": "stdout",
     "output_type": "stream",
     "text": [
      "Adding bell peppers.\n",
      "Adding corn.\n",
      "Adding onion.\n",
      "\n",
      "Finished making your Pizza.\n"
     ]
    }
   ],
   "source": [
    "requested_toppings = ['bell peppers', 'corn', 'onion']\n",
    "for requested_topping in requested_toppings:\n",
    "    print(\"Adding \" + requested_topping + \".\")\n",
    "\n",
    "print(\"\\nFinished making your Pizza.\")"
   ]
  },
  {
   "cell_type": "markdown",
   "metadata": {},
   "source": [
    "the pizzeria runs out of bell peppers? An if statement\n",
    "inside the for loop can handle this situation appropriately:\n"
   ]
  },
  {
   "cell_type": "code",
   "execution_count": 43,
   "metadata": {},
   "outputs": [
    {
     "name": "stdout",
     "output_type": "stream",
     "text": [
      "Sorry, we are out of bell peppers right now.\n",
      "Adding mushrooms.\n",
      "Adding tomatoes.\n",
      "Adding prawns.\n",
      "\n",
      "Finished making your Pizza!\n"
     ]
    }
   ],
   "source": [
    "requested_toppings = ['bell peppers', 'mushrooms', 'tomatoes', 'prawns']\n",
    "for requested_topping in requested_toppings:\n",
    "    if requested_topping == 'bell peppers':\n",
    "        print(\"Sorry, we are out of bell peppers right now.\")\n",
    "    else:\n",
    "        print(\"Adding \" + requested_topping + \".\")\n",
    "\n",
    "print(\"\\nFinished making your Pizza!\")"
   ]
  },
  {
   "cell_type": "markdown",
   "metadata": {},
   "source": [
    "### Checking That a List Is Not Empty"
   ]
  },
  {
   "cell_type": "markdown",
   "metadata": {},
   "source": [
    "let’s check whether the list of requested toppings is\n",
    "empty before building the pizza. If the list is empty, we’ll prompt the user\n",
    "and make sure they want a plain pizza. If the list is not empty, we’ll build\n",
    "the pizza just as we did in the previously"
   ]
  },
  {
   "cell_type": "code",
   "execution_count": 45,
   "metadata": {},
   "outputs": [
    {
     "name": "stdout",
     "output_type": "stream",
     "text": [
      "Are you sure you want a plain Pizza?\n"
     ]
    }
   ],
   "source": [
    "requested_toppings = []\n",
    "if requested_toppings:\n",
    "    for requested_topping in requested_toppings:\n",
    "        print(\"Adding \" + requested_topping + \".\")\n",
    "    print(\"\\nFinished making your Pizza!\")\n",
    "else:\n",
    "    print(\"Are you sure you want a plain Pizza?\")"
   ]
  },
  {
   "cell_type": "markdown",
   "metadata": {},
   "source": [
    "This time we start out with an empty list of requested toppings.\n",
    "Instead of jumping right into a for loop, we do a quick check. When the\n",
    "name of a list is used in an if statement, Python returns True if the list contains at least one item; an empty list evaluates to False. If requested_toppings\n",
    "passes the conditional test, we run the same for loop we used in the previous\n",
    "example. If the conditional test fails, we print a message asking the customer\n",
    "if they really want a plain pizza with no toppings."
   ]
  },
  {
   "cell_type": "raw",
   "metadata": {},
   "source": [
    "If the list is not empty, the output will show each requested topping\n",
    "being added to the pizza."
   ]
  },
  {
   "cell_type": "code",
   "execution_count": 47,
   "metadata": {},
   "outputs": [
    {
     "name": "stdout",
     "output_type": "stream",
     "text": [
      "Adding Panner Tikka.\n",
      "Adding Capsicum.\n",
      "\n",
      "Finished making your Pizza.\n"
     ]
    }
   ],
   "source": [
    "requested_toppings = ['Panner Tikka', 'Capsicum']\n",
    "if requested_toppings:\n",
    "    for requested_topping in requested_toppings:\n",
    "        print(\"Adding \" + requested_topping + \".\")\n",
    "    print(\"\\nFinished making your Pizza.\")\n",
    "else:\n",
    "    print(\"Are you sure you want a plain Pizza?\")"
   ]
  },
  {
   "cell_type": "markdown",
   "metadata": {},
   "source": [
    "### Using Multiple Lists"
   ]
  },
  {
   "cell_type": "markdown",
   "metadata": {},
   "source": [
    "each item in requested_toppings is checked against the\n",
    "list of available toppings before it’s added to the pizza:"
   ]
  },
  {
   "cell_type": "code",
   "execution_count": 50,
   "metadata": {},
   "outputs": [
    {
     "name": "stdout",
     "output_type": "stream",
     "text": [
      "Adding paneer.\n",
      "Sorry, we don't have chicken.\n",
      "Adding capsicum.\n",
      "\n",
      "Finished making your Pizza!\n"
     ]
    }
   ],
   "source": [
    "available_toppings = ['paneer', 'capsicum', 'onion', 'bell pepper']\n",
    "requested_toppings = ['paneer', 'chicken', 'capsicum']\n",
    "for requested_topping in requested_toppings:\n",
    "    if requested_topping in available_toppings:\n",
    "        print(\"Adding \" + requested_topping + \".\")\n",
    "    else:\n",
    "        print(\"Sorry, we don't have \" + requested_topping + \".\")\n",
    "\n",
    "print(\"\\nFinished making your Pizza!\")\n",
    "    "
   ]
  },
  {
   "cell_type": "markdown",
   "metadata": {},
   "source": [
    " we define a list of available toppings at this pizzeria. Note that\n",
    "this could be a tuple if the pizzeria has a stable selection of toppings.Later\n",
    "we make a list of toppings that a customer has requested. Note the unusual\n",
    "request, 'chicken'.  we loop through the list of requested toppings.\n",
    "Inside the loop, we first check to see if each requested topping is actually\n",
    "in the list of available toppings . If it is, we add that topping to the pizza.\n",
    "If the requested topping is not in the list of available toppings, the else block\n",
    "will run . The else block prints a message telling the user which toppings\n",
    "are unavailable"
   ]
  },
  {
   "cell_type": "raw",
   "metadata": {},
   "source": [
    "5-8. Hello Admin: Make a list of five or more usernames, including the name\n",
    "'admin'. Imagine you are writing code that will print a greeting to each user\n",
    "after they log in to a website. Loop through the list, and print a greeting to\n",
    "each user:\n",
    "\n",
    "\n",
    "•\t If the username is 'admin', print a special greeting, such as Hello admin,\n",
    "would you like to see a status report?\n",
    "•\t Otherwise, print a generic greeting, such as Hello Eric, thank you for logging in again."
   ]
  },
  {
   "cell_type": "code",
   "execution_count": 54,
   "metadata": {},
   "outputs": [
    {
     "name": "stdout",
     "output_type": "stream",
     "text": [
      "Hello admin, would you like to see a status report?\n",
      "\n",
      "Hello sara_raool, thank you for logging in again.\n",
      "\n",
      "Hello priti_zinta, thank you for logging in again.\n",
      "\n",
      "Hello saee000, thank you for logging in again.\n",
      "\n",
      "Hello jamesbon007, thank you for logging in again.\n"
     ]
    }
   ],
   "source": [
    "usernames = ['admin', 'sara_raool', 'priti_zinta', 'saee000', 'jamesbon007']\n",
    "for username in usernames:\n",
    "    if username == 'admin':\n",
    "        print(\"Hello admin, would you like to see a status report?\")\n",
    "    else:\n",
    "        print(\"\\nHello \" + username + \", thank you for logging in again.\")"
   ]
  },
  {
   "cell_type": "raw",
   "metadata": {},
   "source": [
    "5-9. No Users: Add an if test to hello_admin.py to make sure the list of users is\n",
    "not empty.\n",
    "\n",
    "\n",
    "•\t If the list is empty, print the message We need to find some users!\n",
    "•\t Remove all of the usernames from your list, and make sure the correct\n",
    "message is printed."
   ]
  },
  {
   "cell_type": "code",
   "execution_count": 55,
   "metadata": {},
   "outputs": [
    {
     "name": "stdout",
     "output_type": "stream",
     "text": [
      "We need to find more users!\n"
     ]
    }
   ],
   "source": [
    "usernames = []\n",
    "if usernames:\n",
    "    for username in usernames:\n",
    "        print(\"Hello \" + username + \".\")\n",
    "else:\n",
    "    print(\"We need to find more users!\")"
   ]
  },
  {
   "cell_type": "raw",
   "metadata": {},
   "source": [
    "5-10. Checking Usernames: Do the following to create a program that simulates\n",
    "how websites ensure that everyone has a unique username.\n",
    "\n",
    "•\t Make a list of five or more usernames called current_users.\n",
    "•\t Make another list of five usernames called new_users. Make sure one or\n",
    "two of the new usernames are also in the current_users list.\n",
    "•\t Loop through the new_users list to see if each new username has already\n",
    "been used. If it has, print a message that the person will need to enter a\n",
    "new username. If a username has not been used, print a message saying\n",
    "that the username is available.\n",
    "•\t Make sure your comparison is case insensitive. If 'John' has been used,\n",
    "'JOHN' should not be accepted."
   ]
  },
  {
   "cell_type": "code",
   "execution_count": 61,
   "metadata": {},
   "outputs": [
    {
     "name": "stdout",
     "output_type": "stream",
     "text": [
      "Username vishnunair is available.\n",
      "Sorry Sara_Raool is not available.\n",
      "Sorry jamesBOND007 is not available.\n"
     ]
    }
   ],
   "source": [
    "current_users = ['admin', 'sara_raool', 'JAMESbond007', 'saee04', 'pritizinta']\n",
    "new_users = ['vishnunair', 'Sara_Raool', 'jamesBOND007']\n",
    "current_users_case_sensitive = [users.lower() for users in current_users]\n",
    "\n",
    "for new_user in new_users:\n",
    "    if new_user.lower() in current_users_case_sensitive:\n",
    "        print(\"Sorry \" + new_user + \" is not available.\")\n",
    "    else:\n",
    "        print(\"Username \" + new_user + \" is available.\")"
   ]
  },
  {
   "cell_type": "raw",
   "metadata": {},
   "source": [
    "5-11. Ordinal Numbers: Ordinal numbers indicate their position in a list, such\n",
    "as 1st or 2nd. Most ordinal numbers end in th, except 1, 2, and 3.\n",
    "\n",
    "•\t Store the numbers 1 through 9 in a list.\n",
    "•\t Loop through the list.\n",
    "•\t Use an if-elif-else chain inside the loop to print the proper ordinal ending for each number. Your output should read \"1st 2nd 3rd 4th 5th 6th\n",
    "7th 8th 9th\", and each result should be on a separate line."
   ]
  },
  {
   "cell_type": "code",
   "execution_count": 71,
   "metadata": {},
   "outputs": [
    {
     "name": "stdout",
     "output_type": "stream",
     "text": [
      "1st\n",
      "2nd\n",
      "3rd\n",
      "4th\n",
      "5th\n",
      "6th\n",
      "7th\n",
      "8th\n",
      "9th\n"
     ]
    }
   ],
   "source": [
    "#numbers = [1,2,3,4,5,6,7,8,9]\n",
    "\n",
    "numbers = list(range(1,10))\n",
    "for number in numbers:\n",
    "    if number == 1:\n",
    "        print(str(number) + 'st')\n",
    "    elif number == 2:\n",
    "        print(str(number) + 'nd')\n",
    "    elif number == 3:\n",
    "        print(str(number) + 'rd')\n",
    "    else:\n",
    "        print(str(number) + 'th')"
   ]
  },
  {
   "cell_type": "code",
   "execution_count": null,
   "metadata": {},
   "outputs": [],
   "source": []
  },
  {
   "cell_type": "code",
   "execution_count": null,
   "metadata": {},
   "outputs": [],
   "source": []
  },
  {
   "cell_type": "code",
   "execution_count": 1,
   "metadata": {},
   "outputs": [
    {
     "name": "stdout",
     "output_type": "stream",
     "text": [
      "Conditional was true\n"
     ]
    }
   ],
   "source": [
    "#True and False values -- booleans\n",
    "if True:\n",
    "    print(\"Conditional was true\")"
   ]
  },
  {
   "cell_type": "code",
   "execution_count": 43,
   "metadata": {},
   "outputs": [],
   "source": [
    "#if value is to false then statement in if block doesnt get printed\n",
    "if False:\n",
    "    print(\"Conditional was true\")"
   ]
  },
  {
   "cell_type": "markdown",
   "metadata": {},
   "source": [
    "# Code to evaluate true or false"
   ]
  },
  {
   "attachments": {
    "image.png": {
     "image/png": "[encoded data removed]"
    }
   },
   "cell_type": "markdown",
   "metadata": {},
   "source": [
    " \"=\" is used for assigning values\n",
    " \n",
    " \n",
    " \"==\" tests for equality\n",
    "\n",
    "![image.png](attachment:image.png)\n",
    " "
   ]
  },
  {
   "cell_type": "code",
   "execution_count": 5,
   "metadata": {},
   "outputs": [
    {
     "name": "stdout",
     "output_type": "stream",
     "text": [
      "Conditional is true\n"
     ]
    }
   ],
   "source": [
    "language='python'\n",
    "if language == 'python':\n",
    "    print(\"Conditional is true\")"
   ]
  },
  {
   "cell_type": "code",
   "execution_count": 7,
   "metadata": {},
   "outputs": [
    {
     "name": "stdout",
     "output_type": "stream",
     "text": [
      "No match\n"
     ]
    }
   ],
   "source": [
    "#using if elif else\n",
    "\n",
    "language= 'java'\n",
    "if language == 'python':\n",
    "    print(\"language is python\")\n",
    "else:\n",
    "    print(\"No match\")"
   ]
  },
  {
   "cell_type": "code",
   "execution_count": 8,
   "metadata": {},
   "outputs": [
    {
     "name": "stdout",
     "output_type": "stream",
     "text": [
      "language is python\n"
     ]
    }
   ],
   "source": [
    "language= 'python'\n",
    "if language == 'python':\n",
    "    print(\"language is python\")\n",
    "else:\n",
    "    print(\"No match\")"
   ]
  },
  {
   "cell_type": "code",
   "execution_count": 9,
   "metadata": {},
   "outputs": [
    {
     "name": "stdout",
     "output_type": "stream",
     "text": [
      "language is java\n"
     ]
    }
   ],
   "source": [
    "#python doesnt have switch-cases as elif statements have the same functionality\n",
    "#one can use multiple elif blocks\n",
    "\n",
    "language= 'java'\n",
    "if language == 'python':\n",
    "    print(\"language is python\")\n",
    "elif language == 'java':\n",
    "    print(\"language is java\")\n",
    "else:\n",
    "    print(\"No match\")"
   ]
  },
  {
   "cell_type": "code",
   "execution_count": 10,
   "metadata": {},
   "outputs": [
    {
     "name": "stdout",
     "output_type": "stream",
     "text": [
      "language is java\n"
     ]
    }
   ],
   "source": [
    "\n",
    "language= 'java'\n",
    "if language == 'python':\n",
    "    print(\"language is python\")\n",
    "elif language == 'java':\n",
    "    print(\"language is java\")\n",
    "elif language == 'ruby':\n",
    "    print(\"language is ruby\")\n",
    "else:\n",
    "    print(\"No match\")"
   ]
  },
  {
   "cell_type": "markdown",
   "metadata": {},
   "source": [
    "boolean operations\n",
    "1 and-- makes sure both of the statements are true\n",
    "2 or-- any one of the statements is true\n",
    "3 not -- changes values -- if true converts it to false -- if false converts it to true"
   ]
  },
  {
   "cell_type": "code",
   "execution_count": 13,
   "metadata": {},
   "outputs": [],
   "source": [
    "user='admin'\n",
    "logged_in=True"
   ]
  },
  {
   "cell_type": "code",
   "execution_count": 16,
   "metadata": {},
   "outputs": [
    {
     "name": "stdout",
     "output_type": "stream",
     "text": [
      "Admin Page\n"
     ]
    }
   ],
   "source": [
    "if user=='admin' and logged_in:\n",
    "    print(\"Admin Page\")\n",
    "else:\n",
    "    print(\"Bad Creds\")"
   ]
  },
  {
   "cell_type": "code",
   "execution_count": 18,
   "metadata": {},
   "outputs": [],
   "source": [
    "user='admin'\n",
    "logged_in=False"
   ]
  },
  {
   "cell_type": "code",
   "execution_count": 19,
   "metadata": {},
   "outputs": [
    {
     "name": "stdout",
     "output_type": "stream",
     "text": [
      "Bad Creds\n"
     ]
    }
   ],
   "source": [
    "if user=='admin' and logged_in:\n",
    "    print(\"Admin Page\")\n",
    "else:\n",
    "    print(\"Bad Creds\")"
   ]
  },
  {
   "cell_type": "code",
   "execution_count": 20,
   "metadata": {},
   "outputs": [
    {
     "name": "stdout",
     "output_type": "stream",
     "text": [
      "Admin Page\n"
     ]
    }
   ],
   "source": [
    "# or -- any one of the statements needs to be true\n",
    "\n",
    "if user=='admin' or logged_in:\n",
    "    print(\"Admin Page\")\n",
    "else:\n",
    "    print(\"Bad Creds\")"
   ]
  },
  {
   "cell_type": "code",
   "execution_count": 21,
   "metadata": {},
   "outputs": [
    {
     "name": "stdout",
     "output_type": "stream",
     "text": [
      "Welcome\n"
     ]
    }
   ],
   "source": [
    "# and -- converts value to opposite value -- true to false -- false to true\n",
    "\n",
    "user=\"Admin\"\n",
    "logged_in=True\n",
    "\n",
    "if not logged_in:\n",
    "    print(\"please login\")\n",
    "else:\n",
    "    print(\"Welcome\")"
   ]
  },
  {
   "cell_type": "code",
   "execution_count": 22,
   "metadata": {},
   "outputs": [
    {
     "name": "stdout",
     "output_type": "stream",
     "text": [
      "True\n"
     ]
    }
   ],
   "source": [
    "# object identity - \"is\" keyword -- tests whether two objects have same id or share same memory location\n",
    "# two objects can actually be equal and not be the same object in memory\n",
    "\n",
    "a=[1,2,3]\n",
    "b=[1,2,3]\n",
    "\n",
    "print(a==b)\n",
    "\n",
    "#true in output because a equals to b"
   ]
  },
  {
   "cell_type": "code",
   "execution_count": 23,
   "metadata": {},
   "outputs": [
    {
     "name": "stdout",
     "output_type": "stream",
     "text": [
      "False\n"
     ]
    }
   ],
   "source": [
    "#op false because two different objects in memory\n",
    "\n",
    "print(a is b)"
   ]
  },
  {
   "cell_type": "code",
   "execution_count": 25,
   "metadata": {},
   "outputs": [
    {
     "name": "stdout",
     "output_type": "stream",
     "text": [
      "2538343463232\n",
      "2538342278016\n",
      "False\n"
     ]
    }
   ],
   "source": [
    "#printing out memory location w built-in id fxn\n",
    "\n",
    "print(id(a))\n",
    "print(id(b))\n",
    "print(id(a)==id(b))"
   ]
  },
  {
   "cell_type": "code",
   "execution_count": 26,
   "metadata": {},
   "outputs": [
    {
     "name": "stdout",
     "output_type": "stream",
     "text": [
      "2538342278016\n",
      "2538342278016\n",
      "True\n"
     ]
    }
   ],
   "source": [
    "a=[1,2,3]\n",
    "a=b\n",
    "\n",
    "print(id(a))\n",
    "print(id(b))\n",
    "print(id(a)==id(b))"
   ]
  },
  {
   "attachments": {
    "image.png": {
     "image/png": "[encoded data removed]"
    }
   },
   "cell_type": "markdown",
   "metadata": {},
   "source": [
    "all the things in python that evaluate to false values\n",
    "\n",
    "![image.png](attachment:image.png)"
   ]
  },
  {
   "cell_type": "code",
   "execution_count": 27,
   "metadata": {},
   "outputs": [
    {
     "name": "stdout",
     "output_type": "stream",
     "text": [
      "Evaluated to False\n"
     ]
    }
   ],
   "source": [
    "condition=False\n",
    "if condition:\n",
    "    print(\"Evaluated to True\")\n",
    "else:\n",
    "    print(\"Evaluated to False\")"
   ]
  },
  {
   "cell_type": "code",
   "execution_count": 28,
   "metadata": {},
   "outputs": [
    {
     "name": "stdout",
     "output_type": "stream",
     "text": [
      "Evaluated to False\n"
     ]
    }
   ],
   "source": [
    "condition=None\n",
    "if condition:\n",
    "    print(\"Evaluated to True\")\n",
    "else:\n",
    "    print(\"Evaluated to False\")"
   ]
  },
  {
   "cell_type": "code",
   "execution_count": 29,
   "metadata": {},
   "outputs": [
    {
     "name": "stdout",
     "output_type": "stream",
     "text": [
      "Evaluated to False\n"
     ]
    }
   ],
   "source": [
    "condition=0\n",
    "if condition:\n",
    "    print(\"Evaluated to True\")\n",
    "else:\n",
    "    print(\"Evaluated to False\")"
   ]
  },
  {
   "cell_type": "code",
   "execution_count": 30,
   "metadata": {},
   "outputs": [
    {
     "name": "stdout",
     "output_type": "stream",
     "text": [
      "Evaluated to True\n"
     ]
    }
   ],
   "source": [
    "#if any numeric value other than zero op returns true\n",
    "\n",
    "condition=100\n",
    "if condition:\n",
    "    print(\"Evaluated to True\")\n",
    "else:\n",
    "    print(\"Evaluated to False\")"
   ]
  },
  {
   "cell_type": "code",
   "execution_count": 31,
   "metadata": {},
   "outputs": [
    {
     "name": "stdout",
     "output_type": "stream",
     "text": [
      "Evaluated to False\n"
     ]
    }
   ],
   "source": [
    "# any empty sequence ie string'' tuples() lists[]   -- or empty mapping ie dict -- value returns false -- else returns true value\n",
    "\n",
    "condition=[]\n",
    "if condition:\n",
    "    print(\"Evaluated to True\")\n",
    "else:\n",
    "    print(\"Evaluated to False\")"
   ]
  },
  {
   "cell_type": "code",
   "execution_count": 37,
   "metadata": {},
   "outputs": [
    {
     "name": "stdout",
     "output_type": "stream",
     "text": [
      "Evaluated to False\n"
     ]
    }
   ],
   "source": [
    "condition=''\n",
    "if condition:\n",
    "    print(\"Evaluated to True\")\n",
    "else:\n",
    "    print(\"Evaluated to False\")"
   ]
  },
  {
   "cell_type": "code",
   "execution_count": 36,
   "metadata": {},
   "outputs": [
    {
     "name": "stdout",
     "output_type": "stream",
     "text": [
      "Evaluated to True\n"
     ]
    }
   ],
   "source": [
    "condition='Sara'\n",
    "if condition:\n",
    "    print(\"Evaluated to True\")\n",
    "else:\n",
    "    print(\"Evaluated to False\")"
   ]
  },
  {
   "cell_type": "code",
   "execution_count": 33,
   "metadata": {},
   "outputs": [
    {
     "name": "stdout",
     "output_type": "stream",
     "text": [
      "Evaluated to True\n"
     ]
    }
   ],
   "source": [
    "condition=[1,'s',4]\n",
    "if condition:\n",
    "    print(\"Evaluated to True\")\n",
    "else:\n",
    "    print(\"Evaluated to False\")"
   ]
  },
  {
   "cell_type": "code",
   "execution_count": 34,
   "metadata": {},
   "outputs": [
    {
     "name": "stdout",
     "output_type": "stream",
     "text": [
      "Evaluated to False\n"
     ]
    }
   ],
   "source": [
    "condition={}\n",
    "if condition:\n",
    "    print(\"Evaluated to True\")\n",
    "else:\n",
    "    print(\"Evaluated to False\")"
   ]
  },
  {
   "cell_type": "code",
   "execution_count": 35,
   "metadata": {},
   "outputs": [
    {
     "name": "stdout",
     "output_type": "stream",
     "text": [
      "Evaluated to True\n"
     ]
    }
   ],
   "source": [
    "condition={'sara':'12'}\n",
    "if condition:\n",
    "    print(\"Evaluated to True\")\n",
    "else:\n",
    "    print(\"Evaluated to False\")"
   ]
  },
  {
   "cell_type": "code",
   "execution_count": null,
   "metadata": {},
   "outputs": [],
   "source": []
  }
 ],
 "metadata": {
  "kernelspec": {
   "display_name": "Python 3",
   "language": "python",
   "name": "python3"
  },
  "language_info": {
   "codemirror_mode": {
    "name": "ipython",
    "version": 3
   },
   "file_extension": ".py",
   "mimetype": "text/x-python",
   "name": "python",
   "nbconvert_exporter": "python",
   "pygments_lexer": "ipython3",
   "version": "3.8.5"
  }
 },
 "nbformat": 4,
 "nbformat_minor": 4
}
