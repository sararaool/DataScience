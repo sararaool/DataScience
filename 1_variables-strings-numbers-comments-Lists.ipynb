{
 "cells": [
  {
   "cell_type": "markdown",
   "metadata": {},
   "source": [
    "2-1. Simple Message: Store a message in a variable, and then print that\n",
    "message"
   ]
  },
  {
   "cell_type": "code",
   "execution_count": 182,
   "metadata": {},
   "outputs": [
    {
     "name": "stdout",
     "output_type": "stream",
     "text": [
      "Hi, Sara.\n"
     ]
    }
   ],
   "source": [
    "variable=(\"Hi, Sara.\")\n",
    "print(variable)"
   ]
  },
  {
   "cell_type": "markdown",
   "metadata": {},
   "source": [
    "2-2. Simple Messages: Store a message in a variable, and print that message.\n",
    "Then change the value of your variable to a new message, and print the new\n",
    "message."
   ]
  },
  {
   "cell_type": "code",
   "execution_count": 183,
   "metadata": {},
   "outputs": [
    {
     "name": "stdout",
     "output_type": "stream",
     "text": [
      "Hello World!\n"
     ]
    }
   ],
   "source": [
    "variable=(\"Hello World!\")\n",
    "print(variable)"
   ]
  },
  {
   "cell_type": "markdown",
   "metadata": {},
   "source": [
    "A string is simply a series of characters."
   ]
  },
  {
   "cell_type": "markdown",
   "metadata": {},
   "source": [
    "A method is an action that Python can perform on a piece of data"
   ]
  },
  {
   "cell_type": "code",
   "execution_count": 184,
   "metadata": {
    "scrolled": true
   },
   "outputs": [
    {
     "name": "stdout",
     "output_type": "stream",
     "text": [
      "Sara Raool\n"
     ]
    }
   ],
   "source": [
    "name = \"sara raool\"\n",
    "print(name.title())"
   ]
  },
  {
   "cell_type": "markdown",
   "metadata": {},
   "source": [
    "The method title() displays each word in titlecase, where each word begins with a\n",
    "capital letter."
   ]
  },
  {
   "cell_type": "code",
   "execution_count": 185,
   "metadata": {},
   "outputs": [
    {
     "name": "stdout",
     "output_type": "stream",
     "text": [
      "SARA RAOOL\n",
      "sara raool\n"
     ]
    }
   ],
   "source": [
    "print(name.upper())\n",
    "print(name.lower())"
   ]
  },
  {
   "cell_type": "markdown",
   "metadata": {},
   "source": [
    "Adding Whitespace to Strings with Tabs or Newlines\n",
    "whitespace refers to any nonprinting character, such as\n",
    "spaces, tabs, and end-of-line symbols."
   ]
  },
  {
   "cell_type": "code",
   "execution_count": 186,
   "metadata": {},
   "outputs": [
    {
     "name": "stdout",
     "output_type": "stream",
     "text": [
      "Python\n",
      "\tPython\n"
     ]
    }
   ],
   "source": [
    "print(\"Python\")\n",
    "print(\"\\tPython\")"
   ]
  },
  {
   "cell_type": "markdown",
   "metadata": {},
   "source": [
    "To add a tab to your text, use the character combination \\t"
   ]
  },
  {
   "cell_type": "code",
   "execution_count": 187,
   "metadata": {},
   "outputs": [
    {
     "name": "stdout",
     "output_type": "stream",
     "text": [
      "Info\n",
      "Sara Raool\n",
      "Achiever\n",
      "Doer\n"
     ]
    }
   ],
   "source": [
    "print(\"Info\\nSara Raool\\nAchiever\\nDoer\")"
   ]
  },
  {
   "cell_type": "markdown",
   "metadata": {},
   "source": [
    "Python can look for extra whitespace on the right and left sides of a\n",
    "string. To ensure that no whitespace exists at the right end of a string, use\n",
    "the rstrip() method.\n",
    "To remove the whitespace from the string permanently, you have to\n",
    "store the stripped value back into the variable\n",
    "You can also strip whitespace from the left side of a string using the\n",
    "lstrip() method or strip whitespace from both sides at once using strip()"
   ]
  },
  {
   "cell_type": "markdown",
   "metadata": {},
   "source": [
    "2-3. Personal Message: Store a person’s name in a variable, and print a message to that person. Your message should be simple, such as, “Hello Eric,\n",
    "would you like to learn some Python today?”"
   ]
  },
  {
   "cell_type": "code",
   "execution_count": 188,
   "metadata": {},
   "outputs": [
    {
     "name": "stdout",
     "output_type": "stream",
     "text": [
      "Hello Prasad, would you like to learn some python?\n"
     ]
    }
   ],
   "source": [
    "name = \"Prasad\"\n",
    "message = \"Hello \" + name + \", would you like to learn some python?\"\n",
    "print(message)"
   ]
  },
  {
   "cell_type": "markdown",
   "metadata": {},
   "source": [
    "2-4. Name Cases: Store a person’s name in a variable, and then print that person’s name in lowercase, uppercase, and titlecase."
   ]
  },
  {
   "cell_type": "code",
   "execution_count": 189,
   "metadata": {},
   "outputs": [
    {
     "name": "stdout",
     "output_type": "stream",
     "text": [
      "prasad\n",
      "PRASAD\n",
      "Prasad\n"
     ]
    }
   ],
   "source": [
    "print(name.lower())\n",
    "print(name.upper())\n",
    "print(name.title())"
   ]
  },
  {
   "cell_type": "markdown",
   "metadata": {},
   "source": [
    "2-5. Famous Quote: Find a quote from a famous person you admire. Print the\n",
    "quote and the name of its author. Your output should look something like the\n",
    "following, including the quotation marks:\n",
    "Albert Einstein once said, “A person who never made a\n",
    "mistake never tried anything new.”"
   ]
  },
  {
   "cell_type": "code",
   "execution_count": 190,
   "metadata": {},
   "outputs": [
    {
     "name": "stdout",
     "output_type": "stream",
     "text": [
      "Naval Ravikant once said, 'All the returns in life, whether in wealth, relationships, or knowledge, come from compound interest.'\n"
     ]
    }
   ],
   "source": [
    "name = \"Naval Ravikant\" \n",
    "quote = \"All the returns in life, whether in wealth, relationships, or knowledge, come from compound interest.\"\n",
    "op = name + \" once said, '\" + quote + \"'\"\n",
    "print(op)"
   ]
  },
  {
   "cell_type": "markdown",
   "metadata": {},
   "source": [
    "2-6. Famous Quote 2: Repeat Exercise 2-5, but this time store the famous person’s name in a variable called famous_person. Then compose your message\n",
    "and store it in a new variable called message. Print your message."
   ]
  },
  {
   "cell_type": "code",
   "execution_count": 191,
   "metadata": {},
   "outputs": [
    {
     "name": "stdout",
     "output_type": "stream",
     "text": [
      "Sara Raool says: Belive, Plan, Act, Give your 10/10\n"
     ]
    }
   ],
   "source": [
    "famous_person = \"Sara Raool\"\n",
    "message = \"Belive, Plan, Act, Give your 10/10\"\n",
    "print(famous_person,\"says: \" + message)"
   ]
  },
  {
   "cell_type": "markdown",
   "metadata": {},
   "source": [
    "2-7. Stripping Names: Store a person’s name, and include some whitespace\n",
    "characters at the beginning and end of the name. Make sure you use each\n",
    "character combination, \"\\t\" and \"\\n\", at least once.\n",
    "Print the name once, so the whitespace around the name is displayed.\n",
    "Then print the name using each of the three stripping functions, lstrip(),\n",
    "rstrip(), and strip()."
   ]
  },
  {
   "cell_type": "code",
   "execution_count": 192,
   "metadata": {},
   "outputs": [
    {
     "name": "stdout",
     "output_type": "stream",
     "text": [
      "\tsara\n",
      "raool\t.\n"
     ]
    }
   ],
   "source": [
    "new_name = \"\\tsara\\nraool\\t.\"\n",
    "print(new_name)"
   ]
  },
  {
   "cell_type": "code",
   "execution_count": 193,
   "metadata": {},
   "outputs": [
    {
     "name": "stdout",
     "output_type": "stream",
     "text": [
      "sara\n",
      "raool\t.\n",
      "\tsara\n",
      "raool\t.\n",
      "sara\n",
      "raool\t.\n"
     ]
    }
   ],
   "source": [
    "print(new_name.lstrip())\n",
    "print(new_name.rstrip())\n",
    "print(new_name.strip())"
   ]
  },
  {
   "cell_type": "markdown",
   "metadata": {},
   "source": [
    "Python knows that the variable could represent either the numerical\n",
    "value 23 or the characters 2 and 3. When you use integers within strings\n",
    "like this, you need to specify explicitly that you want Python to use the integer as a string of characters. You can do this by wrapping the variable in the\n",
    "str() function, which tells Python to represent non-string values as strings:\n"
   ]
  },
  {
   "cell_type": "code",
   "execution_count": 194,
   "metadata": {},
   "outputs": [
    {
     "name": "stdout",
     "output_type": "stream",
     "text": [
      "Happy 23rd Birthday!\n"
     ]
    }
   ],
   "source": [
    "age = 23\n",
    "meassage = \"Happy \"+ str(age) +\"rd Birthday!\"\n",
    "print(meassage)"
   ]
  },
  {
   "cell_type": "markdown",
   "metadata": {},
   "source": [
    "2-8. Number Eight: Write addition, subtraction, multiplication, and division\n",
    "operations that each result in the number 8. Be sure to enclose your operations\n",
    "in print statements to see the results. You should create four lines that look\n",
    "like this:\n",
    "print(5 + 3)\n",
    "Your output should simply be four lines with the number 8 appearing once\n",
    "on each line."
   ]
  },
  {
   "cell_type": "code",
   "execution_count": 195,
   "metadata": {},
   "outputs": [
    {
     "name": "stdout",
     "output_type": "stream",
     "text": [
      "8\n",
      "8\n",
      "8\n",
      "8.0\n"
     ]
    }
   ],
   "source": [
    "print(4 + 4)\n",
    "print(16 - 8)\n",
    "print(4 * 2)\n",
    "print(16 / 2)\n"
   ]
  },
  {
   "cell_type": "markdown",
   "metadata": {},
   "source": [
    "2-9. Favorite Number: Store your favorite number in a variable. Then, using\n",
    "that variable, create a message that reveals your favorite number. Print that\n",
    "message."
   ]
  },
  {
   "cell_type": "code",
   "execution_count": 196,
   "metadata": {},
   "outputs": [
    {
     "name": "stdout",
     "output_type": "stream",
     "text": [
      "63\n"
     ]
    }
   ],
   "source": [
    "fav_no = 63\n",
    "msg = str(63)\n",
    "print(msg)"
   ]
  },
  {
   "cell_type": "raw",
   "metadata": {},
   "source": [
    "A comment allows you to write notes in English within your programs.\n",
    "the hash mark (#) indicates a comment."
   ]
  },
  {
   "cell_type": "code",
   "execution_count": 197,
   "metadata": {},
   "outputs": [
    {
     "name": "stdout",
     "output_type": "stream",
     "text": [
      "You Doing great and i love u\n"
     ]
    }
   ],
   "source": [
    "# Hi Sara\n",
    "print(\"You Doing great and i love u\")"
   ]
  },
  {
   "cell_type": "markdown",
   "metadata": {},
   "source": [
    "2-10. Adding Comments: Choose two of the programs you’ve written, and\n",
    "add at least one comment to each. If you don’t have anything specific to write\n",
    "because your programs are too simple at this point, just add your name and\n",
    "the current date at the top of each program file. Then write one sentence\n",
    "describing what the program does."
   ]
  },
  {
   "cell_type": "code",
   "execution_count": 198,
   "metadata": {},
   "outputs": [
    {
     "name": "stdout",
     "output_type": "stream",
     "text": [
      "15\n",
      "19\n"
     ]
    }
   ],
   "source": [
    "#Simple Addition program\n",
    "print(6 + 9)\n",
    "\n",
    "#Addition Program using fxn.\n",
    "#Take an array of nos and add them using sum() fxn\n",
    "\n",
    "array = [1,6,8,4]\n",
    "print(sum(array))"
   ]
  },
  {
   "cell_type": "markdown",
   "metadata": {},
   "source": [
    "# If you have a choice between a simple and a complex solution, and both\n",
    "work, use the simple solution. Your code will be easier to maintain, and it\n",
    "will be easier for you and others to build on that code later on."
   ]
  },
  {
   "cell_type": "markdown",
   "metadata": {},
   "source": [
    "# Don’t try to write perfect code; write code that works, and then\n",
    "decide whether to improve your code for that project or move on to something new."
   ]
  },
  {
   "cell_type": "markdown",
   "metadata": {},
   "source": [
    "# Lists\n"
   ]
  },
  {
   "cell_type": "code",
   "execution_count": 199,
   "metadata": {},
   "outputs": [
    {
     "name": "stdout",
     "output_type": "stream",
     "text": [
      "My first bike is Bullet.\n"
     ]
    }
   ],
   "source": [
    "my_list = [\"bullet\", \"GS5\", \"Tiger\"]\n",
    "new_msg = \"My first bike is \" + my_list[0].title() + \".\"\n",
    "print(new_msg)"
   ]
  },
  {
   "cell_type": "markdown",
   "metadata": {},
   "source": [
    "3-1. Names: Store the names of a few of your friends in a list called names. Print\n",
    "each person’s name by accessing each element in the list, one at a time."
   ]
  },
  {
   "cell_type": "code",
   "execution_count": 200,
   "metadata": {},
   "outputs": [
    {
     "name": "stdout",
     "output_type": "stream",
     "text": [
      "Vishnu\n",
      "Sara\n",
      "BAPPA\n"
     ]
    }
   ],
   "source": [
    "name_of_frirends = [\"Vishnu\", \"Sara\", \"Bappa\"]\n",
    "print(name_of_frirends[0])\n",
    "print(name_of_frirends[1])\n",
    "print(name_of_frirends[2].upper())"
   ]
  },
  {
   "cell_type": "markdown",
   "metadata": {},
   "source": [
    "3-2. Greetings: Start with the list you used in Exercise 3-1, but instead of just\n",
    "printing each person’s name, print a message to them. The text of each message should be the same, but each message should be personalized with the\n",
    "person’s name."
   ]
  },
  {
   "cell_type": "code",
   "execution_count": 201,
   "metadata": {},
   "outputs": [
    {
     "name": "stdout",
     "output_type": "stream",
     "text": [
      "Hi There,  Vishnu .\n",
      "Hi There,  Sara .\n",
      "Hi There,  Bappa .\n"
     ]
    }
   ],
   "source": [
    "msg = \"Hi There, \" \n",
    "print(msg, name_of_frirends[0],\".\")\n",
    "print(msg, name_of_frirends[1], \".\")\n",
    "print(msg, name_of_frirends[2],\".\")\n"
   ]
  },
  {
   "cell_type": "markdown",
   "metadata": {},
   "source": [
    "3-3. Your Own List: Think of your favorite mode of transportation, such as a\n",
    "motorcycle or a car, and make a list that stores several examples. Use your list\n",
    "to print a series of statements about these items, such as “I would like to own a\n",
    "Honda motorcycle.”"
   ]
  },
  {
   "cell_type": "code",
   "execution_count": 202,
   "metadata": {},
   "outputs": [
    {
     "name": "stdout",
     "output_type": "stream",
     "text": [
      "I would like to own a Bullet & Telescope .\n"
     ]
    }
   ],
   "source": [
    "vehicles = ['Bullet', 'Honda', 'GS5', 'Telescope']\n",
    "print(\"I would like to own a \" + vehicles[0],\"& \" + vehicles[-1], \".\") "
   ]
  },
  {
   "cell_type": "code",
   "execution_count": 203,
   "metadata": {},
   "outputs": [
    {
     "data": {
      "text/plain": [
       "['Bullet', 'Honda', 'GS5', 'Telescope']"
      ]
     },
     "execution_count": 203,
     "metadata": {},
     "output_type": "execute_result"
    }
   ],
   "source": [
    "vehicles"
   ]
  },
  {
   "cell_type": "code",
   "execution_count": 204,
   "metadata": {},
   "outputs": [
    {
     "data": {
      "text/plain": [
       "['Bullet', 'Honda', 'GS5', 'Harley']"
      ]
     },
     "execution_count": 204,
     "metadata": {},
     "output_type": "execute_result"
    }
   ],
   "source": [
    "vehicles[-1] = \"Harley\"\n",
    "vehicles"
   ]
  },
  {
   "cell_type": "markdown",
   "metadata": {},
   "source": [
    "Adding Elements to a List\n",
    "Appending Elements to the End of a List\n"
   ]
  },
  {
   "cell_type": "code",
   "execution_count": 205,
   "metadata": {},
   "outputs": [
    {
     "data": {
      "text/plain": [
       "['Bullet', 'Honda', 'GS5', 'Harley', 'Ducati']"
      ]
     },
     "execution_count": 205,
     "metadata": {},
     "output_type": "execute_result"
    }
   ],
   "source": [
    "vehicles.append(\"Ducati\")\n",
    "vehicles"
   ]
  },
  {
   "cell_type": "markdown",
   "metadata": {},
   "source": [
    "The append() method makes it easy to build lists dynamically. For\n",
    "example, you can start with an empty list and then add items to the list\n",
    "using a series of append() statements. Using an empty list, let’s add the elements 'honda', 'yamaha', and 'suzuki' to the list"
   ]
  },
  {
   "cell_type": "code",
   "execution_count": 206,
   "metadata": {},
   "outputs": [
    {
     "name": "stdout",
     "output_type": "stream",
     "text": [
      "['Honda', 'Yamaha', 'Suzuki']\n"
     ]
    }
   ],
   "source": [
    "motorcycles = []\n",
    "\n",
    "#adding new elements to empty list using append() fxn\n",
    "motorcycles.append(\"Honda\")\n",
    "motorcycles.append(\"Yamaha\")\n",
    "motorcycles.append(\"Suzuki\")\n",
    "print(motorcycles)"
   ]
  },
  {
   "cell_type": "markdown",
   "metadata": {},
   "source": [
    "Building lists this way is very common, because you often won’t know\n",
    "the data your users want to store in a program until after the program is\n",
    "running. To put your users in control, start by defining an empty list that\n",
    "will hold the users’ values. Then append each new value provided to the list\n",
    "you just created."
   ]
  },
  {
   "cell_type": "markdown",
   "metadata": {},
   "source": [
    "Inserting Elements into a List\n",
    "You can add a new element at any position in your list by using the insert()\n",
    "method. You do this by specifying the index of the new element and the\n",
    "value of the new item."
   ]
  },
  {
   "cell_type": "code",
   "execution_count": 207,
   "metadata": {},
   "outputs": [
    {
     "name": "stdout",
     "output_type": "stream",
     "text": [
      "['Bullet', 'Honda', 'GS5', 'Harley', 'Ducati']\n"
     ]
    }
   ],
   "source": [
    "print(vehicles)"
   ]
  },
  {
   "cell_type": "code",
   "execution_count": 208,
   "metadata": {},
   "outputs": [
    {
     "data": {
      "text/plain": [
       "['Bullet', 'Himalayan', 'Honda', 'GS5', 'Harley', 'Ducati']"
      ]
     },
     "execution_count": 208,
     "metadata": {},
     "output_type": "execute_result"
    }
   ],
   "source": [
    "vehicles.insert(1,'Himalayan')\n",
    "vehicles"
   ]
  },
  {
   "cell_type": "markdown",
   "metadata": {},
   "source": [
    "In this example, the code at inserts the value 'ducati' at the beginning of the list. The insert() method opens a space at position 1 and stores\n",
    "the value 'Himalayan' at that location. This operation shifts every other value\n",
    "in the list one position to the right:"
   ]
  },
  {
   "cell_type": "markdown",
   "metadata": {},
   "source": [
    "Removing an Item Using the del Statement\n",
    "If you know the position of the item you want to remove from a list, you can\n",
    "use the del statement. "
   ]
  },
  {
   "cell_type": "code",
   "execution_count": 209,
   "metadata": {},
   "outputs": [
    {
     "data": {
      "text/plain": [
       "['Bullet', 'Himalayan', 'GS5', 'Harley', 'Ducati']"
      ]
     },
     "execution_count": 209,
     "metadata": {},
     "output_type": "execute_result"
    }
   ],
   "source": [
    "del vehicles[2]\n",
    "vehicles"
   ]
  },
  {
   "cell_type": "markdown",
   "metadata": {},
   "source": [
    "The code above uses del to remove the third item, 'honda', from the list of\n",
    "motorcycles"
   ]
  },
  {
   "cell_type": "markdown",
   "metadata": {},
   "source": [
    "Removing an Item Using the pop() Method\n",
    "The pop() method removes the last item in a list, but it lets you work\n",
    "with that item after removing it. The term pop comes from thinking of a\n",
    "list as a stack of items and popping one item off the top of the stack. In\n",
    "this analogy, the top of a stack corresponds to the end of a list."
   ]
  },
  {
   "cell_type": "code",
   "execution_count": 210,
   "metadata": {},
   "outputs": [
    {
     "name": "stdout",
     "output_type": "stream",
     "text": [
      "['Bullet', 'Himalayan', 'GS5', 'Harley']\n"
     ]
    }
   ],
   "source": [
    "vehicles.pop()\n",
    "print(vehicles)"
   ]
  },
  {
   "cell_type": "code",
   "execution_count": 211,
   "metadata": {},
   "outputs": [
    {
     "name": "stdout",
     "output_type": "stream",
     "text": [
      "['Bullet', 'Himalayan', 'GS5']\n"
     ]
    }
   ],
   "source": [
    "vehicles.pop()\n",
    "print(vehicles)"
   ]
  },
  {
   "cell_type": "code",
   "execution_count": 212,
   "metadata": {},
   "outputs": [
    {
     "name": "stdout",
     "output_type": "stream",
     "text": [
      "['Bullet', 'Himalayan']\n",
      "GS5\n"
     ]
    }
   ],
   "source": [
    "popped_vehicles = vehicles.pop()\n",
    "print(vehicles)\n",
    "print(popped_vehicles)"
   ]
  },
  {
   "cell_type": "markdown",
   "metadata": {},
   "source": [
    "We start by defining and printing the list motorcycles, we pop\n",
    "a value from the list and store that value in the variable popped_motorcycle.\n",
    "We print the list to show that a value has been removed from the list.\n",
    "Then we print the popped value at to prove that we still have access to\n",
    "the value that was removed.\n",
    "The output shows that the value 'GS5' was removed from the end of\n",
    "the list and is now stored in the variable popped_motorcycle"
   ]
  },
  {
   "cell_type": "code",
   "execution_count": 213,
   "metadata": {},
   "outputs": [
    {
     "name": "stdout",
     "output_type": "stream",
     "text": [
      "My Veciles:  ['Bullet', 'Honda Africa Twin']\n",
      "The last bike I owned was Honda Africa Twin.\n"
     ]
    }
   ],
   "source": [
    "my_vehicles = [\"Bullet\", \"Honda Africa Twin\"]\n",
    "print(\"My Veciles: \", my_vehicles)\n",
    "last_owned = my_vehicles.pop()\n",
    "print(\"The last bike I owned was \" + last_owned + \".\")\n"
   ]
  },
  {
   "cell_type": "markdown",
   "metadata": {},
   "source": [
    "Popping Items from any Position in a List\n",
    "You can actually use pop() to remove an item in a list at any position by\n",
    "including the index of the item you want to remove in parentheses.\n"
   ]
  },
  {
   "cell_type": "code",
   "execution_count": 214,
   "metadata": {},
   "outputs": [
    {
     "name": "stdout",
     "output_type": "stream",
     "text": [
      "The first bike I owned was Bullet.\n"
     ]
    }
   ],
   "source": [
    "first_owned = my_vehicles.pop(0)\n",
    "print(\"The first bike I owned was \" + first_owned + \".\")"
   ]
  },
  {
   "cell_type": "markdown",
   "metadata": {},
   "source": [
    "# If you’re unsure whether to use the del statement or the pop() method,\n",
    "here’s a simple way to decide: when you want to delete an item from a list\n",
    "and not use that item in any way, use the del statement; if you want to use an\n",
    "item as you remove it, use the pop() method."
   ]
  },
  {
   "cell_type": "markdown",
   "metadata": {},
   "source": [
    "Removing an Item by Value\n",
    "If you only know the value of the item you want to remove, you\n",
    "can use the remove() method."
   ]
  },
  {
   "cell_type": "code",
   "execution_count": 215,
   "metadata": {},
   "outputs": [
    {
     "name": "stdout",
     "output_type": "stream",
     "text": [
      "['Bullet', 'Himalayan', 'Honda', 'GS5', 'Harley', 'Ducati']\n",
      "['Bullet', 'Himalayan', 'GS5', 'Harley', 'Ducati']\n"
     ]
    }
   ],
   "source": [
    "bikes = ['Bullet', 'Himalayan', 'Honda', 'GS5', 'Harley', 'Ducati']\n",
    "print(bikes)\n",
    "bikes.remove('Honda')\n",
    "print(bikes)"
   ]
  },
  {
   "cell_type": "code",
   "execution_count": 216,
   "metadata": {},
   "outputs": [
    {
     "data": {
      "text/plain": [
       "['Bullet', 'Himalayan', 'GS5', 'Harley', 'Ducati']"
      ]
     },
     "execution_count": 216,
     "metadata": {},
     "output_type": "execute_result"
    }
   ],
   "source": [
    "bikes"
   ]
  },
  {
   "cell_type": "code",
   "execution_count": 217,
   "metadata": {},
   "outputs": [
    {
     "name": "stdout",
     "output_type": "stream",
     "text": [
      "['Bullet', 'Himalayan', 'GS5', 'Ducati']\n",
      "Harley is a high cost bike\n"
     ]
    }
   ],
   "source": [
    "too_expensive = \"Harley\"\n",
    "bikes.remove(too_expensive)\n",
    "print(bikes)\n",
    "print(too_expensive, \"is a high cost bike\")"
   ]
  },
  {
   "cell_type": "markdown",
   "metadata": {},
   "source": [
    "The remove() method deletes only the first occurrence of the value you specify. If there’s\n",
    "a possibility the value appears more than once in the list, you’ll need to use a loop to\n",
    "determine if all occurrences of the value have been removed."
   ]
  },
  {
   "cell_type": "markdown",
   "metadata": {},
   "source": [
    "3-4. Guest List: If you could invite anyone, living or deceased, to dinner, who\n",
    "would you invite? Make a list that includes at least three people you’d like to\n",
    "invite to dinner. Then use your list to print a message to each person, inviting\n",
    "them to dinner."
   ]
  },
  {
   "cell_type": "code",
   "execution_count": 218,
   "metadata": {},
   "outputs": [
    {
     "name": "stdout",
     "output_type": "stream",
     "text": [
      "Mavsoo is invited for Dinner.\n",
      "Mau is invited for Dinner.\n",
      "Kanu is invited for Dinner.\n"
     ]
    }
   ],
   "source": [
    "guest_list = [\"Mavsoo\", \"Mau\", \"Kanu\"]\n",
    "print(guest_list[0], \"is invited for Dinner.\")\n",
    "print(guest_list[1], \"is invited for Dinner.\")\n",
    "print(guest_list[2], \"is invited for Dinner.\")"
   ]
  },
  {
   "cell_type": "markdown",
   "metadata": {},
   "source": [
    "3-5. Changing Guest List: You just heard that one of your guests can’t make the\n",
    "dinner, so you need to send out a new set of invitations. You’ll have to think of\n",
    "someone else to invite.\n",
    "•\t Start with your program from Exercise 3-4. Add a print statement at the\n",
    "end of your program stating the name of the guest who can’t make it.\n",
    "•\t Modify your list, replacing the name of the guest who can’t make it with\n",
    "the name of the new person you are inviting.\n",
    "•\t Print a second set of invitation messages, one for each person who is still\n",
    "in your list."
   ]
  },
  {
   "cell_type": "code",
   "execution_count": 219,
   "metadata": {},
   "outputs": [
    {
     "name": "stdout",
     "output_type": "stream",
     "text": [
      "Mau won't be attending Dinner.\n",
      "Srisha is now invited in place of Mau for Dinner.\n"
     ]
    }
   ],
   "source": [
    "print(guest_list[1], \"won't be attending Dinner.\")\n",
    "guest_list.remove(\"Mau\")\n",
    "#Replacing Mau with Srisha\n",
    "guest_list.insert(1, \"Srisha\")\n",
    "print(guest_list[1],\"is now invited in place of Mau for Dinner.\")\n"
   ]
  },
  {
   "cell_type": "code",
   "execution_count": 220,
   "metadata": {},
   "outputs": [
    {
     "name": "stdout",
     "output_type": "stream",
     "text": [
      "Mavsoo is invited for Dinner.\n",
      "Srisha is invited for Dinner.\n",
      "Kanu is invited for Dinner.\n"
     ]
    }
   ],
   "source": [
    "print(guest_list[0], \"is invited for Dinner.\")\n",
    "print(guest_list[1], \"is invited for Dinner.\")\n",
    "print(guest_list[2], \"is invited for Dinner.\")"
   ]
  },
  {
   "cell_type": "code",
   "execution_count": 221,
   "metadata": {},
   "outputs": [],
   "source": [
    "#to study and solve 3.5 again\n",
    "#solved"
   ]
  },
  {
   "cell_type": "markdown",
   "metadata": {},
   "source": [
    "append()\n",
    "insert()\n",
    "del ()\n",
    "pop ()\n",
    "remove()"
   ]
  },
  {
   "cell_type": "markdown",
   "metadata": {},
   "source": [
    "3-6. More Guests: You just found a bigger dinner table, so now more space is\n",
    "available. Think of three more guests to invite to dinner.\n",
    "•\t Start with your program from Exercise 3-4 or Exercise 3-5. Add a print\n",
    "statement to the end of your program informing people that you found a\n",
    "bigger dinner table.\n",
    "•\t Use insert() to add one new guest to the beginning of your list.\n",
    "•\t Use insert() to add one new guest to the middle of your list.\n",
    "•\t Use append() to add one new guest to the end of your list.\n",
    "•\t Print a new set of invitation messages, one for each person in your list."
   ]
  },
  {
   "cell_type": "code",
   "execution_count": 222,
   "metadata": {},
   "outputs": [
    {
     "data": {
      "text/plain": [
       "['Mavsoo', 'Srisha', 'Kanu']"
      ]
     },
     "execution_count": 222,
     "metadata": {},
     "output_type": "execute_result"
    }
   ],
   "source": [
    "initial_guest_list = guest_list\n",
    "initial_guest_list"
   ]
  },
  {
   "cell_type": "code",
   "execution_count": 223,
   "metadata": {},
   "outputs": [
    {
     "name": "stdout",
     "output_type": "stream",
     "text": [
      "None\n",
      "Found a bigger Dinner Table\n"
     ]
    }
   ],
   "source": [
    "new_guest_list = initial_guest_list.insert(0, \"Mau\")\n",
    "new_guest_list = initial_guest_list.insert(2, \"Kripal\")\n",
    "new_guest_list = initial_guest_list.append(\"Vaibhavi\")\n",
    "\n",
    "print(new_guest_list)\n",
    "print(\"Found a bigger Dinner Table\")"
   ]
  },
  {
   "cell_type": "code",
   "execution_count": 224,
   "metadata": {},
   "outputs": [
    {
     "name": "stdout",
     "output_type": "stream",
     "text": [
      "['Mau', 'Mavsoo', 'Kripal', 'Srisha', 'Kanu', 'Vaibhavi']\n",
      "Found a bigger Dinner Table\n"
     ]
    }
   ],
   "source": [
    "print(guest_list)\n",
    "print(\"Found a bigger Dinner Table\")"
   ]
  },
  {
   "cell_type": "code",
   "execution_count": 225,
   "metadata": {},
   "outputs": [
    {
     "name": "stdout",
     "output_type": "stream",
     "text": [
      "Mau you are invited for Dinner!\n",
      "Mavsoo you are invited for Dinner!\n",
      "Kripal you are invited for Dinner!\n",
      "Srisha you are invited for Dinner!\n",
      "Kanu you are invited for Dinner!\n",
      "Vaibhavi you are invited for Dinner!\n"
     ]
    }
   ],
   "source": [
    "print(guest_list[0], \"you are invited for Dinner!\")\n",
    "print(guest_list[1], \"you are invited for Dinner!\")\n",
    "print(guest_list[2], \"you are invited for Dinner!\")\n",
    "print(guest_list[3], \"you are invited for Dinner!\")\n",
    "print(guest_list[4], \"you are invited for Dinner!\")\n",
    "print(guest_list[5], \"you are invited for Dinner!\")"
   ]
  },
  {
   "cell_type": "code",
   "execution_count": 226,
   "metadata": {},
   "outputs": [
    {
     "name": "stdout",
     "output_type": "stream",
     "text": [
      "You can only invite two people for Dinner\n"
     ]
    }
   ],
   "source": [
    "print(\"You can only invite two people for Dinner\")"
   ]
  },
  {
   "cell_type": "code",
   "execution_count": 227,
   "metadata": {},
   "outputs": [
    {
     "name": "stdout",
     "output_type": "stream",
     "text": [
      "Vaibhavi Sorry couldn't invite you for Dinner\n"
     ]
    }
   ],
   "source": [
    "popped_member = guest_list.pop(-1)\n",
    "print(popped_member, \"Sorry couldn't invite you for Dinner\")"
   ]
  },
  {
   "cell_type": "code",
   "execution_count": 228,
   "metadata": {},
   "outputs": [
    {
     "name": "stdout",
     "output_type": "stream",
     "text": [
      "Kanu Sorry couldn't invite you for Dinner\n"
     ]
    }
   ],
   "source": [
    "popped_member = guest_list.pop(-1)\n",
    "print(popped_member, \"Sorry couldn't invite you for Dinner\")"
   ]
  },
  {
   "cell_type": "code",
   "execution_count": 229,
   "metadata": {},
   "outputs": [
    {
     "name": "stdout",
     "output_type": "stream",
     "text": [
      "Srisha Sorry couldn't invite you for Dinner\n"
     ]
    }
   ],
   "source": [
    "popped_member = guest_list.pop(-1)\n",
    "print(popped_member, \"Sorry couldn't invite you for Dinner\")"
   ]
  },
  {
   "cell_type": "code",
   "execution_count": 230,
   "metadata": {},
   "outputs": [
    {
     "name": "stdout",
     "output_type": "stream",
     "text": [
      "Kripal Sorry couldn't invite you for Dinner.\n"
     ]
    }
   ],
   "source": [
    "popped_member = guest_list.pop(-1)\n",
    "print(popped_member, \"Sorry couldn't invite you for Dinner.\")"
   ]
  },
  {
   "cell_type": "code",
   "execution_count": 231,
   "metadata": {},
   "outputs": [
    {
     "data": {
      "text/plain": [
       "['Mau', 'Mavsoo']"
      ]
     },
     "execution_count": 231,
     "metadata": {},
     "output_type": "execute_result"
    }
   ],
   "source": [
    "guest_list"
   ]
  },
  {
   "cell_type": "code",
   "execution_count": 232,
   "metadata": {},
   "outputs": [
    {
     "name": "stdout",
     "output_type": "stream",
     "text": [
      "Mau You are invited for Dinner\n",
      "Mavsoo You are invited for Dinner\n"
     ]
    }
   ],
   "source": [
    "print(guest_list[0], \"You are invited for Dinner\")\n",
    "print(guest_list[1], \"You are invited for Dinner\")"
   ]
  },
  {
   "cell_type": "code",
   "execution_count": 234,
   "metadata": {},
   "outputs": [
    {
     "name": "stdout",
     "output_type": "stream",
     "text": [
      "['Mavsoo']\n"
     ]
    }
   ],
   "source": [
    "del guest_list[0]\n",
    "print(guest_list)"
   ]
  },
  {
   "cell_type": "code",
   "execution_count": 236,
   "metadata": {},
   "outputs": [
    {
     "name": "stdout",
     "output_type": "stream",
     "text": [
      "[]\n"
     ]
    }
   ],
   "source": [
    "del guest_list[0]\n",
    "print(guest_list)"
   ]
  },
  {
   "cell_type": "markdown",
   "metadata": {},
   "source": [
    "Organizing a List"
   ]
  },
  {
   "cell_type": "markdown",
   "metadata": {},
   "source": [
    "Sorting a List Permanently with the sort() Method"
   ]
  },
  {
   "cell_type": "code",
   "execution_count": 237,
   "metadata": {},
   "outputs": [
    {
     "name": "stdout",
     "output_type": "stream",
     "text": [
      "['apple', 'lichi', 'mango', 'pineapple']\n"
     ]
    }
   ],
   "source": [
    "fruits = [\"pineapple\", \"apple\", \"lichi\", \"mango\"] \n",
    "fruits.sort()\n",
    "print(fruits)"
   ]
  },
  {
   "cell_type": "markdown",
   "metadata": {},
   "source": [
    "The sort() method, changes the order of the list permanently. The cars are now in alphabetical order, and we can never revert to\n",
    "the original order"
   ]
  },
  {
   "cell_type": "markdown",
   "metadata": {},
   "source": [
    "sorting this list in reverse alphabetical order by passing the\n",
    "argument reverse=True to the sort() method"
   ]
  },
  {
   "cell_type": "code",
   "execution_count": 238,
   "metadata": {},
   "outputs": [
    {
     "name": "stdout",
     "output_type": "stream",
     "text": [
      "['pineapple', 'mango', 'lichi', 'apple']\n"
     ]
    }
   ],
   "source": [
    "fruits.sort(reverse=True)\n",
    "print(fruits)"
   ]
  },
  {
   "cell_type": "markdown",
   "metadata": {},
   "source": [
    "Sorting a List Temporarily with the sorted() Function"
   ]
  },
  {
   "cell_type": "code",
   "execution_count": 243,
   "metadata": {},
   "outputs": [
    {
     "name": "stdout",
     "output_type": "stream",
     "text": [
      "Here is the original list:\n",
      "['pineapple', 'mango', 'lichi', 'apple']\n",
      "\n",
      "Here is the temporarily sorted list:\n",
      "['apple', 'lichi', 'mango', 'pineapple']\n",
      "\n",
      "Here is the original list again:\n",
      "['pineapple', 'mango', 'lichi', 'apple']\n"
     ]
    }
   ],
   "source": [
    "print(\"Here is the original list:\")\n",
    "print(fruits)\n",
    "\n",
    "print(\"\\nHere is the temporarily sorted list:\")\n",
    "print(sorted(fruits))\n",
    "\n",
    "print(\"\\nHere is the original list again:\")\n",
    "print(fruits)"
   ]
  },
  {
   "cell_type": "markdown",
   "metadata": {},
   "source": [
    "Printing a List in Reverse Order"
   ]
  },
  {
   "cell_type": "code",
   "execution_count": 245,
   "metadata": {},
   "outputs": [
    {
     "name": "stdout",
     "output_type": "stream",
     "text": [
      "['apple', 'lichi', 'mango', 'pineapple']\n",
      "['pineapple', 'mango', 'lichi', 'apple']\n"
     ]
    }
   ],
   "source": [
    "print(fruits)\n",
    "fruits.reverse()\n",
    "print(fruits)"
   ]
  },
  {
   "cell_type": "markdown",
   "metadata": {},
   "source": [
    "Notice that reverse() doesn’t sort backward alphabetically; it simply\n",
    "reverses the order of the list"
   ]
  },
  {
   "cell_type": "markdown",
   "metadata": {},
   "source": [
    "Finding the Length of a List"
   ]
  },
  {
   "cell_type": "code",
   "execution_count": 246,
   "metadata": {},
   "outputs": [
    {
     "data": {
      "text/plain": [
       "4"
      ]
     },
     "execution_count": 246,
     "metadata": {},
     "output_type": "execute_result"
    }
   ],
   "source": [
    "len(fruits)"
   ]
  },
  {
   "cell_type": "markdown",
   "metadata": {},
   "source": [
    "Python counts the items in a list starting with one, so you shouldn’t run into any offby-one errors when determining the length of a list."
   ]
  },
  {
   "cell_type": "raw",
   "metadata": {},
   "source": [
    "3-8. Seeing the World: Think of at least five places in the world you’d like to\n",
    "visit.\n",
    "•\t Store the locations in a list. Make sure the list is not in alphabetical order.\n",
    "•\t Print your list in its original order. Don’t worry about printing the list neatly,\n",
    "just print it as a raw Python list.\n",
    "•\t Use sorted() to print your list in alphabetical order without modifying the\n",
    "actual list.\n",
    "•\t Show that your list is still in its original order by printing it.\n",
    "•\t Use sorted() to print your list in reverse alphabetical order without changing the order of the original list.\n",
    "•\t Show that your list is still in its original order by printing it again.\n",
    "•\t Use reverse() to change the order of your list. Print the list to show that its\n",
    "order has changed.\n",
    "•\t Use reverse() to change the order of your list again. Print the list to show\n",
    "it’s back to its original order.\n",
    "•\t Use sort() to change your list so it’s stored in alphabetical order. Print the\n",
    "list to show that its order has been changed.\n",
    "•\t Use sort() to change your list so it’s stored in reverse alphabetical order.\n",
    "Print the list to show that its order has changed."
   ]
  },
  {
   "cell_type": "code",
   "execution_count": 252,
   "metadata": {},
   "outputs": [
    {
     "name": "stdout",
     "output_type": "stream",
     "text": [
      "['Kashi', 'Himalayas', 'Coimbatore', 'Switzerland', 'Japan']\n"
     ]
    }
   ],
   "source": [
    "locations = [\"Kashi\", \"Himalayas\", \"Coimbatore\", \"Switzerland\", \"Japan\"]\n",
    "print(locations)"
   ]
  },
  {
   "cell_type": "code",
   "execution_count": 254,
   "metadata": {},
   "outputs": [
    {
     "name": "stdout",
     "output_type": "stream",
     "text": [
      "['Coimbatore', 'Himalayas', 'Japan', 'Kashi', 'Switzerland']\n"
     ]
    }
   ],
   "source": [
    "print(sorted(locations))"
   ]
  },
  {
   "cell_type": "code",
   "execution_count": 255,
   "metadata": {},
   "outputs": [
    {
     "name": "stdout",
     "output_type": "stream",
     "text": [
      "OG List: ['Kashi', 'Himalayas', 'Coimbatore', 'Switzerland', 'Japan']\n"
     ]
    }
   ],
   "source": [
    "print(\"OG List:\", locations)"
   ]
  },
  {
   "cell_type": "code",
   "execution_count": 261,
   "metadata": {},
   "outputs": [
    {
     "data": {
      "text/plain": [
       "['Coimbatore', 'Himalayas', 'Japan', 'Kashi', 'Switzerland']"
      ]
     },
     "execution_count": 261,
     "metadata": {},
     "output_type": "execute_result"
    }
   ],
   "source": [
    "a = sorted(locations)\n",
    "a"
   ]
  },
  {
   "cell_type": "code",
   "execution_count": 272,
   "metadata": {},
   "outputs": [
    {
     "name": "stdout",
     "output_type": "stream",
     "text": [
      "['Switzerland', 'Kashi', 'Japan', 'Himalayas', 'Coimbatore']\n"
     ]
    }
   ],
   "source": [
    "print(sorted(locations, reverse = True))"
   ]
  },
  {
   "cell_type": "code",
   "execution_count": 279,
   "metadata": {},
   "outputs": [
    {
     "data": {
      "text/plain": [
       "['Japan', 'Switzerland', 'Coimbatore', 'Himalayas', 'Kashi']"
      ]
     },
     "execution_count": 279,
     "metadata": {},
     "output_type": "execute_result"
    }
   ],
   "source": [
    "locations"
   ]
  },
  {
   "cell_type": "code",
   "execution_count": 280,
   "metadata": {},
   "outputs": [
    {
     "name": "stdout",
     "output_type": "stream",
     "text": [
      "['Kashi', 'Himalayas', 'Coimbatore', 'Switzerland', 'Japan']\n"
     ]
    }
   ],
   "source": [
    "locations.reverse()\n",
    "print(locations)"
   ]
  },
  {
   "cell_type": "code",
   "execution_count": 281,
   "metadata": {},
   "outputs": [
    {
     "name": "stdout",
     "output_type": "stream",
     "text": [
      "['Japan', 'Switzerland', 'Coimbatore', 'Himalayas', 'Kashi']\n"
     ]
    }
   ],
   "source": [
    "locations.reverse()\n",
    "print(locations)"
   ]
  },
  {
   "cell_type": "code",
   "execution_count": 282,
   "metadata": {},
   "outputs": [
    {
     "name": "stdout",
     "output_type": "stream",
     "text": [
      "['Coimbatore', 'Himalayas', 'Japan', 'Kashi', 'Switzerland']\n"
     ]
    }
   ],
   "source": [
    "locations.sort()\n",
    "print(locations)"
   ]
  },
  {
   "cell_type": "code",
   "execution_count": 283,
   "metadata": {},
   "outputs": [
    {
     "name": "stdout",
     "output_type": "stream",
     "text": [
      "['Switzerland', 'Kashi', 'Japan', 'Himalayas', 'Coimbatore']\n"
     ]
    }
   ],
   "source": [
    "locations.sort(reverse=True)\n",
    "print(locations)"
   ]
  },
  {
   "cell_type": "code",
   "execution_count": 286,
   "metadata": {},
   "outputs": [
    {
     "name": "stdout",
     "output_type": "stream",
     "text": [
      "6 people are invited for Dinner.\n"
     ]
    }
   ],
   "source": [
    "guest_list = ['Mau', 'Mavsoo', 'Kripal', 'Srisha', 'Kanu', 'Vaibhavi']\n",
    "print(len(guest_list), \"people are invited for Dinner.\")"
   ]
  },
  {
   "cell_type": "markdown",
   "metadata": {},
   "source": [
    "3-10. Every Function: Think of something you could store in a list. For example,\n",
    "you could make a list of mountains, rivers, countries, cities, languages, or anything else you’d like. Write a program that creates a list containing these items\n",
    "and then uses each function introduced in this chapter at least once.\n",
    "\n",
    "append()\n",
    "insert()\n",
    "del ()\n",
    "pop ()\n",
    "remove()\n",
    "sorted\n",
    "sort()\n",
    "reverse()\n",
    "len()"
   ]
  },
  {
   "cell_type": "code",
   "execution_count": 293,
   "metadata": {},
   "outputs": [
    {
     "data": {
      "text/plain": [
       "['Alanggad', 'Malandgad', 'Taramati', 'Raigad', 'Pratapgad']"
      ]
     },
     "execution_count": 293,
     "metadata": {},
     "output_type": "execute_result"
    }
   ],
   "source": [
    "mountains = [\"Alanggad\", \"Malandgad\", \"Taramati\", \"Raigad\", \"Pratapgad\"]\n",
    "mountains"
   ]
  },
  {
   "cell_type": "code",
   "execution_count": 294,
   "metadata": {},
   "outputs": [
    {
     "data": {
      "text/plain": [
       "5"
      ]
     },
     "execution_count": 294,
     "metadata": {},
     "output_type": "execute_result"
    }
   ],
   "source": [
    "len(mountains)"
   ]
  },
  {
   "cell_type": "code",
   "execution_count": 295,
   "metadata": {},
   "outputs": [
    {
     "name": "stdout",
     "output_type": "stream",
     "text": [
      "['Pratapgad', 'Raigad', 'Taramati', 'Malandgad', 'Alanggad']\n"
     ]
    }
   ],
   "source": [
    "mountains.reverse()\n",
    "print(mountains)"
   ]
  },
  {
   "cell_type": "code",
   "execution_count": 297,
   "metadata": {},
   "outputs": [
    {
     "name": "stdout",
     "output_type": "stream",
     "text": [
      "['Alanggad', 'Malandgad', 'Pratapgad', 'Raigad', 'Taramati']\n"
     ]
    }
   ],
   "source": [
    "print(sorted(mountains))"
   ]
  },
  {
   "cell_type": "code",
   "execution_count": 301,
   "metadata": {},
   "outputs": [
    {
     "data": {
      "text/plain": [
       "['Alanggad', 'Malandgad', 'Pratapgad', 'Raigad', 'Taramati']"
      ]
     },
     "execution_count": 301,
     "metadata": {},
     "output_type": "execute_result"
    }
   ],
   "source": [
    "mountains.sort()\n",
    "mountains"
   ]
  },
  {
   "cell_type": "code",
   "execution_count": 302,
   "metadata": {},
   "outputs": [
    {
     "data": {
      "text/plain": [
       "['Alanggad', 'Malandgad', 'Pratapgad', 'Raigad', 'Taramati', 'Sinhagad']"
      ]
     },
     "execution_count": 302,
     "metadata": {},
     "output_type": "execute_result"
    }
   ],
   "source": [
    "mountains.append(\"Sinhagad\")\n",
    "mountains"
   ]
  },
  {
   "cell_type": "code",
   "execution_count": 304,
   "metadata": {},
   "outputs": [
    {
     "name": "stdout",
     "output_type": "stream",
     "text": [
      "Malandgad 's base village visited\n"
     ]
    }
   ],
   "source": [
    "popped_mountain = mountains.pop(1)\n",
    "print(popped_mountain,\"'s base village visited\")"
   ]
  },
  {
   "cell_type": "code",
   "execution_count": 307,
   "metadata": {},
   "outputs": [
    {
     "data": {
      "text/plain": [
       "['Kokandiva', 'Alanggad', 'Pratapgad', 'Raigad', 'Taramati']"
      ]
     },
     "execution_count": 307,
     "metadata": {},
     "output_type": "execute_result"
    }
   ],
   "source": [
    "mountains.remove(\"Sinhagad\")\n",
    "mountains"
   ]
  },
  {
   "cell_type": "code",
   "execution_count": 308,
   "metadata": {},
   "outputs": [],
   "source": [
    "new_mountains = mountains.insert(0, \"Kokandiva\")"
   ]
  },
  {
   "cell_type": "code",
   "execution_count": 313,
   "metadata": {},
   "outputs": [
    {
     "data": {
      "text/plain": [
       "['Kokandiva', 'Kokandiva', 'Alanggad', 'Pratapgad', 'Raigad', 'Taramati']"
      ]
     },
     "execution_count": 313,
     "metadata": {},
     "output_type": "execute_result"
    }
   ],
   "source": [
    "mountains"
   ]
  },
  {
   "cell_type": "markdown",
   "metadata": {},
   "source": [
    "If an index error occurs and you can’t figure out how to resolve it, try printing your\n",
    "list or just printing the length of your list. Your list might look much different than\n",
    "you thought it did, especially if it has been managed dynamically by your program.\n",
    "Seeing the actual list, or the exact number of items in your list, can help you sort out\n",
    "such logical errors."
   ]
  },
  {
   "cell_type": "code",
   "execution_count": null,
   "metadata": {},
   "outputs": [],
   "source": []
  },
  {
   "cell_type": "code",
   "execution_count": null,
   "metadata": {},
   "outputs": [],
   "source": []
  },
  {
   "cell_type": "code",
   "execution_count": null,
   "metadata": {},
   "outputs": [],
   "source": []
  }
 ],
 "metadata": {
  "kernelspec": {
   "display_name": "Python 3",
   "language": "python",
   "name": "python3"
  },
  "language_info": {
   "codemirror_mode": {
    "name": "ipython",
    "version": 3
   },
   "file_extension": ".py",
   "mimetype": "text/x-python",
   "name": "python",
   "nbconvert_exporter": "python",
   "pygments_lexer": "ipython3",
   "version": "3.8.5"
  }
 },
 "nbformat": 4,
 "nbformat_minor": 4
}
