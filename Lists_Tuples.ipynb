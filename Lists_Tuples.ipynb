{
 "cells": [
  {
   "cell_type": "markdown",
   "metadata": {},
   "source": [
    "# Lists\n"
   ]
  },
  {
   "cell_type": "code",
   "execution_count": 413,
   "metadata": {},
   "outputs": [
    {
     "name": "stdout",
     "output_type": "stream",
     "text": [
      "My first bike is Bullet.\n"
     ]
    }
   ],
   "source": [
    "my_list = [\"bullet\", \"GS5\", \"Tiger\"]\n",
    "new_msg = \"My first bike is \" + my_list[0].title() + \".\"\n",
    "print(new_msg)"
   ]
  },
  {
   "cell_type": "markdown",
   "metadata": {},
   "source": [
    "3-1. Names: Store the names of a few of your friends in a list called names. Print\n",
    "each person’s name by accessing each element in the list, one at a time."
   ]
  },
  {
   "cell_type": "code",
   "execution_count": 414,
   "metadata": {},
   "outputs": [
    {
     "name": "stdout",
     "output_type": "stream",
     "text": [
      "Vishnu\n",
      "Sara\n",
      "BAPPA\n"
     ]
    }
   ],
   "source": [
    "name_of_frirends = [\"Vishnu\", \"Sara\", \"Bappa\"]\n",
    "print(name_of_frirends[0])\n",
    "print(name_of_frirends[1])\n",
    "print(name_of_frirends[2].upper())"
   ]
  },
  {
   "cell_type": "markdown",
   "metadata": {},
   "source": [
    "3-2. Greetings: Start with the list you used in Exercise 3-1, but instead of just\n",
    "printing each person’s name, print a message to them. The text of each message should be the same, but each message should be personalized with the\n",
    "person’s name."
   ]
  },
  {
   "cell_type": "code",
   "execution_count": 415,
   "metadata": {},
   "outputs": [
    {
     "name": "stdout",
     "output_type": "stream",
     "text": [
      "Hi There,  Vishnu .\n",
      "Hi There,  Sara .\n",
      "Hi There,  Bappa .\n"
     ]
    }
   ],
   "source": [
    "msg = \"Hi There, \" \n",
    "print(msg, name_of_frirends[0],\".\")\n",
    "print(msg, name_of_frirends[1], \".\")\n",
    "print(msg, name_of_frirends[2],\".\")\n"
   ]
  },
  {
   "cell_type": "markdown",
   "metadata": {},
   "source": [
    "3-3. Your Own List: Think of your favorite mode of transportation, such as a\n",
    "motorcycle or a car, and make a list that stores several examples. Use your list\n",
    "to print a series of statements about these items, such as “I would like to own a\n",
    "Honda motorcycle.”"
   ]
  },
  {
   "cell_type": "code",
   "execution_count": 416,
   "metadata": {},
   "outputs": [
    {
     "name": "stdout",
     "output_type": "stream",
     "text": [
      "I would like to own a Bullet & Telescope .\n"
     ]
    }
   ],
   "source": [
    "vehicles = ['Bullet', 'Honda', 'GS5', 'Telescope']\n",
    "print(\"I would like to own a \" + vehicles[0],\"& \" + vehicles[-1], \".\") "
   ]
  },
  {
   "cell_type": "code",
   "execution_count": 417,
   "metadata": {},
   "outputs": [
    {
     "data": {
      "text/plain": [
       "['Bullet', 'Honda', 'GS5', 'Telescope']"
      ]
     },
     "execution_count": 417,
     "metadata": {},
     "output_type": "execute_result"
    }
   ],
   "source": [
    "vehicles"
   ]
  },
  {
   "cell_type": "code",
   "execution_count": 418,
   "metadata": {},
   "outputs": [
    {
     "data": {
      "text/plain": [
       "['Bullet', 'Honda', 'GS5', 'Harley']"
      ]
     },
     "execution_count": 418,
     "metadata": {},
     "output_type": "execute_result"
    }
   ],
   "source": [
    "vehicles[-1] = \"Harley\"\n",
    "vehicles"
   ]
  },
  {
   "cell_type": "markdown",
   "metadata": {},
   "source": [
    "Adding Elements to a List\n",
    "Appending Elements to the End of a List\n"
   ]
  },
  {
   "cell_type": "code",
   "execution_count": 419,
   "metadata": {},
   "outputs": [
    {
     "data": {
      "text/plain": [
       "['Bullet', 'Honda', 'GS5', 'Harley', 'Ducati']"
      ]
     },
     "execution_count": 419,
     "metadata": {},
     "output_type": "execute_result"
    }
   ],
   "source": [
    "vehicles.append(\"Ducati\")\n",
    "vehicles"
   ]
  },
  {
   "cell_type": "markdown",
   "metadata": {},
   "source": [
    "The append() method makes it easy to build lists dynamically. For\n",
    "example, you can start with an empty list and then add items to the list\n",
    "using a series of append() statements. Using an empty list, let’s add the elements 'honda', 'yamaha', and 'suzuki' to the list"
   ]
  },
  {
   "cell_type": "code",
   "execution_count": 420,
   "metadata": {},
   "outputs": [
    {
     "name": "stdout",
     "output_type": "stream",
     "text": [
      "['Honda', 'Yamaha', 'Suzuki']\n"
     ]
    }
   ],
   "source": [
    "motorcycles = []\n",
    "\n",
    "#adding new elements to empty list using append() fxn\n",
    "motorcycles.append(\"Honda\")\n",
    "motorcycles.append(\"Yamaha\")\n",
    "motorcycles.append(\"Suzuki\")\n",
    "print(motorcycles)"
   ]
  },
  {
   "cell_type": "markdown",
   "metadata": {},
   "source": [
    "Building lists this way is very common, because you often won’t know\n",
    "the data your users want to store in a program until after the program is\n",
    "running. To put your users in control, start by defining an empty list that\n",
    "will hold the users’ values. Then append each new value provided to the list\n",
    "you just created."
   ]
  },
  {
   "cell_type": "markdown",
   "metadata": {},
   "source": [
    "Inserting Elements into a List\n",
    "You can add a new element at any position in your list by using the insert()\n",
    "method. You do this by specifying the index of the new element and the\n",
    "value of the new item."
   ]
  },
  {
   "cell_type": "code",
   "execution_count": 421,
   "metadata": {},
   "outputs": [
    {
     "name": "stdout",
     "output_type": "stream",
     "text": [
      "['Bullet', 'Honda', 'GS5', 'Harley', 'Ducati']\n"
     ]
    }
   ],
   "source": [
    "print(vehicles)"
   ]
  },
  {
   "cell_type": "code",
   "execution_count": 422,
   "metadata": {},
   "outputs": [
    {
     "data": {
      "text/plain": [
       "['Bullet', 'Himalayan', 'Honda', 'GS5', 'Harley', 'Ducati']"
      ]
     },
     "execution_count": 422,
     "metadata": {},
     "output_type": "execute_result"
    }
   ],
   "source": [
    "vehicles.insert(1,'Himalayan')\n",
    "vehicles"
   ]
  },
  {
   "cell_type": "markdown",
   "metadata": {},
   "source": [
    "In this example, the code at inserts the value 'ducati' at the beginning of the list. The insert() method opens a space at position 1 and stores\n",
    "the value 'Himalayan' at that location. This operation shifts every other value\n",
    "in the list one position to the right:"
   ]
  },
  {
   "cell_type": "markdown",
   "metadata": {},
   "source": [
    "Removing an Item Using the del Statement\n",
    "If you know the position of the item you want to remove from a list, you can\n",
    "use the del statement. "
   ]
  },
  {
   "cell_type": "code",
   "execution_count": 423,
   "metadata": {},
   "outputs": [
    {
     "data": {
      "text/plain": [
       "['Bullet', 'Himalayan', 'GS5', 'Harley', 'Ducati']"
      ]
     },
     "execution_count": 423,
     "metadata": {},
     "output_type": "execute_result"
    }
   ],
   "source": [
    "del vehicles[2]\n",
    "vehicles"
   ]
  },
  {
   "cell_type": "markdown",
   "metadata": {},
   "source": [
    "The code above uses del to remove the third item, 'honda', from the list of\n",
    "motorcycles"
   ]
  },
  {
   "cell_type": "markdown",
   "metadata": {},
   "source": [
    "Removing an Item Using the pop() Method\n",
    "The pop() method removes the last item in a list, but it lets you work\n",
    "with that item after removing it. The term pop comes from thinking of a\n",
    "list as a stack of items and popping one item off the top of the stack. In\n",
    "this analogy, the top of a stack corresponds to the end of a list."
   ]
  },
  {
   "cell_type": "code",
   "execution_count": 424,
   "metadata": {},
   "outputs": [
    {
     "name": "stdout",
     "output_type": "stream",
     "text": [
      "['Bullet', 'Himalayan', 'GS5', 'Harley']\n"
     ]
    }
   ],
   "source": [
    "vehicles.pop()\n",
    "print(vehicles)"
   ]
  },
  {
   "cell_type": "code",
   "execution_count": 425,
   "metadata": {},
   "outputs": [
    {
     "name": "stdout",
     "output_type": "stream",
     "text": [
      "['Bullet', 'Himalayan', 'GS5']\n"
     ]
    }
   ],
   "source": [
    "vehicles.pop()\n",
    "print(vehicles)"
   ]
  },
  {
   "cell_type": "code",
   "execution_count": 426,
   "metadata": {},
   "outputs": [
    {
     "name": "stdout",
     "output_type": "stream",
     "text": [
      "['Bullet', 'Himalayan']\n",
      "GS5\n"
     ]
    }
   ],
   "source": [
    "popped_vehicles = vehicles.pop()\n",
    "print(vehicles)\n",
    "print(popped_vehicles)"
   ]
  },
  {
   "cell_type": "markdown",
   "metadata": {},
   "source": [
    "We start by defining and printing the list motorcycles, we pop\n",
    "a value from the list and store that value in the variable popped_motorcycle.\n",
    "We print the list to show that a value has been removed from the list.\n",
    "Then we print the popped value at to prove that we still have access to\n",
    "the value that was removed.\n",
    "The output shows that the value 'GS5' was removed from the end of\n",
    "the list and is now stored in the variable popped_motorcycle"
   ]
  },
  {
   "cell_type": "code",
   "execution_count": 427,
   "metadata": {},
   "outputs": [
    {
     "name": "stdout",
     "output_type": "stream",
     "text": [
      "My Veciles:  ['Bullet', 'Honda Africa Twin']\n",
      "The last bike I owned was Honda Africa Twin.\n"
     ]
    }
   ],
   "source": [
    "my_vehicles = [\"Bullet\", \"Honda Africa Twin\"]\n",
    "print(\"My Veciles: \", my_vehicles)\n",
    "last_owned = my_vehicles.pop()\n",
    "print(\"The last bike I owned was \" + last_owned + \".\")\n"
   ]
  },
  {
   "cell_type": "markdown",
   "metadata": {},
   "source": [
    "Popping Items from any Position in a List\n",
    "You can actually use pop() to remove an item in a list at any position by\n",
    "including the index of the item you want to remove in parentheses.\n"
   ]
  },
  {
   "cell_type": "code",
   "execution_count": 428,
   "metadata": {},
   "outputs": [
    {
     "name": "stdout",
     "output_type": "stream",
     "text": [
      "The first bike I owned was Bullet.\n"
     ]
    }
   ],
   "source": [
    "first_owned = my_vehicles.pop(0)\n",
    "print(\"The first bike I owned was \" + first_owned + \".\")"
   ]
  },
  {
   "cell_type": "markdown",
   "metadata": {},
   "source": [
    "# If you’re unsure whether to use the del statement or the pop() method,\n",
    "here’s a simple way to decide: when you want to delete an item from a list\n",
    "and not use that item in any way, use the del statement; if you want to use an\n",
    "item as you remove it, use the pop() method."
   ]
  },
  {
   "cell_type": "markdown",
   "metadata": {},
   "source": [
    "Removing an Item by Value\n",
    "If you only know the value of the item you want to remove, you\n",
    "can use the remove() method."
   ]
  },
  {
   "cell_type": "code",
   "execution_count": 429,
   "metadata": {},
   "outputs": [
    {
     "name": "stdout",
     "output_type": "stream",
     "text": [
      "['Bullet', 'Himalayan', 'Honda', 'GS5', 'Harley', 'Ducati']\n",
      "['Bullet', 'Himalayan', 'GS5', 'Harley', 'Ducati']\n"
     ]
    }
   ],
   "source": [
    "bikes = ['Bullet', 'Himalayan', 'Honda', 'GS5', 'Harley', 'Ducati']\n",
    "print(bikes)\n",
    "bikes.remove('Honda')\n",
    "print(bikes)"
   ]
  },
  {
   "cell_type": "code",
   "execution_count": 430,
   "metadata": {},
   "outputs": [
    {
     "data": {
      "text/plain": [
       "['Bullet', 'Himalayan', 'GS5', 'Harley', 'Ducati']"
      ]
     },
     "execution_count": 430,
     "metadata": {},
     "output_type": "execute_result"
    }
   ],
   "source": [
    "bikes"
   ]
  },
  {
   "cell_type": "code",
   "execution_count": 431,
   "metadata": {},
   "outputs": [
    {
     "name": "stdout",
     "output_type": "stream",
     "text": [
      "['Bullet', 'Himalayan', 'GS5', 'Ducati']\n",
      "Harley is a high cost bike\n"
     ]
    }
   ],
   "source": [
    "too_expensive = \"Harley\"\n",
    "bikes.remove(too_expensive)\n",
    "print(bikes)\n",
    "print(too_expensive, \"is a high cost bike\")"
   ]
  },
  {
   "cell_type": "markdown",
   "metadata": {},
   "source": [
    "The remove() method deletes only the first occurrence of the value you specify. If there’s\n",
    "a possibility the value appears more than once in the list, you’ll need to use a loop to\n",
    "determine if all occurrences of the value have been removed."
   ]
  },
  {
   "cell_type": "markdown",
   "metadata": {},
   "source": [
    "3-4. Guest List: If you could invite anyone, living or deceased, to dinner, who\n",
    "would you invite? Make a list that includes at least three people you’d like to\n",
    "invite to dinner. Then use your list to print a message to each person, inviting\n",
    "them to dinner."
   ]
  },
  {
   "cell_type": "code",
   "execution_count": 432,
   "metadata": {},
   "outputs": [
    {
     "name": "stdout",
     "output_type": "stream",
     "text": [
      "Mavsoo is invited for Dinner.\n",
      "Mau is invited for Dinner.\n",
      "Kanu is invited for Dinner.\n"
     ]
    }
   ],
   "source": [
    "guest_list = [\"Mavsoo\", \"Mau\", \"Kanu\"]\n",
    "print(guest_list[0], \"is invited for Dinner.\")\n",
    "print(guest_list[1], \"is invited for Dinner.\")\n",
    "print(guest_list[2], \"is invited for Dinner.\")"
   ]
  },
  {
   "cell_type": "markdown",
   "metadata": {},
   "source": [
    "3-5. Changing Guest List: You just heard that one of your guests can’t make the\n",
    "dinner, so you need to send out a new set of invitations. You’ll have to think of\n",
    "someone else to invite.\n",
    "•\t Start with your program from Exercise 3-4. Add a print statement at the\n",
    "end of your program stating the name of the guest who can’t make it.\n",
    "•\t Modify your list, replacing the name of the guest who can’t make it with\n",
    "the name of the new person you are inviting.\n",
    "•\t Print a second set of invitation messages, one for each person who is still\n",
    "in your list."
   ]
  },
  {
   "cell_type": "code",
   "execution_count": 433,
   "metadata": {},
   "outputs": [
    {
     "name": "stdout",
     "output_type": "stream",
     "text": [
      "Mau won't be attending Dinner.\n",
      "Srisha is now invited in place of Mau for Dinner.\n"
     ]
    }
   ],
   "source": [
    "print(guest_list[1], \"won't be attending Dinner.\")\n",
    "guest_list.remove(\"Mau\")\n",
    "#Replacing Mau with Srisha\n",
    "guest_list.insert(1, \"Srisha\")\n",
    "print(guest_list[1],\"is now invited in place of Mau for Dinner.\")\n"
   ]
  },
  {
   "cell_type": "code",
   "execution_count": 434,
   "metadata": {},
   "outputs": [
    {
     "name": "stdout",
     "output_type": "stream",
     "text": [
      "Mavsoo is invited for Dinner.\n",
      "Srisha is invited for Dinner.\n",
      "Kanu is invited for Dinner.\n"
     ]
    }
   ],
   "source": [
    "print(guest_list[0], \"is invited for Dinner.\")\n",
    "print(guest_list[1], \"is invited for Dinner.\")\n",
    "print(guest_list[2], \"is invited for Dinner.\")"
   ]
  },
  {
   "cell_type": "code",
   "execution_count": 435,
   "metadata": {},
   "outputs": [],
   "source": [
    "#to study and solve 3.5 again\n",
    "#solved"
   ]
  },
  {
   "cell_type": "markdown",
   "metadata": {},
   "source": [
    "append()\n",
    "insert()\n",
    "del ()\n",
    "pop ()\n",
    "remove()"
   ]
  },
  {
   "cell_type": "markdown",
   "metadata": {},
   "source": [
    "3-6. More Guests: You just found a bigger dinner table, so now more space is\n",
    "available. Think of three more guests to invite to dinner.\n",
    "•\t Start with your program from Exercise 3-4 or Exercise 3-5. Add a print\n",
    "statement to the end of your program informing people that you found a\n",
    "bigger dinner table.\n",
    "•\t Use insert() to add one new guest to the beginning of your list.\n",
    "•\t Use insert() to add one new guest to the middle of your list.\n",
    "•\t Use append() to add one new guest to the end of your list.\n",
    "•\t Print a new set of invitation messages, one for each person in your list."
   ]
  },
  {
   "cell_type": "code",
   "execution_count": 436,
   "metadata": {},
   "outputs": [
    {
     "data": {
      "text/plain": [
       "['Mavsoo', 'Srisha', 'Kanu']"
      ]
     },
     "execution_count": 436,
     "metadata": {},
     "output_type": "execute_result"
    }
   ],
   "source": [
    "initial_guest_list = guest_list\n",
    "initial_guest_list"
   ]
  },
  {
   "cell_type": "code",
   "execution_count": 437,
   "metadata": {},
   "outputs": [
    {
     "name": "stdout",
     "output_type": "stream",
     "text": [
      "None\n",
      "Found a bigger Dinner Table\n"
     ]
    }
   ],
   "source": [
    "new_guest_list = initial_guest_list.insert(0, \"Mau\")\n",
    "new_guest_list = initial_guest_list.insert(2, \"Kripal\")\n",
    "new_guest_list = initial_guest_list.append(\"Vaibhavi\")\n",
    "\n",
    "print(new_guest_list)\n",
    "print(\"Found a bigger Dinner Table\")"
   ]
  },
  {
   "cell_type": "code",
   "execution_count": 438,
   "metadata": {},
   "outputs": [
    {
     "name": "stdout",
     "output_type": "stream",
     "text": [
      "['Mau', 'Mavsoo', 'Kripal', 'Srisha', 'Kanu', 'Vaibhavi']\n",
      "Found a bigger Dinner Table\n"
     ]
    }
   ],
   "source": [
    "print(guest_list)\n",
    "print(\"Found a bigger Dinner Table\")"
   ]
  },
  {
   "cell_type": "code",
   "execution_count": 439,
   "metadata": {},
   "outputs": [
    {
     "name": "stdout",
     "output_type": "stream",
     "text": [
      "Mau you are invited for Dinner!\n",
      "Mavsoo you are invited for Dinner!\n",
      "Kripal you are invited for Dinner!\n",
      "Srisha you are invited for Dinner!\n",
      "Kanu you are invited for Dinner!\n",
      "Vaibhavi you are invited for Dinner!\n"
     ]
    }
   ],
   "source": [
    "print(guest_list[0], \"you are invited for Dinner!\")\n",
    "print(guest_list[1], \"you are invited for Dinner!\")\n",
    "print(guest_list[2], \"you are invited for Dinner!\")\n",
    "print(guest_list[3], \"you are invited for Dinner!\")\n",
    "print(guest_list[4], \"you are invited for Dinner!\")\n",
    "print(guest_list[5], \"you are invited for Dinner!\")"
   ]
  },
  {
   "cell_type": "code",
   "execution_count": 440,
   "metadata": {},
   "outputs": [
    {
     "name": "stdout",
     "output_type": "stream",
     "text": [
      "You can only invite two people for Dinner\n"
     ]
    }
   ],
   "source": [
    "print(\"You can only invite two people for Dinner\")"
   ]
  },
  {
   "cell_type": "code",
   "execution_count": 441,
   "metadata": {},
   "outputs": [
    {
     "name": "stdout",
     "output_type": "stream",
     "text": [
      "Vaibhavi Sorry couldn't invite you for Dinner\n"
     ]
    }
   ],
   "source": [
    "popped_member = guest_list.pop(-1)\n",
    "print(popped_member, \"Sorry couldn't invite you for Dinner\")"
   ]
  },
  {
   "cell_type": "code",
   "execution_count": 442,
   "metadata": {},
   "outputs": [
    {
     "name": "stdout",
     "output_type": "stream",
     "text": [
      "Kanu Sorry couldn't invite you for Dinner\n"
     ]
    }
   ],
   "source": [
    "popped_member = guest_list.pop(-1)\n",
    "print(popped_member, \"Sorry couldn't invite you for Dinner\")"
   ]
  },
  {
   "cell_type": "code",
   "execution_count": 443,
   "metadata": {},
   "outputs": [
    {
     "name": "stdout",
     "output_type": "stream",
     "text": [
      "Srisha Sorry couldn't invite you for Dinner\n"
     ]
    }
   ],
   "source": [
    "popped_member = guest_list.pop(-1)\n",
    "print(popped_member, \"Sorry couldn't invite you for Dinner\")"
   ]
  },
  {
   "cell_type": "code",
   "execution_count": 444,
   "metadata": {},
   "outputs": [
    {
     "name": "stdout",
     "output_type": "stream",
     "text": [
      "Kripal Sorry couldn't invite you for Dinner.\n"
     ]
    }
   ],
   "source": [
    "popped_member = guest_list.pop(-1)\n",
    "print(popped_member, \"Sorry couldn't invite you for Dinner.\")"
   ]
  },
  {
   "cell_type": "code",
   "execution_count": 445,
   "metadata": {},
   "outputs": [
    {
     "data": {
      "text/plain": [
       "['Mau', 'Mavsoo']"
      ]
     },
     "execution_count": 445,
     "metadata": {},
     "output_type": "execute_result"
    }
   ],
   "source": [
    "guest_list"
   ]
  },
  {
   "cell_type": "code",
   "execution_count": 446,
   "metadata": {},
   "outputs": [
    {
     "name": "stdout",
     "output_type": "stream",
     "text": [
      "Mau You are invited for Dinner\n",
      "Mavsoo You are invited for Dinner\n"
     ]
    }
   ],
   "source": [
    "print(guest_list[0], \"You are invited for Dinner\")\n",
    "print(guest_list[1], \"You are invited for Dinner\")"
   ]
  },
  {
   "cell_type": "code",
   "execution_count": 447,
   "metadata": {},
   "outputs": [
    {
     "name": "stdout",
     "output_type": "stream",
     "text": [
      "['Mavsoo']\n"
     ]
    }
   ],
   "source": [
    "del guest_list[0]\n",
    "print(guest_list)"
   ]
  },
  {
   "cell_type": "code",
   "execution_count": 448,
   "metadata": {},
   "outputs": [
    {
     "name": "stdout",
     "output_type": "stream",
     "text": [
      "[]\n"
     ]
    }
   ],
   "source": [
    "del guest_list[0]\n",
    "print(guest_list)"
   ]
  },
  {
   "cell_type": "markdown",
   "metadata": {},
   "source": [
    "Organizing a List"
   ]
  },
  {
   "cell_type": "markdown",
   "metadata": {},
   "source": [
    "Sorting a List Permanently with the sort() Method"
   ]
  },
  {
   "cell_type": "code",
   "execution_count": 449,
   "metadata": {},
   "outputs": [
    {
     "name": "stdout",
     "output_type": "stream",
     "text": [
      "['apple', 'lichi', 'mango', 'pineapple']\n"
     ]
    }
   ],
   "source": [
    "fruits = [\"pineapple\", \"apple\", \"lichi\", \"mango\"] \n",
    "fruits.sort()\n",
    "print(fruits)"
   ]
  },
  {
   "cell_type": "markdown",
   "metadata": {},
   "source": [
    "The sort() method, changes the order of the list permanently. The cars are now in alphabetical order, and we can never revert to\n",
    "the original order"
   ]
  },
  {
   "cell_type": "markdown",
   "metadata": {},
   "source": [
    "sorting this list in reverse alphabetical order by passing the\n",
    "argument reverse=True to the sort() method"
   ]
  },
  {
   "cell_type": "code",
   "execution_count": 450,
   "metadata": {},
   "outputs": [
    {
     "name": "stdout",
     "output_type": "stream",
     "text": [
      "['pineapple', 'mango', 'lichi', 'apple']\n"
     ]
    }
   ],
   "source": [
    "fruits.sort(reverse=True)\n",
    "print(fruits)"
   ]
  },
  {
   "cell_type": "markdown",
   "metadata": {},
   "source": [
    "Sorting a List Temporarily with the sorted() Function"
   ]
  },
  {
   "cell_type": "code",
   "execution_count": 451,
   "metadata": {},
   "outputs": [
    {
     "name": "stdout",
     "output_type": "stream",
     "text": [
      "Here is the original list:\n",
      "['pineapple', 'mango', 'lichi', 'apple']\n",
      "\n",
      "Here is the temporarily sorted list:\n",
      "['apple', 'lichi', 'mango', 'pineapple']\n",
      "\n",
      "Here is the original list again:\n",
      "['pineapple', 'mango', 'lichi', 'apple']\n"
     ]
    }
   ],
   "source": [
    "print(\"Here is the original list:\")\n",
    "print(fruits)\n",
    "\n",
    "print(\"\\nHere is the temporarily sorted list:\")\n",
    "print(sorted(fruits))\n",
    "\n",
    "print(\"\\nHere is the original list again:\")\n",
    "print(fruits)"
   ]
  },
  {
   "cell_type": "markdown",
   "metadata": {},
   "source": [
    "Printing a List in Reverse Order"
   ]
  },
  {
   "cell_type": "code",
   "execution_count": 452,
   "metadata": {},
   "outputs": [
    {
     "name": "stdout",
     "output_type": "stream",
     "text": [
      "['pineapple', 'mango', 'lichi', 'apple']\n",
      "['apple', 'lichi', 'mango', 'pineapple']\n"
     ]
    }
   ],
   "source": [
    "print(fruits)\n",
    "fruits.reverse()\n",
    "print(fruits)"
   ]
  },
  {
   "cell_type": "markdown",
   "metadata": {},
   "source": [
    "Notice that reverse() doesn’t sort backward alphabetically; it simply\n",
    "reverses the order of the list"
   ]
  },
  {
   "cell_type": "markdown",
   "metadata": {},
   "source": [
    "Finding the Length of a List"
   ]
  },
  {
   "cell_type": "code",
   "execution_count": 453,
   "metadata": {},
   "outputs": [
    {
     "data": {
      "text/plain": [
       "4"
      ]
     },
     "execution_count": 453,
     "metadata": {},
     "output_type": "execute_result"
    }
   ],
   "source": [
    "len(fruits)"
   ]
  },
  {
   "cell_type": "markdown",
   "metadata": {},
   "source": [
    "Python counts the items in a list starting with one, so you shouldn’t run into any offby-one errors when determining the length of a list."
   ]
  },
  {
   "cell_type": "raw",
   "metadata": {},
   "source": [
    "3-8. Seeing the World: Think of at least five places in the world you’d like to\n",
    "visit.\n",
    "•\t Store the locations in a list. Make sure the list is not in alphabetical order.\n",
    "•\t Print your list in its original order. Don’t worry about printing the list neatly,\n",
    "just print it as a raw Python list.\n",
    "•\t Use sorted() to print your list in alphabetical order without modifying the\n",
    "actual list.\n",
    "•\t Show that your list is still in its original order by printing it.\n",
    "•\t Use sorted() to print your list in reverse alphabetical order without changing the order of the original list.\n",
    "•\t Show that your list is still in its original order by printing it again.\n",
    "•\t Use reverse() to change the order of your list. Print the list to show that its\n",
    "order has changed.\n",
    "•\t Use reverse() to change the order of your list again. Print the list to show\n",
    "it’s back to its original order.\n",
    "•\t Use sort() to change your list so it’s stored in alphabetical order. Print the\n",
    "list to show that its order has been changed.\n",
    "•\t Use sort() to change your list so it’s stored in reverse alphabetical order.\n",
    "Print the list to show that its order has changed."
   ]
  },
  {
   "cell_type": "code",
   "execution_count": 454,
   "metadata": {},
   "outputs": [
    {
     "name": "stdout",
     "output_type": "stream",
     "text": [
      "['Kashi', 'Himalayas', 'Coimbatore', 'Switzerland', 'Japan']\n"
     ]
    }
   ],
   "source": [
    "locations = [\"Kashi\", \"Himalayas\", \"Coimbatore\", \"Switzerland\", \"Japan\"]\n",
    "print(locations)"
   ]
  },
  {
   "cell_type": "code",
   "execution_count": 455,
   "metadata": {},
   "outputs": [
    {
     "name": "stdout",
     "output_type": "stream",
     "text": [
      "['Coimbatore', 'Himalayas', 'Japan', 'Kashi', 'Switzerland']\n"
     ]
    }
   ],
   "source": [
    "print(sorted(locations))"
   ]
  },
  {
   "cell_type": "code",
   "execution_count": 456,
   "metadata": {},
   "outputs": [
    {
     "name": "stdout",
     "output_type": "stream",
     "text": [
      "OG List: ['Kashi', 'Himalayas', 'Coimbatore', 'Switzerland', 'Japan']\n"
     ]
    }
   ],
   "source": [
    "print(\"OG List:\", locations)"
   ]
  },
  {
   "cell_type": "code",
   "execution_count": 457,
   "metadata": {},
   "outputs": [
    {
     "data": {
      "text/plain": [
       "['Coimbatore', 'Himalayas', 'Japan', 'Kashi', 'Switzerland']"
      ]
     },
     "execution_count": 457,
     "metadata": {},
     "output_type": "execute_result"
    }
   ],
   "source": [
    "a = sorted(locations)\n",
    "a"
   ]
  },
  {
   "cell_type": "code",
   "execution_count": 458,
   "metadata": {},
   "outputs": [
    {
     "name": "stdout",
     "output_type": "stream",
     "text": [
      "['Switzerland', 'Kashi', 'Japan', 'Himalayas', 'Coimbatore']\n"
     ]
    }
   ],
   "source": [
    "print(sorted(locations, reverse = True))"
   ]
  },
  {
   "cell_type": "code",
   "execution_count": 459,
   "metadata": {},
   "outputs": [
    {
     "data": {
      "text/plain": [
       "['Kashi', 'Himalayas', 'Coimbatore', 'Switzerland', 'Japan']"
      ]
     },
     "execution_count": 459,
     "metadata": {},
     "output_type": "execute_result"
    }
   ],
   "source": [
    "locations"
   ]
  },
  {
   "cell_type": "code",
   "execution_count": 460,
   "metadata": {},
   "outputs": [
    {
     "name": "stdout",
     "output_type": "stream",
     "text": [
      "['Japan', 'Switzerland', 'Coimbatore', 'Himalayas', 'Kashi']\n"
     ]
    }
   ],
   "source": [
    "locations.reverse()\n",
    "print(locations)"
   ]
  },
  {
   "cell_type": "code",
   "execution_count": 461,
   "metadata": {},
   "outputs": [
    {
     "name": "stdout",
     "output_type": "stream",
     "text": [
      "['Kashi', 'Himalayas', 'Coimbatore', 'Switzerland', 'Japan']\n"
     ]
    }
   ],
   "source": [
    "locations.reverse()\n",
    "print(locations)"
   ]
  },
  {
   "cell_type": "code",
   "execution_count": 462,
   "metadata": {},
   "outputs": [
    {
     "name": "stdout",
     "output_type": "stream",
     "text": [
      "['Coimbatore', 'Himalayas', 'Japan', 'Kashi', 'Switzerland']\n"
     ]
    }
   ],
   "source": [
    "locations.sort()\n",
    "print(locations)"
   ]
  },
  {
   "cell_type": "code",
   "execution_count": 463,
   "metadata": {},
   "outputs": [
    {
     "name": "stdout",
     "output_type": "stream",
     "text": [
      "['Switzerland', 'Kashi', 'Japan', 'Himalayas', 'Coimbatore']\n"
     ]
    }
   ],
   "source": [
    "locations.sort(reverse=True)\n",
    "print(locations)"
   ]
  },
  {
   "cell_type": "code",
   "execution_count": 464,
   "metadata": {},
   "outputs": [
    {
     "name": "stdout",
     "output_type": "stream",
     "text": [
      "6 people are invited for Dinner.\n"
     ]
    }
   ],
   "source": [
    "guest_list = ['Mau', 'Mavsoo', 'Kripal', 'Srisha', 'Kanu', 'Vaibhavi']\n",
    "print(len(guest_list), \"people are invited for Dinner.\")"
   ]
  },
  {
   "cell_type": "markdown",
   "metadata": {},
   "source": [
    "3-10. Every Function: Think of something you could store in a list. For example,\n",
    "you could make a list of mountains, rivers, countries, cities, languages, or anything else you’d like. Write a program that creates a list containing these items\n",
    "and then uses each function introduced in this chapter at least once.\n",
    "\n",
    "append()\n",
    "insert()\n",
    "del ()\n",
    "pop ()\n",
    "remove()\n",
    "sorted\n",
    "sort()\n",
    "reverse()\n",
    "len()"
   ]
  },
  {
   "cell_type": "code",
   "execution_count": 465,
   "metadata": {},
   "outputs": [
    {
     "data": {
      "text/plain": [
       "['Alanggad', 'Malandgad', 'Taramati', 'Raigad', 'Pratapgad']"
      ]
     },
     "execution_count": 465,
     "metadata": {},
     "output_type": "execute_result"
    }
   ],
   "source": [
    "mountains = [\"Alanggad\", \"Malandgad\", \"Taramati\", \"Raigad\", \"Pratapgad\"]\n",
    "mountains"
   ]
  },
  {
   "cell_type": "code",
   "execution_count": 466,
   "metadata": {},
   "outputs": [
    {
     "data": {
      "text/plain": [
       "5"
      ]
     },
     "execution_count": 466,
     "metadata": {},
     "output_type": "execute_result"
    }
   ],
   "source": [
    "len(mountains)"
   ]
  },
  {
   "cell_type": "code",
   "execution_count": 467,
   "metadata": {},
   "outputs": [
    {
     "name": "stdout",
     "output_type": "stream",
     "text": [
      "['Pratapgad', 'Raigad', 'Taramati', 'Malandgad', 'Alanggad']\n"
     ]
    }
   ],
   "source": [
    "mountains.reverse()\n",
    "print(mountains)"
   ]
  },
  {
   "cell_type": "code",
   "execution_count": 468,
   "metadata": {},
   "outputs": [
    {
     "name": "stdout",
     "output_type": "stream",
     "text": [
      "['Alanggad', 'Malandgad', 'Pratapgad', 'Raigad', 'Taramati']\n"
     ]
    }
   ],
   "source": [
    "print(sorted(mountains))"
   ]
  },
  {
   "cell_type": "code",
   "execution_count": 469,
   "metadata": {},
   "outputs": [
    {
     "data": {
      "text/plain": [
       "['Alanggad', 'Malandgad', 'Pratapgad', 'Raigad', 'Taramati']"
      ]
     },
     "execution_count": 469,
     "metadata": {},
     "output_type": "execute_result"
    }
   ],
   "source": [
    "mountains.sort()\n",
    "mountains"
   ]
  },
  {
   "cell_type": "code",
   "execution_count": 470,
   "metadata": {},
   "outputs": [
    {
     "data": {
      "text/plain": [
       "['Alanggad', 'Malandgad', 'Pratapgad', 'Raigad', 'Taramati', 'Sinhagad']"
      ]
     },
     "execution_count": 470,
     "metadata": {},
     "output_type": "execute_result"
    }
   ],
   "source": [
    "mountains.append(\"Sinhagad\")\n",
    "mountains"
   ]
  },
  {
   "cell_type": "code",
   "execution_count": 471,
   "metadata": {},
   "outputs": [
    {
     "name": "stdout",
     "output_type": "stream",
     "text": [
      "Malandgad 's base village visited\n"
     ]
    }
   ],
   "source": [
    "popped_mountain = mountains.pop(1)\n",
    "print(popped_mountain,\"'s base village visited\")"
   ]
  },
  {
   "cell_type": "code",
   "execution_count": 472,
   "metadata": {},
   "outputs": [
    {
     "data": {
      "text/plain": [
       "['Alanggad', 'Pratapgad', 'Raigad', 'Taramati']"
      ]
     },
     "execution_count": 472,
     "metadata": {},
     "output_type": "execute_result"
    }
   ],
   "source": [
    "mountains.remove(\"Sinhagad\")\n",
    "mountains"
   ]
  },
  {
   "cell_type": "code",
   "execution_count": 473,
   "metadata": {},
   "outputs": [],
   "source": [
    "new_mountains = mountains.insert(0, \"Kokandiva\")"
   ]
  },
  {
   "cell_type": "code",
   "execution_count": 474,
   "metadata": {},
   "outputs": [
    {
     "data": {
      "text/plain": [
       "['Kokandiva', 'Alanggad', 'Pratapgad', 'Raigad', 'Taramati']"
      ]
     },
     "execution_count": 474,
     "metadata": {},
     "output_type": "execute_result"
    }
   ],
   "source": [
    "mountains"
   ]
  },
  {
   "cell_type": "markdown",
   "metadata": {},
   "source": [
    "If an index error occurs and you can’t figure out how to resolve it, try printing your\n",
    "list or just printing the length of your list. Your list might look much different than\n",
    "you thought it did, especially if it has been managed dynamically by your program.\n",
    "Seeing the actual list, or the exact number of items in your list, can help you sort out\n",
    "such logical errors."
   ]
  },
  {
   "cell_type": "markdown",
   "metadata": {},
   "source": [
    "# Looping through a list\n"
   ]
  },
  {
   "cell_type": "markdown",
   "metadata": {},
   "source": [
    "To print out each name in the list. \n",
    "We could do this by retrieving each name from the\n",
    "list individually, but this approach could cause several problems. For one,\n",
    "it would be repetitive to do this with a long list of names. Also, we’d have to\n",
    "change our code each time the list’s length changed. A for loop avoids both\n",
    "of these issues by letting Python manage these issues internally."
   ]
  },
  {
   "cell_type": "markdown",
   "metadata": {},
   "source": [
    "Let’s use a for loop to print out each name in a list of magicians:"
   ]
  },
  {
   "cell_type": "code",
   "execution_count": 475,
   "metadata": {},
   "outputs": [
    {
     "name": "stdout",
     "output_type": "stream",
     "text": [
      "Alex\n",
      "Sam\n",
      "Bob\n"
     ]
    }
   ],
   "source": [
    "magicians = [\"Alex\", \"Sam\", \"Bob\"]\n",
    "for magician in magicians:\n",
    "    print (magician)"
   ]
  },
  {
   "cell_type": "markdown",
   "metadata": {},
   "source": [
    "We begin by defining a list at line 1. At line 2,\n",
    "we define a for loop. This line tells Python to pull a name from the list\n",
    "magicians, and store it in the variable magician. At line 3 we tell Python to print\n",
    "the name that was just stored in magician. Python then repeats lines 2\n",
    "and 3, once for each name in the list."
   ]
  },
  {
   "cell_type": "markdown",
   "metadata": {},
   "source": [
    "Doing more within a for loop"
   ]
  },
  {
   "cell_type": "code",
   "execution_count": 476,
   "metadata": {},
   "outputs": [
    {
     "name": "stdout",
     "output_type": "stream",
     "text": [
      "David, that was a great trick!\n",
      "Alice, that was a great trick!\n",
      "Corlina, that was a great trick!\n"
     ]
    }
   ],
   "source": [
    "magicians = [\"David\", \"alice\", \"corlina\"]\n",
    "for magician in magicians:\n",
    "    print(magician.title() + \", that was a great trick!\")"
   ]
  },
  {
   "cell_type": "markdown",
   "metadata": {},
   "source": [
    "At 3rd line where we compose a message to\n",
    "each magician, starting with that magician’s name."
   ]
  },
  {
   "cell_type": "markdown",
   "metadata": {},
   "source": [
    "Let’s add a second line to our message, telling each magician that we’re\n",
    "looking forward to their next trick:"
   ]
  },
  {
   "cell_type": "code",
   "execution_count": 477,
   "metadata": {},
   "outputs": [
    {
     "name": "stdout",
     "output_type": "stream",
     "text": [
      "David, that was a great trick!\n",
      "Can't wait to see the next trick, David.\n",
      "\n",
      "Alice, that was a great trick!\n",
      "Can't wait to see the next trick, Alice.\n",
      "\n",
      "Corlina, that was a great trick!\n",
      "Can't wait to see the next trick, Corlina.\n",
      "\n"
     ]
    }
   ],
   "source": [
    "magicians = [\"David\", \"alice\", \"corlina\"]\n",
    "for magician in magicians:\n",
    "    print(magician.title() + \", that was a great trick!\")\n",
    "    print(\"Can't wait to see the next trick, \" + magician.title() + \".\\n\")"
   ]
  },
  {
   "cell_type": "markdown",
   "metadata": {},
   "source": [
    "Because we have indented both print statements, each line will be exe-\n",
    "cuted once for every magician in the list. The newline (\"\\n\") in the second\n",
    "print statement inserts a blank line after each pass through the loop."
   ]
  },
  {
   "cell_type": "code",
   "execution_count": 478,
   "metadata": {},
   "outputs": [
    {
     "name": "stdout",
     "output_type": "stream",
     "text": [
      "David, that was a great trick!\n",
      "Can't wait to see the next trick, David.\n",
      "\n",
      "Alice, that was a great trick!\n",
      "Can't wait to see the next trick, Alice.\n",
      "\n",
      "Corlina, that was a great trick!\n",
      "Can't wait to see the next trick, Corlina.\n",
      "\n",
      "Thank You all for an amazing show.\n"
     ]
    }
   ],
   "source": [
    "magicians = [\"David\", \"alice\", \"corlina\"]\n",
    "for magician in magicians:\n",
    "    print(magician.title() + \", that was a great trick!\")\n",
    "    print(\"Can't wait to see the next trick, \" + magician.title() + \".\\n\")\n",
    "print(\"Thank You all for an amazing show.\")"
   ]
  },
  {
   "cell_type": "markdown",
   "metadata": {},
   "source": [
    "The first two print statements are repeated once for each magician in\n",
    "the list, as you saw earlier. However, because the last line(print statement) is not indented,\n",
    "it’s printed only once at the end."
   ]
  },
  {
   "cell_type": "markdown",
   "metadata": {},
   "source": [
    "4-1. Pizzas: Think of at least three kinds of your favorite pizza Store these\n",
    "pizza names in a list, and then use a for loop to print the name of each pizza"
   ]
  },
  {
   "cell_type": "code",
   "execution_count": 479,
   "metadata": {},
   "outputs": [
    {
     "name": "stdout",
     "output_type": "stream",
     "text": [
      "Margherita\n",
      "Paneer Tikka\n",
      "Tandoori Pizza\n"
     ]
    }
   ],
   "source": [
    "fav_pizza = [\"margherita\", \"paneer tikka\", \"tandoori pizza\"]\n",
    "for pizza in fav_pizza:\n",
    "    print(pizza.title())"
   ]
  },
  {
   "cell_type": "markdown",
   "metadata": {},
   "source": [
    "Modify your for loop to print a sentence using the name of the pizza\n",
    "instead of printing just the name of the pizza For each pizza you should\n",
    "have one line of output containing a simple statement like I like pepperoni\n",
    "pizza"
   ]
  },
  {
   "cell_type": "code",
   "execution_count": 480,
   "metadata": {},
   "outputs": [
    {
     "name": "stdout",
     "output_type": "stream",
     "text": [
      "I like Margherita Pizza.\n",
      "I like Paneer Tikka Pizza.\n",
      "I like Tandoori Pizza Pizza.\n"
     ]
    }
   ],
   "source": [
    "fav_pizza = [\"margherita\", \"paneer tikka\", \"tandoori pizza\"]\n",
    "for pizza in fav_pizza:\n",
    "    print(\"I like \" + pizza.title() + \" Pizza.\")"
   ]
  },
  {
   "cell_type": "markdown",
   "metadata": {},
   "source": [
    "Add a line at the end of your program, outside the for loop, that states\n",
    "how much you like pizza The output should consist of three or more lines\n",
    "about the kinds of pizza you like and then an additional sentence, such as\n",
    "I really love pizza!"
   ]
  },
  {
   "cell_type": "code",
   "execution_count": 481,
   "metadata": {},
   "outputs": [
    {
     "name": "stdout",
     "output_type": "stream",
     "text": [
      "I like Margherita Pizza.\n",
      "I like Paneer Tikka Pizza.\n",
      "I like Tandoori Pizza Pizza.\n",
      "\n",
      "I really love Pizza.\n"
     ]
    }
   ],
   "source": [
    "fav_pizza = [\"margherita\", \"paneer tikka\", \"tandoori pizza\"]\n",
    "for pizza in fav_pizza:\n",
    "    print(\"I like \" + pizza.title() + \" Pizza.\")\n",
    "print(\"\\nI really love Pizza.\")"
   ]
  },
  {
   "cell_type": "markdown",
   "metadata": {},
   "source": [
    "4-2. Animals: Think of at least three different animals that have a common characteristic. Store the names of these animals in a list, and then use a for loop to\n",
    "print out the name of each animal"
   ]
  },
  {
   "cell_type": "code",
   "execution_count": 482,
   "metadata": {},
   "outputs": [
    {
     "name": "stdout",
     "output_type": "stream",
     "text": [
      "Bear\n",
      "Lepord\n",
      "Wild Buffalo\n"
     ]
    }
   ],
   "source": [
    "animals = [\"bear\", \"lepord\", \"wild buffalo\"]\n",
    "for animal in animals:\n",
    "    print(animal.title())"
   ]
  },
  {
   "cell_type": "markdown",
   "metadata": {},
   "source": [
    "Modify your program to print a statement about each animal, such as\n",
    "A dog would make a great pet."
   ]
  },
  {
   "cell_type": "code",
   "execution_count": 483,
   "metadata": {},
   "outputs": [
    {
     "name": "stdout",
     "output_type": "stream",
     "text": [
      "Bear is found in Western Ghats of India.\n",
      "Lepord is found in Western Ghats of India.\n",
      "Wild Buffalo is found in Western Ghats of India.\n"
     ]
    }
   ],
   "source": [
    "animals = [\"bear\", \"lepord\", \"wild buffalo\"]\n",
    "for animal in animals:\n",
    "    print(animal.title() + \" is found in Western Ghats of India.\")"
   ]
  },
  {
   "cell_type": "markdown",
   "metadata": {},
   "source": [
    "Add a line at the end of your program stating what these animals have in\n",
    "common You could print a sentence such as Any of these animals would\n",
    "make a great pet"
   ]
  },
  {
   "cell_type": "code",
   "execution_count": 484,
   "metadata": {},
   "outputs": [
    {
     "name": "stdout",
     "output_type": "stream",
     "text": [
      "Bear is found in Western Ghats of India.\n",
      "Lepord is found in Western Ghats of India.\n",
      "Wild Buffalo is found in Western Ghats of India.\n",
      "\n",
      "All of the above are wild animals.\n"
     ]
    }
   ],
   "source": [
    "animals = [\"bear\", \"lepord\", \"wild buffalo\"]\n",
    "for animal in animals:\n",
    "    print(animal.title() + \" is found in Western Ghats of India.\")\n",
    "print(\"\\nAll of the above are wild animals.\")"
   ]
  },
  {
   "cell_type": "markdown",
   "metadata": {},
   "source": [
    "# Making numerical lists"
   ]
  },
  {
   "cell_type": "markdown",
   "metadata": {},
   "source": [
    "Many reasons exist to store a set of numbers. For eg, tracking positions of each character in a game, and you might want\n",
    "to keep track of a player’s high scores as well. In data visualizations, you’ll\n",
    "almost always work with sets of numbers, such as temperatures, distances,\n",
    "population sizes, or latitude and longitude values, among other types of \n",
    "numerical sets."
   ]
  },
  {
   "cell_type": "markdown",
   "metadata": {},
   "source": [
    "Using the range() Function - Python’s range() function makes it easy to generate a series of numbers."
   ]
  },
  {
   "cell_type": "code",
   "execution_count": 485,
   "metadata": {},
   "outputs": [
    {
     "name": "stdout",
     "output_type": "stream",
     "text": [
      "1\n",
      "2\n",
      "3\n",
      "4\n"
     ]
    }
   ],
   "source": [
    "for value in range(1,5):\n",
    "    print(value)"
   ]
  },
  {
   "cell_type": "markdown",
   "metadata": {},
   "source": [
    "The range() function causes Python to start counting at the first\n",
    "value you give it, and it stops when it reaches the second value you provide.\n",
    "Because it stops at that second value, the output never contains the end\n",
    "value, which would have been 5 in this case."
   ]
  },
  {
   "cell_type": "markdown",
   "metadata": {},
   "source": [
    "To print the numbers from 1 to 5, we can use range(1,6):"
   ]
  },
  {
   "cell_type": "code",
   "execution_count": 486,
   "metadata": {},
   "outputs": [
    {
     "name": "stdout",
     "output_type": "stream",
     "text": [
      "1\n",
      "2\n",
      "3\n",
      "4\n",
      "5\n"
     ]
    }
   ],
   "source": [
    "for value in range(1,6):\n",
    "    print(value)"
   ]
  },
  {
   "cell_type": "markdown",
   "metadata": {},
   "source": [
    "Using range() to Make a List of Numbers"
   ]
  },
  {
   "cell_type": "markdown",
   "metadata": {},
   "source": [
    "When you wrap list() around a\n",
    "call to the range() function, the output will be a list of numbers."
   ]
  },
  {
   "cell_type": "code",
   "execution_count": 487,
   "metadata": {},
   "outputs": [
    {
     "name": "stdout",
     "output_type": "stream",
     "text": [
      "[1, 2, 3, 4, 5]\n"
     ]
    }
   ],
   "source": [
    "numbers = list(range(1,6))\n",
    "print(numbers)"
   ]
  },
  {
   "cell_type": "markdown",
   "metadata": {},
   "source": [
    "using the range() function to tell Python to skip numbers\n",
    "in a given range. "
   ]
  },
  {
   "cell_type": "code",
   "execution_count": 488,
   "metadata": {},
   "outputs": [
    {
     "name": "stdout",
     "output_type": "stream",
     "text": [
      "[2, 4, 6, 8, 10]\n"
     ]
    }
   ],
   "source": [
    "even_numbers = list(range(2,11,2))\n",
    "print(even_numbers)"
   ]
  },
  {
   "cell_type": "markdown",
   "metadata": {},
   "source": [
    "In this example, the range() function starts with the value 2 and then\n",
    "adds 2 to that value. It adds 2 repeatedly until it reaches or passes the end\n",
    "value, 11, and produces the result."
   ]
  },
  {
   "cell_type": "code",
   "execution_count": 489,
   "metadata": {},
   "outputs": [
    {
     "name": "stdout",
     "output_type": "stream",
     "text": [
      "[1, 4, 9, 16, 25, 36, 49, 64, 81, 100]\n"
     ]
    }
   ],
   "source": [
    "#making a list of the first 10 square numbers \n",
    "\n",
    "squares = []\n",
    "for value in range(1,11):\n",
    "    square=value**2\n",
    "    squares.append(square)\n",
    "    \n",
    "print(squares)"
   ]
  },
  {
   "cell_type": "markdown",
   "metadata": {},
   "source": [
    "We start with an empty list called squares. Then, we tell Python to\n",
    "loop through each value from 1 to 10 using the range() function. Inside\n",
    "the loop, the current value is raised to the second power and stored in the variable. Later, each new value of square is appended to the list\n",
    "squares. Finally, when the loop has finished running, the list of squares is\n",
    "printed"
   ]
  },
  {
   "cell_type": "code",
   "execution_count": 490,
   "metadata": {},
   "outputs": [
    {
     "name": "stdout",
     "output_type": "stream",
     "text": [
      "[1, 4, 9, 16, 25, 36, 49, 64, 81, 100]\n"
     ]
    }
   ],
   "source": [
    "squares = []\n",
    "for value in range(1,11):\n",
    "    squares.append(value**2)\n",
    "    \n",
    "print(squares)"
   ]
  },
  {
   "cell_type": "code",
   "execution_count": 491,
   "metadata": {},
   "outputs": [
    {
     "data": {
      "text/plain": [
       "1"
      ]
     },
     "execution_count": 491,
     "metadata": {},
     "output_type": "execute_result"
    }
   ],
   "source": [
    "#Simple Statistics with a List of Numbers\n",
    "\n",
    "digits = [1,2,3,4,5,6,7,8,9,10]\n",
    "\n",
    "min(digits)"
   ]
  },
  {
   "cell_type": "code",
   "execution_count": 492,
   "metadata": {},
   "outputs": [
    {
     "data": {
      "text/plain": [
       "10"
      ]
     },
     "execution_count": 492,
     "metadata": {},
     "output_type": "execute_result"
    }
   ],
   "source": [
    "max(digits)"
   ]
  },
  {
   "cell_type": "markdown",
   "metadata": {},
   "source": [
    "sum(digits)"
   ]
  },
  {
   "cell_type": "markdown",
   "metadata": {},
   "source": [
    "List Comprehensions- A list comprehension combines the\n",
    "for loop and the creation of new elements into one line, and automatically\n",
    "appends each new element. \n",
    "\n"
   ]
  },
  {
   "cell_type": "code",
   "execution_count": 493,
   "metadata": {},
   "outputs": [
    {
     "name": "stdout",
     "output_type": "stream",
     "text": [
      "[1, 4, 9, 16, 25, 36, 49, 64, 81, 100]\n"
     ]
    }
   ],
   "source": [
    "#Building list of square of nos usimg list comprehension\n",
    "\n",
    "squares = [value**2 for value in range(1,11)]\n",
    "print(squares)"
   ]
  },
  {
   "cell_type": "markdown",
   "metadata": {},
   "source": [
    "Begin with a descriptive name for the list, such as\n",
    "squares. Next, open a set of square brackets and define the expression for\n",
    "the values you want to store in the new list. In this example the expres-\n",
    "sion is value**2, which raises the value to the second power. Then, write\n",
    "a for loop to generate the numbers you want to feed into the expression,\n",
    "and close the square brackets. The for loop in this example is for value\n",
    "in range(1,11), which feeds the values 1 through 10 into the expression\n",
    "value**2."
   ]
  },
  {
   "cell_type": "markdown",
   "metadata": {},
   "source": [
    "4-3. Counting to Twenty: Use a for loop to print the numbers from 1 to 20,\n",
    "inclusive"
   ]
  },
  {
   "cell_type": "code",
   "execution_count": 494,
   "metadata": {},
   "outputs": [
    {
     "name": "stdout",
     "output_type": "stream",
     "text": [
      "1\n",
      "2\n",
      "3\n",
      "4\n",
      "5\n",
      "6\n",
      "7\n",
      "8\n",
      "9\n",
      "10\n",
      "11\n",
      "12\n",
      "13\n",
      "14\n",
      "15\n",
      "16\n",
      "17\n",
      "18\n",
      "19\n",
      "20\n"
     ]
    }
   ],
   "source": [
    "for value in range(1,21):\n",
    "    print(value)"
   ]
  },
  {
   "cell_type": "markdown",
   "metadata": {},
   "source": [
    "4-4. One Million: Make a list of the numbers from one to one million, and then\n",
    "use a for loop to print the numbers (If the output is taking too long, stop it by\n",
    "pressing ctrl-C or by closing the output window )"
   ]
  },
  {
   "cell_type": "code",
   "execution_count": 495,
   "metadata": {},
   "outputs": [
    {
     "name": "stdout",
     "output_type": "stream",
     "text": [
      "[1, 2, 3, 4, 5, 6, 7, 8, 9, 10, 11, 12, 13, 14, 15, 16, 17, 18, 19, 20, 21, 22, 23, 24, 25, 26, 27, 28, 29, 30, 31, 32, 33, 34, 35, 36, 37, 38, 39, 40, 41, 42, 43, 44, 45, 46, 47, 48, 49, 50, 51, 52, 53, 54, 55, 56, 57, 58, 59, 60, 61, 62, 63, 64, 65, 66, 67, 68, 69, 70, 71, 72, 73, 74, 75, 76, 77, 78, 79, 80, 81, 82, 83, 84, 85, 86, 87, 88, 89, 90, 91, 92, 93, 94, 95, 96, 97, 98, 99, 100, 101, 102, 103, 104, 105, 106, 107, 108, 109, 110, 111, 112, 113, 114, 115, 116, 117, 118, 119, 120, 121, 122, 123, 124, 125, 126, 127, 128, 129, 130, 131, 132, 133, 134, 135, 136, 137, 138, 139, 140, 141, 142, 143, 144, 145, 146, 147, 148, 149, 150, 151, 152, 153, 154, 155, 156, 157, 158, 159, 160, 161, 162, 163, 164, 165, 166, 167, 168, 169, 170, 171, 172, 173, 174, 175, 176, 177, 178, 179, 180, 181, 182, 183, 184, 185, 186, 187, 188, 189, 190, 191, 192, 193, 194, 195, 196, 197, 198, 199, 200, 201, 202, 203, 204, 205, 206, 207, 208, 209, 210, 211, 212, 213, 214, 215, 216, 217, 218, 219, 220, 221, 222, 223, 224, 225, 226, 227, 228, 229, 230, 231, 232, 233, 234, 235, 236, 237, 238, 239, 240, 241, 242, 243, 244, 245, 246, 247, 248, 249, 250, 251, 252, 253, 254, 255, 256, 257, 258, 259, 260, 261, 262, 263, 264, 265, 266, 267, 268, 269, 270, 271, 272, 273, 274, 275, 276, 277, 278, 279, 280, 281, 282, 283, 284, 285, 286, 287, 288, 289, 290, 291, 292, 293, 294, 295, 296, 297, 298, 299, 300, 301, 302, 303, 304, 305, 306, 307, 308, 309, 310, 311, 312, 313, 314, 315, 316, 317, 318, 319, 320, 321, 322, 323, 324, 325, 326, 327, 328, 329, 330, 331, 332, 333, 334, 335, 336, 337, 338, 339, 340, 341, 342, 343, 344, 345, 346, 347, 348, 349, 350, 351, 352, 353, 354, 355, 356, 357, 358, 359, 360, 361, 362, 363, 364, 365, 366, 367, 368, 369, 370, 371, 372, 373, 374, 375, 376, 377, 378, 379, 380, 381, 382, 383, 384, 385, 386, 387, 388, 389, 390, 391, 392, 393, 394, 395, 396, 397, 398, 399, 400, 401, 402, 403, 404, 405, 406, 407, 408, 409, 410, 411, 412, 413, 414, 415, 416, 417, 418, 419, 420, 421, 422, 423, 424, 425, 426, 427, 428, 429, 430, 431, 432, 433, 434, 435, 436, 437, 438, 439, 440, 441, 442, 443, 444, 445, 446, 447, 448, 449, 450, 451, 452, 453, 454, 455, 456, 457, 458, 459, 460, 461, 462, 463, 464, 465, 466, 467, 468, 469, 470, 471, 472, 473, 474, 475, 476, 477, 478, 479, 480, 481, 482, 483, 484, 485, 486, 487, 488, 489, 490, 491, 492, 493, 494, 495, 496, 497, 498, 499, 500, 501, 502, 503, 504, 505, 506, 507, 508, 509, 510, 511, 512, 513, 514, 515, 516, 517, 518, 519, 520, 521, 522, 523, 524, 525, 526, 527, 528, 529, 530, 531, 532, 533, 534, 535, 536, 537, 538, 539, 540, 541, 542, 543, 544, 545, 546, 547, 548, 549, 550, 551, 552, 553, 554, 555, 556, 557, 558, 559, 560, 561, 562, 563, 564, 565, 566, 567, 568, 569, 570, 571, 572, 573, 574, 575, 576, 577, 578, 579, 580, 581, 582, 583, 584, 585, 586, 587, 588, 589, 590, 591, 592, 593, 594, 595, 596, 597, 598, 599, 600, 601, 602, 603, 604, 605, 606, 607, 608, 609, 610, 611, 612, 613, 614, 615, 616, 617, 618, 619, 620, 621, 622, 623, 624, 625, 626, 627, 628, 629, 630, 631, 632, 633, 634, 635, 636, 637, 638, 639, 640, 641, 642, 643, 644, 645, 646, 647, 648, 649, 650, 651, 652, 653, 654, 655, 656, 657, 658, 659, 660, 661, 662, 663, 664, 665, 666, 667, 668, 669, 670, 671, 672, 673, 674, 675, 676, 677, 678, 679, 680, 681, 682, 683, 684, 685, 686, 687, 688, 689, 690, 691, 692, 693, 694, 695, 696, 697, 698, 699, 700, 701, 702, 703, 704, 705, 706, 707, 708, 709, 710, 711, 712, 713, 714, 715, 716, 717, 718, 719, 720, 721, 722, 723, 724, 725, 726, 727, 728, 729, 730, 731, 732, 733, 734, 735, 736, 737, 738, 739, 740, 741, 742, 743, 744, 745, 746, 747, 748, 749, 750, 751, 752, 753, 754, 755, 756, 757, 758, 759, 760, 761, 762, 763, 764, 765, 766, 767, 768, 769, 770, 771, 772, 773, 774, 775, 776, 777, 778, 779, 780, 781, 782, 783, 784, 785, 786, 787, 788, 789, 790, 791, 792, 793, 794, 795, 796, 797, 798, 799, 800, 801, 802, 803, 804, 805, 806, 807, 808, 809, 810, 811, 812, 813, 814, 815, 816, 817, 818, 819, 820, 821, 822, 823, 824, 825, 826, 827, 828, 829, 830, 831, 832, 833, 834, 835, 836, 837, 838, 839, 840, 841, 842, 843, 844, 845, 846, 847, 848, 849, 850, 851, 852, 853, 854, 855, 856, 857, 858, 859, 860, 861, 862, 863, 864, 865, 866, 867, 868, 869, 870, 871, 872, 873, 874, 875, 876, 877, 878, 879, 880, 881, 882, 883, 884, 885, 886, 887, 888, 889, 890, 891, 892, 893, 894, 895, 896, 897, 898, 899, 900, 901, 902, 903, 904, 905, 906, 907, 908, 909, 910, 911, 912, 913, 914, 915, 916, 917, 918, 919, 920, 921, 922, 923, 924, 925, 926, 927, 928, 929, 930, 931, 932, 933, 934, 935, 936, 937, 938, 939, 940, 941, 942, 943, 944, 945, 946, 947, 948, 949, 950, 951, 952, 953, 954, 955, 956, 957, 958, 959, 960, 961, 962, 963, 964, 965, 966, 967, 968, 969, 970, 971, 972, 973, 974, 975, 976, 977, 978, 979, 980, 981, 982, 983, 984, 985, 986, 987, 988, 989, 990, 991, 992, 993, 994, 995, 996, 997, 998, 999, 1000]\n"
     ]
    }
   ],
   "source": [
    "#I'm printing 1000 nos\n",
    "\n",
    "numbers = []\n",
    "for number in range(1,1001):\n",
    "    numbers.append(number)\n",
    "    \n",
    "print(numbers)"
   ]
  },
  {
   "cell_type": "markdown",
   "metadata": {},
   "source": [
    "4-5. Summing a Million: Make a list of the numbers from one to one thousand,\n",
    "and then use min() and max() to make sure your list actually starts at one and\n",
    "ends at one thousand. Also, use the sum() function to see how quickly Python can\n",
    "add a million numbers"
   ]
  },
  {
   "cell_type": "code",
   "execution_count": 496,
   "metadata": {},
   "outputs": [
    {
     "name": "stdout",
     "output_type": "stream",
     "text": [
      "[1, 2, 3, 4, 5, 6, 7, 8, 9, 10, 11, 12, 13, 14, 15, 16, 17, 18, 19, 20, 21, 22, 23, 24, 25, 26, 27, 28, 29, 30, 31, 32, 33, 34, 35, 36, 37, 38, 39, 40, 41, 42, 43, 44, 45, 46, 47, 48, 49, 50, 51, 52, 53, 54, 55, 56, 57, 58, 59, 60, 61, 62, 63, 64, 65, 66, 67, 68, 69, 70, 71, 72, 73, 74, 75, 76, 77, 78, 79, 80, 81, 82, 83, 84, 85, 86, 87, 88, 89, 90, 91, 92, 93, 94, 95, 96, 97, 98, 99, 100, 101, 102, 103, 104, 105, 106, 107, 108, 109, 110, 111, 112, 113, 114, 115, 116, 117, 118, 119, 120, 121, 122, 123, 124, 125, 126, 127, 128, 129, 130, 131, 132, 133, 134, 135, 136, 137, 138, 139, 140, 141, 142, 143, 144, 145, 146, 147, 148, 149, 150, 151, 152, 153, 154, 155, 156, 157, 158, 159, 160, 161, 162, 163, 164, 165, 166, 167, 168, 169, 170, 171, 172, 173, 174, 175, 176, 177, 178, 179, 180, 181, 182, 183, 184, 185, 186, 187, 188, 189, 190, 191, 192, 193, 194, 195, 196, 197, 198, 199, 200, 201, 202, 203, 204, 205, 206, 207, 208, 209, 210, 211, 212, 213, 214, 215, 216, 217, 218, 219, 220, 221, 222, 223, 224, 225, 226, 227, 228, 229, 230, 231, 232, 233, 234, 235, 236, 237, 238, 239, 240, 241, 242, 243, 244, 245, 246, 247, 248, 249, 250, 251, 252, 253, 254, 255, 256, 257, 258, 259, 260, 261, 262, 263, 264, 265, 266, 267, 268, 269, 270, 271, 272, 273, 274, 275, 276, 277, 278, 279, 280, 281, 282, 283, 284, 285, 286, 287, 288, 289, 290, 291, 292, 293, 294, 295, 296, 297, 298, 299, 300, 301, 302, 303, 304, 305, 306, 307, 308, 309, 310, 311, 312, 313, 314, 315, 316, 317, 318, 319, 320, 321, 322, 323, 324, 325, 326, 327, 328, 329, 330, 331, 332, 333, 334, 335, 336, 337, 338, 339, 340, 341, 342, 343, 344, 345, 346, 347, 348, 349, 350, 351, 352, 353, 354, 355, 356, 357, 358, 359, 360, 361, 362, 363, 364, 365, 366, 367, 368, 369, 370, 371, 372, 373, 374, 375, 376, 377, 378, 379, 380, 381, 382, 383, 384, 385, 386, 387, 388, 389, 390, 391, 392, 393, 394, 395, 396, 397, 398, 399, 400, 401, 402, 403, 404, 405, 406, 407, 408, 409, 410, 411, 412, 413, 414, 415, 416, 417, 418, 419, 420, 421, 422, 423, 424, 425, 426, 427, 428, 429, 430, 431, 432, 433, 434, 435, 436, 437, 438, 439, 440, 441, 442, 443, 444, 445, 446, 447, 448, 449, 450, 451, 452, 453, 454, 455, 456, 457, 458, 459, 460, 461, 462, 463, 464, 465, 466, 467, 468, 469, 470, 471, 472, 473, 474, 475, 476, 477, 478, 479, 480, 481, 482, 483, 484, 485, 486, 487, 488, 489, 490, 491, 492, 493, 494, 495, 496, 497, 498, 499, 500, 501, 502, 503, 504, 505, 506, 507, 508, 509, 510, 511, 512, 513, 514, 515, 516, 517, 518, 519, 520, 521, 522, 523, 524, 525, 526, 527, 528, 529, 530, 531, 532, 533, 534, 535, 536, 537, 538, 539, 540, 541, 542, 543, 544, 545, 546, 547, 548, 549, 550, 551, 552, 553, 554, 555, 556, 557, 558, 559, 560, 561, 562, 563, 564, 565, 566, 567, 568, 569, 570, 571, 572, 573, 574, 575, 576, 577, 578, 579, 580, 581, 582, 583, 584, 585, 586, 587, 588, 589, 590, 591, 592, 593, 594, 595, 596, 597, 598, 599, 600, 601, 602, 603, 604, 605, 606, 607, 608, 609, 610, 611, 612, 613, 614, 615, 616, 617, 618, 619, 620, 621, 622, 623, 624, 625, 626, 627, 628, 629, 630, 631, 632, 633, 634, 635, 636, 637, 638, 639, 640, 641, 642, 643, 644, 645, 646, 647, 648, 649, 650, 651, 652, 653, 654, 655, 656, 657, 658, 659, 660, 661, 662, 663, 664, 665, 666, 667, 668, 669, 670, 671, 672, 673, 674, 675, 676, 677, 678, 679, 680, 681, 682, 683, 684, 685, 686, 687, 688, 689, 690, 691, 692, 693, 694, 695, 696, 697, 698, 699, 700, 701, 702, 703, 704, 705, 706, 707, 708, 709, 710, 711, 712, 713, 714, 715, 716, 717, 718, 719, 720, 721, 722, 723, 724, 725, 726, 727, 728, 729, 730, 731, 732, 733, 734, 735, 736, 737, 738, 739, 740, 741, 742, 743, 744, 745, 746, 747, 748, 749, 750, 751, 752, 753, 754, 755, 756, 757, 758, 759, 760, 761, 762, 763, 764, 765, 766, 767, 768, 769, 770, 771, 772, 773, 774, 775, 776, 777, 778, 779, 780, 781, 782, 783, 784, 785, 786, 787, 788, 789, 790, 791, 792, 793, 794, 795, 796, 797, 798, 799, 800, 801, 802, 803, 804, 805, 806, 807, 808, 809, 810, 811, 812, 813, 814, 815, 816, 817, 818, 819, 820, 821, 822, 823, 824, 825, 826, 827, 828, 829, 830, 831, 832, 833, 834, 835, 836, 837, 838, 839, 840, 841, 842, 843, 844, 845, 846, 847, 848, 849, 850, 851, 852, 853, 854, 855, 856, 857, 858, 859, 860, 861, 862, 863, 864, 865, 866, 867, 868, 869, 870, 871, 872, 873, 874, 875, 876, 877, 878, 879, 880, 881, 882, 883, 884, 885, 886, 887, 888, 889, 890, 891, 892, 893, 894, 895, 896, 897, 898, 899, 900, 901, 902, 903, 904, 905, 906, 907, 908, 909, 910, 911, 912, 913, 914, 915, 916, 917, 918, 919, 920, 921, 922, 923, 924, 925, 926, 927, 928, 929, 930, 931, 932, 933, 934, 935, 936, 937, 938, 939, 940, 941, 942, 943, 944, 945, 946, 947, 948, 949, 950, 951, 952, 953, 954, 955, 956, 957, 958, 959, 960, 961, 962, 963, 964, 965, 966, 967, 968, 969, 970, 971, 972, 973, 974, 975, 976, 977, 978, 979, 980, 981, 982, 983, 984, 985, 986, 987, 988, 989, 990, 991, 992, 993, 994, 995, 996, 997, 998, 999, 1000]\n"
     ]
    }
   ],
   "source": [
    "print(numbers)"
   ]
  },
  {
   "cell_type": "code",
   "execution_count": 497,
   "metadata": {},
   "outputs": [
    {
     "name": "stdout",
     "output_type": "stream",
     "text": [
      "1\n",
      "1000\n",
      "500500\n"
     ]
    }
   ],
   "source": [
    "print(min(numbers))\n",
    "print(max(numbers))\n",
    "print(sum(numbers))"
   ]
  },
  {
   "cell_type": "markdown",
   "metadata": {},
   "source": [
    "4-6. Odd Numbers: Use the third argument of the range() function to make a list\n",
    "of the odd numbers from 1 to 20 Use a for loop to print each number"
   ]
  },
  {
   "cell_type": "code",
   "execution_count": 498,
   "metadata": {},
   "outputs": [
    {
     "name": "stdout",
     "output_type": "stream",
     "text": [
      "1\n",
      "3\n",
      "5\n",
      "7\n",
      "9\n",
      "11\n",
      "13\n",
      "15\n",
      "17\n",
      "19\n"
     ]
    }
   ],
   "source": [
    "for odd_no in range(1,21,2):\n",
    "    print(odd_no)"
   ]
  },
  {
   "cell_type": "markdown",
   "metadata": {},
   "source": [
    "4-7. Threes: Make a list of the multiples of 3 from 3 to 30 Use a for loop to\n",
    "print the numbers in your list"
   ]
  },
  {
   "cell_type": "code",
   "execution_count": 499,
   "metadata": {},
   "outputs": [
    {
     "name": "stdout",
     "output_type": "stream",
     "text": [
      "[3, 6, 9, 12, 15, 18, 21, 24, 27, 30]\n"
     ]
    }
   ],
   "source": [
    "multiples_of_3 = []\n",
    "\n",
    "for value in range(3,31,3):\n",
    "    multiples_of_3.append(value)\n",
    "    \n",
    "print(multiples_of_3)"
   ]
  },
  {
   "cell_type": "code",
   "execution_count": 500,
   "metadata": {},
   "outputs": [
    {
     "name": "stdout",
     "output_type": "stream",
     "text": [
      "[3, 6, 9, 12, 15, 18, 21, 24, 27, 30]\n"
     ]
    }
   ],
   "source": [
    "#solving by other method\n",
    "\n",
    "multiples_of_3 = []\n",
    "\n",
    "for value in range(1,11):\n",
    "    multiple = value*3\n",
    "    multiples_of_3.append(multiple)\n",
    "    \n",
    "print(multiples_of_3)"
   ]
  },
  {
   "cell_type": "markdown",
   "metadata": {},
   "source": [
    "4-8. Cubes: A number raised to the third power is called a cube For example,\n",
    "the cube of 2 is written as 2**3 in Python Make a list of the first 10 cubes (that\n",
    "is, the cube of each integer from 1 through 10), and use a for loop to print out\n",
    "the value of each cube"
   ]
  },
  {
   "cell_type": "code",
   "execution_count": 501,
   "metadata": {},
   "outputs": [
    {
     "name": "stdout",
     "output_type": "stream",
     "text": [
      "[1, 8, 27, 64, 125, 216, 343, 512, 729, 1000]\n"
     ]
    }
   ],
   "source": [
    "cubes = []\n",
    "\n",
    "for value in range(1,11):\n",
    "    cube = value**3\n",
    "    cubes.append(cube)\n",
    "    \n",
    "print(cubes)\n",
    "    "
   ]
  },
  {
   "cell_type": "markdown",
   "metadata": {},
   "source": [
    "4-9. Cube Comprehension: Use a list comprehension to generate a list of the\n",
    "first 10 cubes"
   ]
  },
  {
   "cell_type": "code",
   "execution_count": 502,
   "metadata": {},
   "outputs": [
    {
     "name": "stdout",
     "output_type": "stream",
     "text": [
      "[1, 8, 27, 64, 125, 216, 343, 512, 729, 1000]\n"
     ]
    }
   ],
   "source": [
    "cubes = [value**3 for value in range(1,11)]\n",
    "print(cubes)"
   ]
  },
  {
   "cell_type": "markdown",
   "metadata": {},
   "source": [
    "Working with Lists"
   ]
  },
  {
   "cell_type": "markdown",
   "metadata": {},
   "source": [
    "Slicing a List\n",
    "\n",
    "To make a slice, you specify the index of the first and last elements you\n",
    "want to work with."
   ]
  },
  {
   "cell_type": "code",
   "execution_count": 503,
   "metadata": {},
   "outputs": [
    {
     "name": "stdout",
     "output_type": "stream",
     "text": [
      "['rohit', 'virat', 'jadeja']\n"
     ]
    }
   ],
   "source": [
    "players = [\"rohit\", \"virat\", \"jadeja\", \"bumra\", \"shikar\", \"rahane\"]\n",
    "print(players[0:3])"
   ]
  },
  {
   "cell_type": "code",
   "execution_count": 504,
   "metadata": {},
   "outputs": [
    {
     "name": "stdout",
     "output_type": "stream",
     "text": [
      "['virat', 'jadeja', 'bumra', 'shikar']\n"
     ]
    }
   ],
   "source": [
    "print(players[1:5])"
   ]
  },
  {
   "cell_type": "code",
   "execution_count": 505,
   "metadata": {},
   "outputs": [
    {
     "name": "stdout",
     "output_type": "stream",
     "text": [
      "['rohit', 'virat', 'jadeja', 'bumra']\n"
     ]
    }
   ],
   "source": [
    "#If you omit the first index in a slice, Python automatically starts your slice at the beginning of the list\n",
    "\n",
    "print(players[0:4])"
   ]
  },
  {
   "cell_type": "code",
   "execution_count": 506,
   "metadata": {},
   "outputs": [
    {
     "name": "stdout",
     "output_type": "stream",
     "text": [
      "['shikar', 'rahane']\n"
     ]
    }
   ],
   "source": [
    "#A similar syntax works if you want a slice that includes the end of a list.\n",
    "\n",
    "print(players[4:])"
   ]
  },
  {
   "cell_type": "code",
   "execution_count": 507,
   "metadata": {},
   "outputs": [
    {
     "name": "stdout",
     "output_type": "stream",
     "text": [
      "['bumra', 'shikar', 'rahane']\n"
     ]
    }
   ],
   "source": [
    "#if we want to output the last three players on the roster, we can use the slice players[-3:]\n",
    "\n",
    "print(players[-3:])"
   ]
  },
  {
   "cell_type": "code",
   "execution_count": 508,
   "metadata": {},
   "outputs": [
    {
     "name": "stdout",
     "output_type": "stream",
     "text": [
      "['virat', 'jadeja', 'bumra', 'shikar', 'rahane']\n"
     ]
    }
   ],
   "source": [
    "print(players[-5:])"
   ]
  },
  {
   "cell_type": "code",
   "execution_count": 509,
   "metadata": {},
   "outputs": [
    {
     "name": "stdout",
     "output_type": "stream",
     "text": [
      "['rohit', 'virat', 'jadeja', 'bumra']\n"
     ]
    }
   ],
   "source": [
    "print(players[:4])"
   ]
  },
  {
   "cell_type": "markdown",
   "metadata": {},
   "source": [
    "Looping Through a Slice"
   ]
  },
  {
   "cell_type": "code",
   "execution_count": 510,
   "metadata": {},
   "outputs": [
    {
     "name": "stdout",
     "output_type": "stream",
     "text": [
      "Here are the first 3 players of my Team:\n",
      "Rohit\n",
      "Virat\n",
      "Jadeja\n"
     ]
    }
   ],
   "source": [
    "#one can use a slice in a for loop if you want to loop through a subset of the elements in a list. In the next example we loop through the first three players and print their names as part of a simple roster:\n",
    "\n",
    "players = [\"rohit\", \"virat\", \"jadeja\", \"bumra\", \"shikar\", \"rahane\"]\n",
    "print(\"Here are the first 3 players of my Team:\")\n",
    "\n",
    "for player in players[:3]:\n",
    "    print(player.title())\n"
   ]
  },
  {
   "cell_type": "markdown",
   "metadata": {},
   "source": [
    "Coping a list: To copy a list, you can make a slice that includes the entire original list\n",
    "by omitting the first index and the second index ([:]). This tells Python to\n",
    "make a slice that starts at the first item and ends with the last item, produc-\n",
    "ing a copy of the entire list."
   ]
  },
  {
   "cell_type": "code",
   "execution_count": 511,
   "metadata": {},
   "outputs": [
    {
     "name": "stdout",
     "output_type": "stream",
     "text": [
      "My favourite foods are:\n",
      "['punjabi samosa', 'appam', 'momos']\n",
      "\n",
      "My sisters fav foods are:\n",
      "['punjabi samosa', 'appam', 'momos']\n"
     ]
    }
   ],
   "source": [
    "my_fav_food = [\"punjabi samosa\", \"appam\", \"momos\"]\n",
    "sis_fav_food = my_fav_food[:]\n",
    "\n",
    "print(\"My favourite foods are:\")\n",
    "print(my_fav_food)\n",
    "print(\"\\nMy sisters fav foods are:\")\n",
    "print(sis_fav_food)"
   ]
  },
  {
   "cell_type": "code",
   "execution_count": 512,
   "metadata": {},
   "outputs": [
    {
     "name": "stdout",
     "output_type": "stream",
     "text": [
      "['punjabi samosa', 'appam', 'momos', 'ice cream']\n"
     ]
    }
   ],
   "source": [
    "my_fav_food.append(\"ice cream\")\n",
    "print(my_fav_food)"
   ]
  },
  {
   "cell_type": "code",
   "execution_count": 513,
   "metadata": {},
   "outputs": [
    {
     "name": "stdout",
     "output_type": "stream",
     "text": [
      "['punjabi samosa', 'appam', 'momos', 'jalebi']\n"
     ]
    }
   ],
   "source": [
    "sis_fav_food.append(\"jalebi\")\n",
    "print(sis_fav_food)"
   ]
  },
  {
   "cell_type": "code",
   "execution_count": 514,
   "metadata": {},
   "outputs": [
    {
     "name": "stdout",
     "output_type": "stream",
     "text": [
      "My favourite foods are:\n",
      "['punjabi samosa', 'appam', 'momos', 'ice cream']\n",
      "\n",
      "My sisters fav foods are:\n",
      "['punjabi samosa', 'appam', 'momos', 'jalebi']\n"
     ]
    }
   ],
   "source": [
    "print(\"My favourite foods are:\")\n",
    "print(my_fav_food)\n",
    "print(\"\\nMy sisters fav foods are:\")\n",
    "print(sis_fav_food)"
   ]
  },
  {
   "cell_type": "code",
   "execution_count": 515,
   "metadata": {},
   "outputs": [
    {
     "name": "stdout",
     "output_type": "stream",
     "text": [
      "My favourite foods are:\n",
      "['punjabi samosa', 'appam', 'momos', 'jalebi']\n",
      "\n",
      "My sisters fav foods are:\n",
      "['punjabi samosa', 'appam', 'momos', 'jalebi']\n"
     ]
    }
   ],
   "source": [
    "#this doesnt work\n",
    "\n",
    "my_fav_food = sis_fav_food\n",
    "\n",
    "print(\"My favourite foods are:\")\n",
    "print(my_fav_food)\n",
    "print(\"\\nMy sisters fav foods are:\")\n",
    "print(sis_fav_food)"
   ]
  },
  {
   "cell_type": "markdown",
   "metadata": {},
   "source": [
    "Instead of storing a copy of my_food in sis_fav_food, we set\n",
    "sis_fav_food equal to my_fav_food. This syntax actually tells Python to con-\n",
    "nect the new variable sis_fav_food to the list that is already contained in\n",
    "my_fav_food, so now both variables point to the same list. As a result, when we\n",
    "add 'momos' to my_fav_food, it will also appear in sis_fav_food. Likewise 'jalebi' will appear in both lists, even though it appears to be added only to\n",
    "sis_fav_foods.\n",
    "The output shows that both lists are the same now, which is not what we\n",
    "wanted."
   ]
  },
  {
   "cell_type": "markdown",
   "metadata": {},
   "source": [
    "Basically, if you’re trying to\n",
    "work with a copy of a list and you see unexpected behavior, make sure you are copying\n",
    "the list using a slice."
   ]
  },
  {
   "cell_type": "markdown",
   "metadata": {},
   "source": [
    "4-10. Slices: Using one of the programs you wrote in this chapter, add several\n",
    "lines to the end of the program that do the following:\n",
    "• Print the message, The first three items in the list are: Then use a slice to\n",
    "print the first three items from that program’s list\n",
    "• Print the message, Three items from the middle of the list are: Use a slice\n",
    "to print three items from the middle of the list\n",
    "• Print the message, The last three items in the list are: Use a slice to print\n",
    "the last three items in the list"
   ]
  },
  {
   "cell_type": "code",
   "execution_count": 516,
   "metadata": {},
   "outputs": [
    {
     "data": {
      "text/plain": [
       "['punjabi samosa', 'appam', 'momos', 'jalebi']"
      ]
     },
     "execution_count": 516,
     "metadata": {},
     "output_type": "execute_result"
    }
   ],
   "source": [
    "my_fav_food"
   ]
  },
  {
   "cell_type": "code",
   "execution_count": 517,
   "metadata": {},
   "outputs": [
    {
     "name": "stdout",
     "output_type": "stream",
     "text": [
      "The first three items in the food list are: ['punjabi samosa', 'appam', 'momos']\n"
     ]
    }
   ],
   "source": [
    "print(\"The first three items in the food list are:\", my_fav_food[:3])\n"
   ]
  },
  {
   "cell_type": "code",
   "execution_count": 518,
   "metadata": {},
   "outputs": [
    {
     "name": "stdout",
     "output_type": "stream",
     "text": [
      "Three items from the middle of the list are ['appam', 'momos', 'jalebi']\n"
     ]
    }
   ],
   "source": [
    "print(\"Three items from the middle of the list are\", my_fav_food[1:4])"
   ]
  },
  {
   "cell_type": "code",
   "execution_count": 519,
   "metadata": {},
   "outputs": [
    {
     "name": "stdout",
     "output_type": "stream",
     "text": [
      "The last three items in the list are: ['appam', 'momos', 'jalebi']\n"
     ]
    }
   ],
   "source": [
    "print(\"The last three items in the list are:\", my_fav_food[-3:])"
   ]
  },
  {
   "cell_type": "markdown",
   "metadata": {},
   "source": [
    "4-11. My Pizzas, Your Pizzas: Start with your program from Exercise 4-1\n",
    "(page 60) Make a copy of the list of pizzas, and call it friend_pizzas\n",
    "Then, do the following:\n",
    "• Add a new pizza to the original list\n",
    "• Add a different pizza to the list friend_pizzas\n",
    "• Prove that you have two separate lists Print the message, My favorite\n",
    "pizzas are:, and then use a for loop to print the first list Print the message,\n",
    "My friend’s favorite pizzas are:, and then use a for loop to print the sec-\n",
    "ond list Make sure each new pizza is stored in the appropriate list"
   ]
  },
  {
   "cell_type": "code",
   "execution_count": 520,
   "metadata": {},
   "outputs": [
    {
     "data": {
      "text/plain": [
       "['margherita', 'paneer tikka', 'tandoori pizza']"
      ]
     },
     "execution_count": 520,
     "metadata": {},
     "output_type": "execute_result"
    }
   ],
   "source": [
    "friend_pizzas = fav_pizza[:]\n",
    "fav_pizza"
   ]
  },
  {
   "cell_type": "code",
   "execution_count": 521,
   "metadata": {},
   "outputs": [
    {
     "data": {
      "text/plain": [
       "['margherita', 'paneer tikka', 'tandoori pizza', 'Veggie delight']"
      ]
     },
     "execution_count": 521,
     "metadata": {},
     "output_type": "execute_result"
    }
   ],
   "source": [
    "fav_pizza.append(\"Veggie delight\")\n",
    "fav_pizza"
   ]
  },
  {
   "cell_type": "code",
   "execution_count": 522,
   "metadata": {},
   "outputs": [
    {
     "data": {
      "text/plain": [
       "['margherita', 'paneer tikka', 'tandoori pizza', 'mushroom pizza']"
      ]
     },
     "execution_count": 522,
     "metadata": {},
     "output_type": "execute_result"
    }
   ],
   "source": [
    "friend_pizzas.append(\"mushroom pizza\")\n",
    "friend_pizzas"
   ]
  },
  {
   "cell_type": "code",
   "execution_count": 523,
   "metadata": {},
   "outputs": [
    {
     "name": "stdout",
     "output_type": "stream",
     "text": [
      "My favourite Pizzas are:\n",
      "Margherita\n",
      "Paneer Tikka\n",
      "Tandoori Pizza\n",
      "Veggie Delight\n",
      "\n",
      "My friend's favourite pizzas are:\n",
      "Margherita\n",
      "Paneer Tikka\n",
      "Tandoori Pizza\n",
      "Mushroom Pizza\n"
     ]
    }
   ],
   "source": [
    "print(\"My favourite Pizzas are:\")\n",
    "for my_pizza in fav_pizza:\n",
    "    print(my_pizza.title())\n",
    "    \n",
    "print(\"\\nMy friend's favourite pizzas are:\")\n",
    "for pizza in friend_pizzas:\n",
    "    print(pizza.title())"
   ]
  },
  {
   "cell_type": "markdown",
   "metadata": {},
   "source": [
    "4-12. More Loops: All versions of foods.py in this section have avoided using\n",
    "for loops when printing to save space Choose a version of foods.py, and\n",
    "write two for loops to print each list of foods"
   ]
  },
  {
   "cell_type": "markdown",
   "metadata": {},
   "source": [
    "print(\"My favourite foods are:\")\n",
    "for food in my_fav_food:\n",
    "    print(food.title())\n",
    "    \n",
    "print(\"\\nMy sisters fav foods are:\")\n",
    "for foods in sis_fav_food:\n",
    "    print(foods.title())"
   ]
  },
  {
   "cell_type": "markdown",
   "metadata": {},
   "source": [
    "# Tuples"
   ]
  },
  {
   "cell_type": "markdown",
   "metadata": {},
   "source": [
    "Python refers to values that cannot\n",
    "change as immutable, and an immutable list is called a tuple."
   ]
  },
  {
   "cell_type": "markdown",
   "metadata": {},
   "source": [
    "*Defining a Tuple*\n",
    "\n",
    "A tuple looks just like a list except you use parentheses instead of square\n",
    "brackets. Once you define a tuple, you can access individual elements by\n",
    "using each item’s index, just as you would for a list."
   ]
  },
  {
   "cell_type": "code",
   "execution_count": 524,
   "metadata": {},
   "outputs": [
    {
     "name": "stdout",
     "output_type": "stream",
     "text": [
      "200\n",
      "50\n"
     ]
    }
   ],
   "source": [
    "#if we have a rectangle that should always be a certain size,we can ensure that its size doesn’t change by putting the dimensions into atuple:\n",
    "\n",
    "rect_dimension = (200,50)\n",
    "print(rect_dimension[0])\n",
    "print(rect_dimension[1])"
   ]
  },
  {
   "cell_type": "code",
   "execution_count": 525,
   "metadata": {},
   "outputs": [
    {
     "ename": "TypeError",
     "evalue": "'tuple' object does not support item assignment",
     "output_type": "error",
     "traceback": [
      "\u001b[1;31m---------------------------------------------------------------------------\u001b[0m",
      "\u001b[1;31mTypeError\u001b[0m                                 Traceback (most recent call last)",
      "\u001b[1;32m<ipython-input-525-0860794b3bf2>\u001b[0m in \u001b[0;36m<module>\u001b[1;34m\u001b[0m\n\u001b[0;32m      1\u001b[0m \u001b[1;31m#trying to change tuple elements and getting error\u001b[0m\u001b[1;33m\u001b[0m\u001b[1;33m\u001b[0m\u001b[1;33m\u001b[0m\u001b[0m\n\u001b[0;32m      2\u001b[0m \u001b[1;33m\u001b[0m\u001b[0m\n\u001b[1;32m----> 3\u001b[1;33m \u001b[0mrect_dimension\u001b[0m\u001b[1;33m[\u001b[0m\u001b[1;36m0\u001b[0m\u001b[1;33m]\u001b[0m \u001b[1;33m=\u001b[0m \u001b[1;36m250\u001b[0m\u001b[1;33m\u001b[0m\u001b[1;33m\u001b[0m\u001b[0m\n\u001b[0m\u001b[0;32m      4\u001b[0m \u001b[0mprint\u001b[0m\u001b[1;33m(\u001b[0m\u001b[0mrect_dimension\u001b[0m\u001b[1;33m)\u001b[0m\u001b[1;33m\u001b[0m\u001b[1;33m\u001b[0m\u001b[0m\n",
      "\u001b[1;31mTypeError\u001b[0m: 'tuple' object does not support item assignment"
     ]
    }
   ],
   "source": [
    "#trying to change tuple elements and getting error\n",
    "\n",
    "rect_dimension[0] = 250\n",
    "print(rect_dimension)"
   ]
  },
  {
   "cell_type": "markdown",
   "metadata": {},
   "source": [
    "Looping through all the values in a tuple."
   ]
  },
  {
   "cell_type": "markdown",
   "metadata": {},
   "source": [
    "for dimension in rect_dimension:\n",
    "    print(dimension)"
   ]
  },
  {
   "cell_type": "markdown",
   "metadata": {},
   "source": [
    "Writing over a tuple"
   ]
  },
  {
   "cell_type": "code",
   "execution_count": 526,
   "metadata": {},
   "outputs": [
    {
     "name": "stdout",
     "output_type": "stream",
     "text": [
      "Original dimensions are:\n",
      "200\n",
      "50\n",
      "\n",
      "Modified dimensions are:\n",
      "400\n",
      "100\n"
     ]
    }
   ],
   "source": [
    "rect_dimensions = (200, 50)\n",
    "print(\"Original dimensions are:\")\n",
    "for dimensions in rect_dimension:\n",
    "    print(dimensions)\n",
    "    \n",
    "rect_dimensions = (400,100)\n",
    "print(\"\\nModified dimensions are:\")\n",
    "for dimension in rect_dimensions:\n",
    "    print(dimension)"
   ]
  },
  {
   "cell_type": "markdown",
   "metadata": {},
   "source": [
    "First block defines the original tuple and prints the initial dimen-\n",
    "sions. Then we store a new tuple in the variable rect_dimensions. We then print the\n",
    "new rect_dimensions. Python doesn’t raise any errors this time, because\n",
    "overwriting a variable is valid.\n",
    "\n",
    "When compared with lists, tuples are simple data structures. Use them\n",
    "when you want to store a set of values that should not be changed through-\n",
    "out the life of a program."
   ]
  },
  {
   "cell_type": "markdown",
   "metadata": {},
   "source": [
    "4-13. Buffet: A buffet-style restaurant offers only five basic foods Think of five\n",
    "simple foods, and store them in a tuple\n",
    "• Use a for loop to print each food the restaurant offers\n",
    "• Try to modify one of the items, and make sure that Python rejects the\n",
    "change\n",
    "• The restaurant changes its menu, replacing two of the items with different\n",
    "foods Add a block of code that rewrites the tuple, and then use a for\n",
    "loop to print each of the items on the revised menu"
   ]
  },
  {
   "cell_type": "code",
   "execution_count": 527,
   "metadata": {},
   "outputs": [
    {
     "name": "stdout",
     "output_type": "stream",
     "text": [
      "Our Restuarant offers the following dishes:\n",
      "Roti\n",
      "Sabji\n",
      "Dal\n",
      "Rice\n",
      "Sweet\n"
     ]
    }
   ],
   "source": [
    "buffet = ('roti', 'sabji', 'dal', 'rice', 'sweet')\n",
    "print(\"Our Restuarant offers the following dishes:\")\n",
    "for food in buffet:\n",
    "    print(food.title())"
   ]
  },
  {
   "cell_type": "code",
   "execution_count": 528,
   "metadata": {},
   "outputs": [
    {
     "ename": "TypeError",
     "evalue": "'tuple' object does not support item assignment",
     "output_type": "error",
     "traceback": [
      "\u001b[1;31m---------------------------------------------------------------------------\u001b[0m",
      "\u001b[1;31mTypeError\u001b[0m                                 Traceback (most recent call last)",
      "\u001b[1;32m<ipython-input-528-e0eba6bab034>\u001b[0m in \u001b[0;36m<module>\u001b[1;34m\u001b[0m\n\u001b[1;32m----> 1\u001b[1;33m \u001b[0mbuffet\u001b[0m\u001b[1;33m[\u001b[0m\u001b[1;36m0\u001b[0m\u001b[1;33m]\u001b[0m \u001b[1;33m=\u001b[0m \u001b[1;34m\"naan\"\u001b[0m\u001b[1;33m\u001b[0m\u001b[1;33m\u001b[0m\u001b[0m\n\u001b[0m\u001b[0;32m      2\u001b[0m \u001b[0mprint\u001b[0m\u001b[1;33m(\u001b[0m\u001b[0mbuffet\u001b[0m\u001b[1;33m)\u001b[0m\u001b[1;33m\u001b[0m\u001b[1;33m\u001b[0m\u001b[0m\n",
      "\u001b[1;31mTypeError\u001b[0m: 'tuple' object does not support item assignment"
     ]
    }
   ],
   "source": [
    "buffet[0] = \"naan\"\n",
    "print(buffet)"
   ]
  },
  {
   "cell_type": "code",
   "execution_count": 529,
   "metadata": {},
   "outputs": [
    {
     "name": "stdout",
     "output_type": "stream",
     "text": [
      "The new revised menu is:\n",
      "Naan\n",
      "Sabji\n",
      "Jeera Dal\n",
      "Rice\n",
      "Sweet\n"
     ]
    }
   ],
   "source": [
    "buffet = ('naan', 'sabji', 'jeera dal', 'rice', 'sweet')\n",
    "print(\"The new revised menu is:\")\n",
    "for food in buffet:\n",
    "    print(food.title())"
   ]
  },
  {
   "cell_type": "code",
   "execution_count": null,
   "metadata": {},
   "outputs": [],
   "source": []
  }
 ],
 "metadata": {
  "kernelspec": {
   "display_name": "Python 3",
   "language": "python",
   "name": "python3"
  },
  "language_info": {
   "codemirror_mode": {
    "name": "ipython",
    "version": 3
   },
   "file_extension": ".py",
   "mimetype": "text/x-python",
   "name": "python",
   "nbconvert_exporter": "python",
   "pygments_lexer": "ipython3",
   "version": "3.8.5"
  }
 },
 "nbformat": 4,
 "nbformat_minor": 4
}
