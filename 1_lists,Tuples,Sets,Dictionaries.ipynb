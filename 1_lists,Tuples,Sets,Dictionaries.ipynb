{
 "cells": [
  {
   "cell_type": "code",
   "execution_count": 2,
   "metadata": {},
   "outputs": [
    {
     "data": {
      "text/plain": [
       "3"
      ]
     },
     "execution_count": 2,
     "metadata": {},
     "output_type": "execute_result"
    }
   ],
   "source": [
    "#absolute fxn== converts -ve int to +ve\n",
    "abs(-3)"
   ]
  },
  {
   "cell_type": "code",
   "execution_count": 3,
   "metadata": {},
   "outputs": [
    {
     "data": {
      "text/plain": [
       "7"
      ]
     },
     "execution_count": 3,
     "metadata": {},
     "output_type": "execute_result"
    }
   ],
   "source": [
    "#round fxn== rounds value to yhe nearest integer value\n",
    "round(6.96)"
   ]
  },
  {
   "cell_type": "code",
   "execution_count": 12,
   "metadata": {},
   "outputs": [
    {
     "data": {
      "text/plain": [
       "7.0"
      ]
     },
     "execution_count": 12,
     "metadata": {},
     "output_type": "execute_result"
    }
   ],
   "source": [
    "round(6.96,1)"
   ]
  },
  {
   "cell_type": "code",
   "execution_count": 16,
   "metadata": {},
   "outputs": [
    {
     "name": "stdout",
     "output_type": "stream",
     "text": [
      "500\n"
     ]
    }
   ],
   "source": [
    "  #casting == converting/casting strng to int\n",
    "num_1= '300'\n",
    "num_2= '200'\n",
    "    \n",
    "num_1=int(num_1)\n",
    "num_2=int(num_2)\n",
    "    \n",
    "print(num_1+num_2)"
   ]
  },
  {
   "cell_type": "code",
   "execution_count": 4,
   "metadata": {},
   "outputs": [
    {
     "name": "stdout",
     "output_type": "stream",
     "text": [
      "['sci', 'phy', 'math', 'cs']\n"
     ]
    }
   ],
   "source": [
    "#printing list in descending order\n",
    "courses=[\"math\",\"sci\",\"cs\",\"phy\"]\n",
    "courses.sort(reverse=True)\n",
    "print(courses)\n"
   ]
  },
  {
   "cell_type": "code",
   "execution_count": 9,
   "metadata": {},
   "outputs": [
    {
     "data": {
      "text/plain": [
       "['cs', 'math', 'phy', 'sci']"
      ]
     },
     "execution_count": 9,
     "metadata": {},
     "output_type": "execute_result"
    }
   ],
   "source": [
    "#printing list in ascending order\n",
    "courses.sort\n",
    "courses"
   ]
  },
  {
   "cell_type": "code",
   "execution_count": 18,
   "metadata": {},
   "outputs": [
    {
     "name": "stdout",
     "output_type": "stream",
     "text": [
      "['cs', 'math', 'phy', 'sci']\n"
     ]
    }
   ],
   "source": [
    "#sorting list without altering the original list\n",
    "sorted(courses)\n",
    "print(courses)"
   ]
  },
  {
   "cell_type": "code",
   "execution_count": 16,
   "metadata": {},
   "outputs": [
    {
     "name": "stdout",
     "output_type": "stream",
     "text": [
      "['cs', 'math', 'phy', 'sci']\n"
     ]
    }
   ],
   "source": [
    "sorted_courses=sorted(courses)\n",
    "print(sorted_courses)\n"
   ]
  },
  {
   "cell_type": "code",
   "execution_count": 19,
   "metadata": {},
   "outputs": [
    {
     "name": "stdout",
     "output_type": "stream",
     "text": [
      "0\n"
     ]
    }
   ],
   "source": [
    "print(courses.index('cs'))"
   ]
  },
  {
   "cell_type": "code",
   "execution_count": 21,
   "metadata": {},
   "outputs": [
    {
     "name": "stdout",
     "output_type": "stream",
     "text": [
      "True\n"
     ]
    }
   ],
   "source": [
    "#to check phy in courses\n",
    "print('phy' in courses)"
   ]
  },
  {
   "cell_type": "code",
   "execution_count": 22,
   "metadata": {},
   "outputs": [
    {
     "name": "stdout",
     "output_type": "stream",
     "text": [
      "False\n"
     ]
    }
   ],
   "source": [
    "print('art' in courses)"
   ]
  },
  {
   "cell_type": "code",
   "execution_count": 23,
   "metadata": {},
   "outputs": [
    {
     "name": "stdout",
     "output_type": "stream",
     "text": [
      "cs\n",
      "math\n",
      "phy\n",
      "sci\n"
     ]
    }
   ],
   "source": [
    "#Printing all elements\n",
    "for sub in courses:\n",
    "    print(sub)"
   ]
  },
  {
   "cell_type": "code",
   "execution_count": 26,
   "metadata": {},
   "outputs": [
    {
     "name": "stdout",
     "output_type": "stream",
     "text": [
      "0 cs\n",
      "1 math\n",
      "2 phy\n",
      "3 sci\n"
     ]
    }
   ],
   "source": [
    "#enumerate fxn -- to print index with elements\n",
    "for index,sub in enumerate(courses):\n",
    "    print(index,sub)"
   ]
  },
  {
   "cell_type": "code",
   "execution_count": 29,
   "metadata": {},
   "outputs": [
    {
     "name": "stdout",
     "output_type": "stream",
     "text": [
      "1 cs\n",
      "2 math\n",
      "3 phy\n",
      "4 sci\n"
     ]
    }
   ],
   "source": [
    "#enumerate fxn -- to print index with elements , starting with index one\n",
    "for index,sub in enumerate(courses,start =1):\n",
    "    pr#enumerate fxn -- to print index with elementsint(index,sub)"
   ]
  },
  {
   "cell_type": "code",
   "execution_count": 31,
   "metadata": {},
   "outputs": [
    {
     "name": "stdout",
     "output_type": "stream",
     "text": [
      "cs, math, phy, sci\n"
     ]
    }
   ],
   "source": [
    "#sting version of list\n",
    "courses_str=', '.join(courses)\n",
    "print(courses_str)"
   ]
  },
  {
   "cell_type": "code",
   "execution_count": 34,
   "metadata": {},
   "outputs": [
    {
     "name": "stdout",
     "output_type": "stream",
     "text": [
      "cs - math - phy - sci\n"
     ]
    }
   ],
   "source": [
    "#sting version of list\n",
    "courses_str=' - '.join(courses)\n",
    "print(courses_str)"
   ]
  },
  {
   "cell_type": "code",
   "execution_count": 37,
   "metadata": {},
   "outputs": [
    {
     "name": "stdout",
     "output_type": "stream",
     "text": [
      "['cs', 'math', 'phy', 'sci']\n"
     ]
    }
   ],
   "source": [
    "#converting string to list\n",
    "new_list=courses_str.split(' - ')\n",
    "print(new_list)"
   ]
  },
  {
   "cell_type": "markdown",
   "metadata": {},
   "source": [
    "# Tuples\n",
    "cant be modified -- immutable"
   ]
  },
  {
   "cell_type": "code",
   "execution_count": 38,
   "metadata": {},
   "outputs": [
    {
     "name": "stdout",
     "output_type": "stream",
     "text": [
      "('cs', 'math', 'phy', 'sci')\n"
     ]
    }
   ],
   "source": [
    "tuple_1=('cs', 'math', 'phy', 'sci')\n",
    "print(tuple_1)"
   ]
  },
  {
   "cell_type": "markdown",
   "metadata": {},
   "source": [
    "use tuples when \n",
    "-u just want to acces the elements\n",
    "-loop through it\n",
    "\n",
    "use lists when u want to add/delete/update elements"
   ]
  },
  {
   "cell_type": "markdown",
   "metadata": {},
   "source": [
    "# sets\n",
    "-unordered\n",
    "-have no duplicates\n"
   ]
  },
  {
   "cell_type": "code",
   "execution_count": 49,
   "metadata": {},
   "outputs": [
    {
     "name": "stdout",
     "output_type": "stream",
     "text": [
      "{'cs', 'sci', 'math', 'art', 'phy'}\n"
     ]
    }
   ],
   "source": [
    "set_1={'cs', 'math','cs', 'phy', 'art','sci'}\n",
    "print(set_1)"
   ]
  },
  {
   "cell_type": "code",
   "execution_count": 51,
   "metadata": {},
   "outputs": [],
   "source": [
    "cs_courses={'math','phy','quantum computing','eng'}\n",
    "art_courses={'eng','design','graphics','math'}"
   ]
  },
  {
   "cell_type": "code",
   "execution_count": 52,
   "metadata": {},
   "outputs": [
    {
     "name": "stdout",
     "output_type": "stream",
     "text": [
      "{'eng', 'math'}\n"
     ]
    }
   ],
   "source": [
    "#extracting commom elements from list\n",
    "print(cs_courses.intersection(art_courses))"
   ]
  },
  {
   "cell_type": "code",
   "execution_count": 54,
   "metadata": {},
   "outputs": [
    {
     "name": "stdout",
     "output_type": "stream",
     "text": [
      "{'quantum computing', 'phy'}\n"
     ]
    }
   ],
   "source": [
    "# courses in cs_courses but not in  art_courses\n",
    "print(cs_courses.difference(art_courses))"
   ]
  },
  {
   "cell_type": "code",
   "execution_count": 55,
   "metadata": {},
   "outputs": [
    {
     "name": "stdout",
     "output_type": "stream",
     "text": [
      "{'quantum computing', 'design', 'eng', 'math', 'graphics', 'phy'}\n"
     ]
    }
   ],
   "source": [
    "#combining both the courses\n",
    "print(cs_courses.union(art_courses))"
   ]
  },
  {
   "cell_type": "code",
   "execution_count": null,
   "metadata": {},
   "outputs": [],
   "source": [
    "#creating empty list ,tuple,set"
   ]
  },
  {
   "cell_type": "code",
   "execution_count": 62,
   "metadata": {},
   "outputs": [
    {
     "data": {
      "text/plain": [
       "[]"
      ]
     },
     "execution_count": 62,
     "metadata": {},
     "output_type": "execute_result"
    }
   ],
   "source": [
    "#two ways\n",
    "empty_list_1=[]    \n",
    "empty_list=list()\n",
    "empty_list"
   ]
  },
  {
   "cell_type": "code",
   "execution_count": 63,
   "metadata": {},
   "outputs": [
    {
     "data": {
      "text/plain": [
       "[]"
      ]
     },
     "execution_count": 63,
     "metadata": {},
     "output_type": "execute_result"
    }
   ],
   "source": [
    "empty_list_1"
   ]
  },
  {
   "cell_type": "code",
   "execution_count": 66,
   "metadata": {},
   "outputs": [
    {
     "data": {
      "text/plain": [
       "()"
      ]
     },
     "execution_count": 66,
     "metadata": {},
     "output_type": "execute_result"
    }
   ],
   "source": [
    "#two ways\n",
    "empty_tuple_1=()    \n",
    "empty_tuple=tuple()\n",
    "empty_tuple"
   ]
  },
  {
   "cell_type": "code",
   "execution_count": 67,
   "metadata": {},
   "outputs": [
    {
     "data": {
      "text/plain": [
       "()"
      ]
     },
     "execution_count": 67,
     "metadata": {},
     "output_type": "execute_result"
    }
   ],
   "source": [
    "empty_tuple_1"
   ]
  },
  {
   "cell_type": "code",
   "execution_count": 68,
   "metadata": {},
   "outputs": [
    {
     "data": {
      "text/plain": [
       "set()"
      ]
     },
     "execution_count": 68,
     "metadata": {},
     "output_type": "execute_result"
    }
   ],
   "source": [
    "#one way\n",
    "empty_set_1={}   #creates dictionary\n",
    "empty_set=set()\n",
    "empty_set"
   ]
  },
  {
   "cell_type": "code",
   "execution_count": 69,
   "metadata": {},
   "outputs": [
    {
     "data": {
      "text/plain": [
       "{}"
      ]
     },
     "execution_count": 69,
     "metadata": {},
     "output_type": "execute_result"
    }
   ],
   "source": [
    "empty_set_1      #creates dictionary"
   ]
  },
  {
   "cell_type": "markdown",
   "metadata": {},
   "source": [
    "# dictionaries"
   ]
  },
  {
   "cell_type": "code",
   "execution_count": 71,
   "metadata": {},
   "outputs": [
    {
     "data": {
      "text/plain": [
       "{'name': 'Sara',\n",
       " 'Age': 21,\n",
       " 'Profession': 'Data Scientist',\n",
       " 'Course': ['ML', 'DS & Algo']}"
      ]
     },
     "execution_count": 71,
     "metadata": {},
     "output_type": "execute_result"
    }
   ],
   "source": [
    "info={'name':'Sara','Age':21,'Profession':'Data Scientist','Course':['ML','DS & Algo']}\n",
    "info"
   ]
  },
  {
   "cell_type": "code",
   "execution_count": 72,
   "metadata": {},
   "outputs": [
    {
     "name": "stdout",
     "output_type": "stream",
     "text": [
      "['ML', 'DS & Algo']\n"
     ]
    }
   ],
   "source": [
    "print(info['Course'])"
   ]
  },
  {
   "cell_type": "code",
   "execution_count": 73,
   "metadata": {},
   "outputs": [
    {
     "ename": "KeyError",
     "evalue": "'phone'",
     "output_type": "error",
     "traceback": [
      "\u001b[1;31m---------------------------------------------------------------------------\u001b[0m",
      "\u001b[1;31mKeyError\u001b[0m                                  Traceback (most recent call last)",
      "\u001b[1;32m<ipython-input-73-834c8ac7789a>\u001b[0m in \u001b[0;36m<module>\u001b[1;34m\u001b[0m\n\u001b[0;32m      1\u001b[0m \u001b[1;31m#accessing a key that doesnt exist\u001b[0m\u001b[1;33m\u001b[0m\u001b[1;33m\u001b[0m\u001b[1;33m\u001b[0m\u001b[0m\n\u001b[1;32m----> 2\u001b[1;33m \u001b[0mprint\u001b[0m\u001b[1;33m(\u001b[0m\u001b[0minfo\u001b[0m\u001b[1;33m[\u001b[0m\u001b[1;34m'phone'\u001b[0m\u001b[1;33m]\u001b[0m\u001b[1;33m)\u001b[0m\u001b[1;33m\u001b[0m\u001b[1;33m\u001b[0m\u001b[0m\n\u001b[0m",
      "\u001b[1;31mKeyError\u001b[0m: 'phone'"
     ]
    }
   ],
   "source": [
    "#accessing a key that doesnt exist -- gives error\n",
    "print(info['phone'])"
   ]
  },
  {
   "cell_type": "code",
   "execution_count": 74,
   "metadata": {},
   "outputs": [
    {
     "name": "stdout",
     "output_type": "stream",
     "text": [
      "None\n"
     ]
    }
   ],
   "source": [
    "#accessing a key that doesnt exist \n",
    "#using get method -- doesnt print error -- returns output as None or some other desired output\n",
    "\n",
    "print(info.get('phone'))"
   ]
  },
  {
   "cell_type": "code",
   "execution_count": 75,
   "metadata": {},
   "outputs": [
    {
     "name": "stdout",
     "output_type": "stream",
     "text": [
      "Not Found\n"
     ]
    }
   ],
   "source": [
    "#specifing default values to the keys that doesnt exist\n",
    "print(info.get('phone','Not Found'))"
   ]
  },
  {
   "cell_type": "code",
   "execution_count": 76,
   "metadata": {},
   "outputs": [
    {
     "name": "stdout",
     "output_type": "stream",
     "text": [
      "970-560\n"
     ]
    }
   ],
   "source": [
    "#adding new entry\n",
    "info['phone']='970-560'\n",
    "print(info.get('phone'))"
   ]
  },
  {
   "cell_type": "code",
   "execution_count": 77,
   "metadata": {},
   "outputs": [
    {
     "data": {
      "text/plain": [
       "{'name': 'Sara',\n",
       " 'Age': 21,\n",
       " 'Profession': 'Data Scientist',\n",
       " 'Course': ['ML', 'DS & Algo'],\n",
       " 'phone': '970-560'}"
      ]
     },
     "execution_count": 77,
     "metadata": {},
     "output_type": "execute_result"
    }
   ],
   "source": [
    "info"
   ]
  },
  {
   "cell_type": "code",
   "execution_count": 78,
   "metadata": {},
   "outputs": [
    {
     "data": {
      "text/plain": [
       "{'name': 'Sara Raool',\n",
       " 'Age': 21,\n",
       " 'Profession': 'Data Scientist',\n",
       " 'Course': ['ML', 'DS & Algo'],\n",
       " 'phone': '970-560'}"
      ]
     },
     "execution_count": 78,
     "metadata": {},
     "output_type": "execute_result"
    }
   ],
   "source": [
    "#updating values\n",
    "info['name']='Sara Raool'\n",
    "info"
   ]
  },
  {
   "cell_type": "code",
   "execution_count": 79,
   "metadata": {},
   "outputs": [
    {
     "data": {
      "text/plain": [
       "{'name': 'Sara R',\n",
       " 'Age': 21,\n",
       " 'Profession': 'Data Scientist',\n",
       " 'Course': ['ML', 'DS & Algo'],\n",
       " 'phone': '970-560',\n",
       " 'income': '5 laka p.a.'}"
      ]
     },
     "execution_count": 79,
     "metadata": {},
     "output_type": "execute_result"
    }
   ],
   "source": [
    "#updating using update() method -- updating multiple values\n",
    "#takes dict as argument\n",
    "info.update({'name':'Sara R','income':\"5 laka p.a.\"})\n",
    "info"
   ]
  },
  {
   "cell_type": "code",
   "execution_count": 80,
   "metadata": {},
   "outputs": [
    {
     "data": {
      "text/plain": [
       "{'name': 'Sara R',\n",
       " 'Age': 21,\n",
       " 'Profession': 'Data Scientist',\n",
       " 'Course': ['ML', 'DS & Algo'],\n",
       " 'income': '5 laka p.a.'}"
      ]
     },
     "execution_count": 80,
     "metadata": {},
     "output_type": "execute_result"
    }
   ],
   "source": [
    "#deleting specific key and its value -- del keyword\n",
    "del info['phone']\n",
    "info"
   ]
  },
  {
   "cell_type": "code",
   "execution_count": 90,
   "metadata": {},
   "outputs": [
    {
     "name": "stdout",
     "output_type": "stream",
     "text": [
      "5 laka p.a.\n"
     ]
    }
   ],
   "source": [
    "#deleting key with its value\n",
    "#pop method -- removes also returns the value\n",
    "age=info.pop('income')\n",
    "\n",
    "print(age)"
   ]
  },
  {
   "cell_type": "code",
   "execution_count": 93,
   "metadata": {},
   "outputs": [
    {
     "name": "stdout",
     "output_type": "stream",
     "text": [
      "0 name\n",
      "1 Profession\n",
      "2 Course\n"
     ]
    }
   ],
   "source": [
    "#looping through all the keys and values of a dict\n",
    "#self try -- gave index haha\n",
    "for elements,values in enumerate(info):\n",
    "    print(elements,values)"
   ]
  },
  {
   "cell_type": "code",
   "execution_count": 94,
   "metadata": {},
   "outputs": [
    {
     "data": {
      "text/plain": [
       "3"
      ]
     },
     "execution_count": 94,
     "metadata": {},
     "output_type": "execute_result"
    }
   ],
   "source": [
    "#checking how many keys we have\n",
    "len(info)"
   ]
  },
  {
   "cell_type": "code",
   "execution_count": 95,
   "metadata": {},
   "outputs": [
    {
     "name": "stdout",
     "output_type": "stream",
     "text": [
      "dict_keys(['name', 'Profession', 'Course'])\n"
     ]
    }
   ],
   "source": [
    "#printing all the keys\n",
    "print(info.keys())"
   ]
  },
  {
   "cell_type": "code",
   "execution_count": 96,
   "metadata": {},
   "outputs": [
    {
     "name": "stdout",
     "output_type": "stream",
     "text": [
      "dict_values(['Sara R', 'Data Scientist', ['ML', 'DS & Algo']])\n"
     ]
    }
   ],
   "source": [
    "#printing all the  values\n",
    "print(info.values())"
   ]
  },
  {
   "cell_type": "code",
   "execution_count": 97,
   "metadata": {},
   "outputs": [
    {
     "name": "stdout",
     "output_type": "stream",
     "text": [
      "dict_items([('name', 'Sara R'), ('Profession', 'Data Scientist'), ('Course', ['ML', 'DS & Algo'])])\n"
     ]
    }
   ],
   "source": [
    "#printing all the keys & values -- using items method\n",
    "print(info.items())"
   ]
  },
  {
   "cell_type": "code",
   "execution_count": 98,
   "metadata": {},
   "outputs": [
    {
     "name": "stdout",
     "output_type": "stream",
     "text": [
      "name Sara R\n",
      "Profession Data Scientist\n",
      "Course ['ML', 'DS & Algo']\n"
     ]
    }
   ],
   "source": [
    "#looping through all the keys and values i.e. the items \n",
    "for key,value in info.items():\n",
    "    print(key,value)"
   ]
  },
  {
   "cell_type": "code",
   "execution_count": 101,
   "metadata": {},
   "outputs": [
    {
     "name": "stdout",
     "output_type": "stream",
     "text": [
      "0 name Sara R\n",
      "1 Profession Data Scientist\n",
      "2 Course ['ML', 'DS & Algo']\n"
     ]
    }
   ],
   "source": [
    "#looping through all the keys and values with index\n",
    "for index, (key, value) in enumerate(info.items()):\n",
    "    print(index, key, value)\n"
   ]
  }
 ],
 "metadata": {
  "kernelspec": {
   "display_name": "Python 3",
   "language": "python",
   "name": "python3"
  },
  "language_info": {
   "codemirror_mode": {
    "name": "ipython",
    "version": 3
   },
   "file_extension": ".py",
   "mimetype": "text/x-python",
   "name": "python",
   "nbconvert_exporter": "python",
   "pygments_lexer": "ipython3",
   "version": "3.8.5"
  }
 },
 "nbformat": 4,
 "nbformat_minor": 4
}
