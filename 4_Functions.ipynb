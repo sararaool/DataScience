{
 "cells": [
  {
   "cell_type": "markdown",
   "metadata": {},
   "source": [
    "# functions are instructions packcaged together that perform a certain specific task"
   ]
  },
  {
   "cell_type": "code",
   "execution_count": 2,
   "metadata": {},
   "outputs": [
    {
     "ename": "SyntaxError",
     "evalue": "unexpected EOF while parsing (<ipython-input-2-18a39ff84c04>, line 5)",
     "output_type": "error",
     "traceback": [
      "\u001b[1;36m  File \u001b[1;32m\"<ipython-input-2-18a39ff84c04>\"\u001b[1;36m, line \u001b[1;32m5\u001b[0m\n\u001b[1;33m    \u001b[0m\n\u001b[1;37m    ^\u001b[0m\n\u001b[1;31mSyntaxError\u001b[0m\u001b[1;31m:\u001b[0m unexpected EOF while parsing\n"
     ]
    }
   ],
   "source": [
    "#parameters go in paranthesis\n",
    "\n",
    "#empty fxn gives error\n",
    "\n",
    "def hello_func():\n",
    "    "
   ]
  },
  {
   "cell_type": "code",
   "execution_count": 6,
   "metadata": {},
   "outputs": [
    {
     "name": "stdout",
     "output_type": "stream",
     "text": [
      "<function hello_func at 0x00000277E579A670>\n"
     ]
    }
   ],
   "source": [
    "#writing a fxn and not have a code in it -- using keyword pass (we can fill this fxn in later)\n",
    "\n",
    "#to run/execute a fxn -- fxn_name()  \n",
    "#fxn_name wo '()' gives memory location (meaning we are not executing the fxn)\n",
    "#here the fxn didnt get executed\n",
    "\n",
    "def hello_func():\n",
    "    pass\n",
    "print(hello_func)"
   ]
  },
  {
   "cell_type": "code",
   "execution_count": 7,
   "metadata": {},
   "outputs": [
    {
     "name": "stdout",
     "output_type": "stream",
     "text": [
      "None\n"
     ]
    }
   ],
   "source": [
    "#op as None -- because didnt do anything w fxn as of now -- doesnt have a return value\n",
    "\n",
    "def hello_func():\n",
    "    pass\n",
    "print(hello_func())"
   ]
  },
  {
   "cell_type": "code",
   "execution_count": 9,
   "metadata": {},
   "outputs": [
    {
     "name": "stdout",
     "output_type": "stream",
     "text": [
      "Hello Function !\n"
     ]
    }
   ],
   "source": [
    "#to run/execute a fxn -- write fxn_name() at end\n",
    "\n",
    "def hello_func():\n",
    "    print(\"Hello Function !\")\n",
    "hello_func()"
   ]
  },
  {
   "cell_type": "markdown",
   "metadata": {},
   "source": [
    "# fxn allows us to reuse code wo repeatation"
   ]
  },
  {
   "cell_type": "markdown",
   "metadata": {},
   "source": [
    "A return statement is used to end the execution of the function call and returns the result (value of the expression following the return keyword) to the caller. The statements after the return statements are not executed. If the return statement is without any expression, then the special value None is returned."
   ]
  },
  {
   "cell_type": "code",
   "execution_count": 10,
   "metadata": {},
   "outputs": [
    {
     "name": "stdout",
     "output_type": "stream",
     "text": [
      "Hello Function\n"
     ]
    }
   ],
   "source": [
    "def hello_func():\n",
    "    return \"Hello Function\"\n",
    "\n",
    "print(hello_func())"
   ]
  },
  {
   "cell_type": "code",
   "execution_count": 11,
   "metadata": {},
   "outputs": [
    {
     "name": "stdout",
     "output_type": "stream",
     "text": [
      "HELLO FUNCTION\n"
     ]
    }
   ],
   "source": [
    "#upper() -- returns string into uppercase\n",
    "\n",
    "def hello_func():\n",
    "    return \"Hello Function\"\n",
    "\n",
    "print(hello_func().upper())"
   ]
  },
  {
   "cell_type": "markdown",
   "metadata": {},
   "source": [
    "creating parameters to pass arguments to a fxn\n",
    "\n",
    "parameters are defined within '()'-paranthesis of a fxn "
   ]
  },
  {
   "cell_type": "markdown",
   "metadata": {},
   "source": [
    "The format() function formats a specified value into a specified format.\n",
    "Parameter Values. The format you want to format the value into."
   ]
  },
  {
   "cell_type": "code",
   "execution_count": 15,
   "metadata": {},
   "outputs": [
    {
     "name": "stdout",
     "output_type": "stream",
     "text": [
      "hi Sara\n"
     ]
    }
   ],
   "source": [
    "#program to customize the greeting that our fxn returns\n",
    "\n",
    "def func(greeting):\n",
    "    return '{} Sara'.format(greeting)\n",
    "print(func('hi'))\n"
   ]
  },
  {
   "cell_type": "code",
   "execution_count": 19,
   "metadata": {},
   "outputs": [
    {
     "name": "stdout",
     "output_type": "stream",
     "text": [
      "hi, You\n"
     ]
    }
   ],
   "source": [
    "#in above code the greeting parameter is a required argumentbecause it did not have a default value\n",
    "#code w default val\n",
    "\n",
    "def func(greetings, name = 'You'):\n",
    "    return '{}, {}'.format(greetings, name)\n",
    "print(func('hi'))"
   ]
  },
  {
   "cell_type": "code",
   "execution_count": 23,
   "metadata": {},
   "outputs": [
    {
     "name": "stdout",
     "output_type": "stream",
     "text": [
      "hii sara\n"
     ]
    }
   ],
   "source": [
    "#values can be assigned even if default value is predefined\n",
    "\n",
    "#when we pass a new value it will use that value instead \n",
    "\n",
    "def func(greetings= 'hi', name= 'You'):\n",
    "    return '{} {}'.format(greetings, name)\n",
    "print(func('hii','sara'))"
   ]
  },
  {
   "cell_type": "markdown",
   "metadata": {},
   "source": [
    "the required positional arguments have to come before the keyword arguments\n",
    "\n",
    "when fxns are created out of order it gives an error"
   ]
  },
  {
   "cell_type": "markdown",
   "metadata": {},
   "source": [
    "positional arguments -- *args -- '*' -- for tuples/lists in fxns parameters\n",
    "keyword arguments -- **kwargs -- '**' -- for dictionaries in fxns parameters\n",
    "\n",
    "*/** -- allows us to except an arbitrary no of keyword or positional arguments"
   ]
  },
  {
   "cell_type": "code",
   "execution_count": 24,
   "metadata": {},
   "outputs": [
    {
     "name": "stdout",
     "output_type": "stream",
     "text": [
      "('Math', 'ML', 'DL')\n",
      "{'name': 'Sara', 'age': 22}\n"
     ]
    }
   ],
   "source": [
    "#passing values to positional arguments ie args and keyword arguments ie kwargs\n",
    "\n",
    "#op -- args are tuples/lists whereas kwargs are dictionaries\n",
    "def student_info(*args, **kwargs):\n",
    "    print(args)\n",
    "    print(kwargs)\n",
    "    \n",
    "student_info('Math','ML','DL', name=\"Sara\", age=22)"
   ]
  },
  {
   "cell_type": "code",
   "execution_count": 2,
   "metadata": {},
   "outputs": [
    {
     "name": "stdout",
     "output_type": "stream",
     "text": [
      "(['Python', 'Project', 'Stats'], {'Name': 'Sara', 'Age': 22})\n",
      "{}\n"
     ]
    }
   ],
   "source": [
    "#assigning values to args and kwargs outside of fxn\n",
    "\n",
    "def student_info(*args, **kwargs):\n",
    "    print(args)\n",
    "    print(kwargs)\n",
    "    \n",
    "courses=['Python','Project','Stats']\n",
    "info={'Name':'Sara','Age':22}\n",
    "\n",
    "student_info(courses, info)"
   ]
  },
  {
   "cell_type": "code",
   "execution_count": 26,
   "metadata": {},
   "outputs": [
    {
     "name": "stdout",
     "output_type": "stream",
     "text": [
      "('Python', 'Project', 'Stats')\n",
      "{'Name': 'Sara', 'Age': 22}\n"
     ]
    }
   ],
   "source": [
    "#to get op in desired format -- using * and ** \n",
    "\n",
    "def student_info(*args, **kwargs):\n",
    "    print(args)\n",
    "    print(kwargs)\n",
    "    \n",
    "courses=['Python','Project','Stats']\n",
    "info={'Name':'Sara','Age':22}\n",
    "\n",
    "student_info(*courses, **info)"
   ]
  },
  {
   "cell_type": "code",
   "execution_count": 27,
   "metadata": {},
   "outputs": [
    {
     "name": "stdout",
     "output_type": "stream",
     "text": [
      "False\n"
     ]
    }
   ],
   "source": [
    "#fxn to check leap year\n",
    "#fxn to get no of days of a month\n",
    "\n",
    "#first index is a place holder -- wont b used\n",
    "#index no 1-12 will be accessed\n",
    "'''doc string helps document'''\n",
    "\n",
    "#No of days per month.First value placeholder for indexing purposes\n",
    "month_days = [0,31,28,31,30.31,30,31,31,30,31,30,31]\n",
    "\n",
    "def is_leap(year):\n",
    "    '''Return true for leap year, False for non leap year'''\n",
    "    return year % 4 ==0 and (year % 100 != 0 or year % 400 == 0)\n",
    "print(is_leap(2022))"
   ]
  },
  {
   "cell_type": "code",
   "execution_count": 28,
   "metadata": {},
   "outputs": [
    {
     "name": "stdout",
     "output_type": "stream",
     "text": [
      "29\n"
     ]
    }
   ],
   "source": [
    "def days_in_month(year, month):\n",
    "    '''Return no of days in that month in that year'''\n",
    "    \n",
    "    if not 1 <= month <= 12:\n",
    "        return 'Invalid month'\n",
    "    \n",
    "    if month == 2 and is_leap(year):\n",
    "        return 29\n",
    "    \n",
    "    return month_days[month]\n",
    "\n",
    "print(days_in_month(2020,2))"
   ]
  }
 ],
 "metadata": {
  "kernelspec": {
   "display_name": "Python 3",
   "language": "python",
   "name": "python3"
  },
  "language_info": {
   "codemirror_mode": {
    "name": "ipython",
    "version": 3
   },
   "file_extension": ".py",
   "mimetype": "text/x-python",
   "name": "python",
   "nbconvert_exporter": "python",
   "pygments_lexer": "ipython3",
   "version": "3.8.5"
  }
 },
 "nbformat": 4,
 "nbformat_minor": 4
}
