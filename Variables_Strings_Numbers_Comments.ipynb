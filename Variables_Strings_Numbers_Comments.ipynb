{
 "cells": [
  {
   "cell_type": "markdown",
   "metadata": {},
   "source": [
    "# Variables"
   ]
  },
  {
   "cell_type": "markdown",
   "metadata": {},
   "source": [
    "2-1. Simple Message: Store a message in a variable, and then print that message\n"
   ]
  },
  {
   "cell_type": "code",
   "execution_count": 1,
   "metadata": {},
   "outputs": [
    {
     "name": "stdout",
     "output_type": "stream",
     "text": [
      "Hi, Sara.\n"
     ]
    }
   ],
   "source": [
    "variable=(\"Hi, Sara.\")\n",
    "print(variable)"
   ]
  },
  {
   "cell_type": "markdown",
   "metadata": {},
   "source": [
    "2-2. Simple Messages: Store a message in a variable, and print that message. Then change the value of your variable to a new message, and print the new message."
   ]
  },
  {
   "cell_type": "code",
   "execution_count": 2,
   "metadata": {},
   "outputs": [
    {
     "name": "stdout",
     "output_type": "stream",
     "text": [
      "Hello World!\n"
     ]
    }
   ],
   "source": [
    "variable=(\"Hello World!\")\n",
    "print(variable)"
   ]
  },
  {
   "cell_type": "markdown",
   "metadata": {},
   "source": [
    "# Strings"
   ]
  },
  {
   "cell_type": "markdown",
   "metadata": {},
   "source": [
    "A string is simply a series of characters.\n",
    "A method is an action that Python can perform on a piece of data"
   ]
  },
  {
   "cell_type": "code",
   "execution_count": 4,
   "metadata": {},
   "outputs": [
    {
     "name": "stdout",
     "output_type": "stream",
     "text": [
      "Sara Raool\n"
     ]
    }
   ],
   "source": [
    "name = \"sara raool\"\n",
    "print(name.title())"
   ]
  },
  {
   "cell_type": "markdown",
   "metadata": {},
   "source": [
    "The method title() displays each word in titlecase, where each word begins with a capital letter."
   ]
  },
  {
   "cell_type": "code",
   "execution_count": 5,
   "metadata": {},
   "outputs": [
    {
     "name": "stdout",
     "output_type": "stream",
     "text": [
      "SARA RAOOL\n",
      "sara raool\n"
     ]
    }
   ],
   "source": [
    "print(name.upper())\n",
    "print(name.lower())"
   ]
  },
  {
   "cell_type": "markdown",
   "metadata": {},
   "source": [
    "Adding Whitespace to Strings with Tabs or Newlines\n",
    "whitespace refers to any nonprinting character, such as\n",
    "spaces, tabs, and end-of-line symbols."
   ]
  },
  {
   "cell_type": "code",
   "execution_count": 6,
   "metadata": {},
   "outputs": [
    {
     "name": "stdout",
     "output_type": "stream",
     "text": [
      "Python\n",
      "\tPython\n"
     ]
    }
   ],
   "source": [
    "print(\"Python\")\n",
    "print(\"\\tPython\")"
   ]
  },
  {
   "cell_type": "markdown",
   "metadata": {},
   "source": [
    "To add a tab to your text, use the character combination \\t\n"
   ]
  },
  {
   "cell_type": "code",
   "execution_count": 7,
   "metadata": {},
   "outputs": [
    {
     "name": "stdout",
     "output_type": "stream",
     "text": [
      "Info\n",
      "Sara Raool\n",
      "Achiever\n",
      "Doer\n"
     ]
    }
   ],
   "source": [
    "print(\"Info\\nSara Raool\\nAchiever\\nDoer\")"
   ]
  },
  {
   "cell_type": "markdown",
   "metadata": {},
   "source": [
    "Python can look for extra whitespace on the right and left sides of a\n",
    "string. To ensure that no whitespace exists at the right end of a string, use\n",
    "the rstrip() method.\n",
    "To remove the whitespace from the string permanently, you have to\n",
    "store the stripped value back into the variable\n",
    "You can also strip whitespace from the left side of a string using the\n",
    "lstrip() method or strip whitespace from both sides at once using strip()"
   ]
  },
  {
   "cell_type": "markdown",
   "metadata": {},
   "source": [
    "2-3. Personal Message: Store a person’s name in a variable, and print a message to that person. Your message should be simple, such as, “Hello Eric,\n",
    "would you like to learn some Python today?”"
   ]
  },
  {
   "cell_type": "code",
   "execution_count": 8,
   "metadata": {},
   "outputs": [
    {
     "name": "stdout",
     "output_type": "stream",
     "text": [
      "Hello Prasad, would you like to learn some python?\n"
     ]
    }
   ],
   "source": [
    "name = \"Prasad\"\n",
    "message = \"Hello \" + name + \", would you like to learn some python?\"\n",
    "print(message)"
   ]
  },
  {
   "cell_type": "markdown",
   "metadata": {},
   "source": [
    "2-4. Name Cases: Store a person’s name in a variable, and then print that person’s name in lowercase, uppercase, and titlecase."
   ]
  },
  {
   "cell_type": "code",
   "execution_count": 9,
   "metadata": {},
   "outputs": [
    {
     "name": "stdout",
     "output_type": "stream",
     "text": [
      "prasad\n",
      "PRASAD\n",
      "Prasad\n"
     ]
    }
   ],
   "source": [
    "print(name.lower())\n",
    "print(name.upper())\n",
    "print(name.title())"
   ]
  },
  {
   "cell_type": "markdown",
   "metadata": {},
   "source": [
    "2-5. Famous Quote: Find a quote from a famous person you admire. Print the\n",
    "quote and the name of its author. Your output should look something like the\n",
    "following, including the quotation marks:\n",
    "Albert Einstein once said, “A person who never made a\n",
    "mistake never tried anything new.”"
   ]
  },
  {
   "cell_type": "code",
   "execution_count": 10,
   "metadata": {},
   "outputs": [
    {
     "name": "stdout",
     "output_type": "stream",
     "text": [
      "Naval Ravikant once said, 'All the returns in life, whether in wealth, relationships, or knowledge, come from compound interest.'\n"
     ]
    }
   ],
   "source": [
    "name = \"Naval Ravikant\" \n",
    "quote = \"All the returns in life, whether in wealth, relationships, or knowledge, come from compound interest.\"\n",
    "op = name + \" once said, '\" + quote + \"'\"\n",
    "print(op)"
   ]
  },
  {
   "cell_type": "markdown",
   "metadata": {},
   "source": [
    "2-6. Famous Quote 2: Repeat Exercise 2-5, but this time store the famous person’s name in a variable called famous_person. Then compose your message\n",
    "and store it in a new variable called message. Print your message."
   ]
  },
  {
   "cell_type": "code",
   "execution_count": 12,
   "metadata": {},
   "outputs": [
    {
     "name": "stdout",
     "output_type": "stream",
     "text": [
      "Sara Raool says, Discipline and know ho to apply Intelligence are basic necessities in today's world.\n"
     ]
    }
   ],
   "source": [
    "famous_person = \"Sara Raool\"\n",
    "message = \"Discipline and know ho to apply Intelligence are basic necessities in today's world.\"\n",
    "op = famous_person + \" says, \" + message \n",
    "print(op)"
   ]
  },
  {
   "cell_type": "markdown",
   "metadata": {},
   "source": [
    "2-7. Stripping Names: Store a person’s name, and include some whitespace\n",
    "characters at the beginning and end of the name. Make sure you use each\n",
    "character combination, \"\\t\" and \"\\n\", at least once.\n",
    "Print the name once, so the whitespace around the name is displayed.\n",
    "Then print the name using each of the three stripping functions, lstrip(),\n",
    "rstrip(), and strip()."
   ]
  },
  {
   "cell_type": "code",
   "execution_count": 14,
   "metadata": {},
   "outputs": [
    {
     "name": "stdout",
     "output_type": "stream",
     "text": [
      "\tSara\t\n",
      "Sara\t\n",
      "\tSara\n",
      "Sara\n"
     ]
    }
   ],
   "source": [
    "name = \"\\tSara\\t\"\n",
    "print(name)\n",
    "print(name.lstrip())\n",
    "print(name.rstrip())\n",
    "print(name.strip())"
   ]
  },
  {
   "cell_type": "markdown",
   "metadata": {},
   "source": [
    "Python knows that the variable could represent either the numerical\n",
    "value 23 or the characters 2 and 3. When you use integers within strings\n",
    "like this, you need to specify explicitly that you want Python to use the integer as a string of characters. You can do this by wrapping the variable in the\n",
    "str() function, which tells Python to represent non-string values as strings:\n"
   ]
  },
  {
   "cell_type": "code",
   "execution_count": 15,
   "metadata": {},
   "outputs": [
    {
     "name": "stdout",
     "output_type": "stream",
     "text": [
      "Happy 23rd Birthday!\n"
     ]
    }
   ],
   "source": [
    "age = 23\n",
    "meassage = \"Happy \"+ str(age) +\"rd Birthday!\"\n",
    "print(meassage)\n"
   ]
  },
  {
   "cell_type": "markdown",
   "metadata": {},
   "source": [
    "# Numbers"
   ]
  },
  {
   "cell_type": "code",
   "execution_count": 16,
   "metadata": {},
   "outputs": [
    {
     "name": "stdout",
     "output_type": "stream",
     "text": [
      "8\n",
      "8\n",
      "8\n",
      "8.0\n"
     ]
    }
   ],
   "source": [
    "print(4 + 4)\n",
    "print(16 - 8)\n",
    "print(4 * 2)\n",
    "print(16 / 2)\n"
   ]
  },
  {
   "cell_type": "markdown",
   "metadata": {},
   "source": [
    "2-9. Favorite Number: Store your favorite number in a variable. Then, using\n",
    "that variable, create a message that reveals your favorite number. Print that\n",
    "message."
   ]
  },
  {
   "cell_type": "code",
   "execution_count": 19,
   "metadata": {},
   "outputs": [
    {
     "name": "stdout",
     "output_type": "stream",
     "text": [
      "My fav no is 3.\n"
     ]
    }
   ],
   "source": [
    "no = 3\n",
    "msg = \"My fav no is \" + str(no) + \".\"\n",
    "print(msg)"
   ]
  },
  {
   "cell_type": "markdown",
   "metadata": {},
   "source": [
    "# Comments"
   ]
  },
  {
   "cell_type": "markdown",
   "metadata": {},
   "source": [
    "A comment allows you to write notes in English within your programs.\n",
    "the hash mark (#) indicates a comment."
   ]
  },
  {
   "cell_type": "code",
   "execution_count": 20,
   "metadata": {},
   "outputs": [
    {
     "name": "stdout",
     "output_type": "stream",
     "text": [
      "You Doing great and i love u\n"
     ]
    }
   ],
   "source": [
    "# Hi Sara\n",
    "print(\"You Doing great and i love u\")"
   ]
  },
  {
   "cell_type": "markdown",
   "metadata": {},
   "source": [
    "2-10. Adding Comments: Choose two of the programs you’ve written, and\n",
    "add at least one comment to each. If you don’t have anything specific to write\n",
    "because your programs are too simple at this point, just add your name and\n",
    "the current date at the top of each program file. Then write one sentence\n",
    "describing what the program does."
   ]
  },
  {
   "cell_type": "code",
   "execution_count": 21,
   "metadata": {},
   "outputs": [
    {
     "name": "stdout",
     "output_type": "stream",
     "text": [
      "15\n",
      "19\n"
     ]
    }
   ],
   "source": [
    "#Simple Addition program\n",
    "print(6 + 9)\n",
    "\n",
    "#Addition Program using fxn.\n",
    "#Take an array of nos and add them using sum() fxn\n",
    "\n",
    "array = [1,6,8,4]\n",
    "print(sum(array))"
   ]
  },
  {
   "cell_type": "markdown",
   "metadata": {},
   "source": [
    "If you have a choice between a simple and a complex solution, and both\n",
    "work, use the simple solution. Your code will be easier to maintain, and it\n",
    "will be easier for you and others to build on that code later on."
   ]
  },
  {
   "cell_type": "markdown",
   "metadata": {},
   "source": [
    "Don’t try to write perfect code; write code that works, and then\n",
    "decide whether to improve your code for that project or move on to something new."
   ]
  }
 ],
 "metadata": {
  "kernelspec": {
   "display_name": "Python 3",
   "language": "python",
   "name": "python3"
  },
  "language_info": {
   "codemirror_mode": {
    "name": "ipython",
    "version": 3
   },
   "file_extension": ".py",
   "mimetype": "text/x-python",
   "name": "python",
   "nbconvert_exporter": "python",
   "pygments_lexer": "ipython3",
   "version": "3.8.5"
  }
 },
 "nbformat": 4,
 "nbformat_minor": 4
}
